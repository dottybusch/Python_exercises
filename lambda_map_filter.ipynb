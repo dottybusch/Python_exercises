{
  "nbformat": 4,
  "nbformat_minor": 0,
  "metadata": {
    "colab": {
      "provenance": [],
      "collapsed_sections": [
        "2-RxTDT42zi9",
        "XF_wX7PAT8yf",
        "c6buUiHrXs2l"
      ],
      "include_colab_link": true
    },
    "kernelspec": {
      "name": "python3",
      "display_name": "Python 3"
    },
    "language_info": {
      "name": "python"
    }
  },
  "cells": [
    {
      "cell_type": "markdown",
      "metadata": {
        "id": "view-in-github",
        "colab_type": "text"
      },
      "source": [
        "<a href=\"https://colab.research.google.com/github/dottybusch/exercises/blob/main/lambda_map_filter.ipynb\" target=\"_parent\"><img src=\"https://colab.research.google.com/assets/colab-badge.svg\" alt=\"Open In Colab\"/></a>"
      ]
    },
    {
      "cell_type": "markdown",
      "source": [
        "# The lambda function in Python\n",
        "\n",
        "The default way to define a function in Python is:\n",
        "```\n",
        "def function_name(parameters):\n",
        "  return value\n",
        "```\n",
        "\n",
        "And then the function is called:\n",
        "```\n",
        "function_name(arguments)\n",
        "OR\n",
        "var = function_name(arguments)\n",
        "```\n",
        "\n",
        "The `Lambda` function in Python is a small, anonymous function that can be used instead of the traditional functions. It is useful for small operations and can save space and time.\n",
        "\n",
        "Syntax:\n",
        "```\n",
        "lambda arguments: expression\n",
        "```\n",
        "\n",
        "Limitations: Lambda functions can only contain a single expression"
      ],
      "metadata": {
        "id": "2-RxTDT42zi9"
      }
    },
    {
      "cell_type": "code",
      "execution_count": 1,
      "metadata": {
        "id": "fTqxCHS02r4O",
        "outputId": "5d7576f2-6f1b-4dd2-a97a-7c6c153ebd8b",
        "colab": {
          "base_uri": "https://localhost:8080/"
        }
      },
      "outputs": [
        {
          "output_type": "stream",
          "name": "stdout",
          "text": [
            "4\n"
          ]
        }
      ],
      "source": [
        "# Example 1\n",
        "my_lambda_func = lambda x: x**2\n",
        "print(my_lambda_func(2))"
      ]
    },
    {
      "cell_type": "code",
      "source": [
        "# Example 2\n",
        "my_lambda_func = lambda x, y: x**y\n",
        "print(my_lambda_func(2, 3))"
      ],
      "metadata": {
        "id": "sF9iZ4rUGtVE",
        "outputId": "0973bcb8-583f-47b5-d8d3-fee83ed022a1",
        "colab": {
          "base_uri": "https://localhost:8080/"
        }
      },
      "execution_count": 2,
      "outputs": [
        {
          "output_type": "stream",
          "name": "stdout",
          "text": [
            "8\n"
          ]
        }
      ]
    },
    {
      "cell_type": "code",
      "source": [
        "# Example 3\n",
        "my_lambda_func = lambda x, y, z: x + y + z\n",
        "print(my_lambda_func(1, 2, 3))"
      ],
      "metadata": {
        "id": "xGKPoGt1Gyhe",
        "outputId": "0ac98288-6d2d-4a64-f6bf-f3240ab359cb",
        "colab": {
          "base_uri": "https://localhost:8080/"
        }
      },
      "execution_count": 3,
      "outputs": [
        {
          "output_type": "stream",
          "name": "stdout",
          "text": [
            "6\n"
          ]
        }
      ]
    },
    {
      "cell_type": "code",
      "source": [
        "# Example 4\n",
        "my_lambda_func = lambda str_arg: str_arg.upper()\n",
        "print(my_lambda_func(\"hello world\"))"
      ],
      "metadata": {
        "id": "GHnoG0IyG28d",
        "outputId": "dbb8e9d5-c477-4281-bfec-8055c7e07521",
        "colab": {
          "base_uri": "https://localhost:8080/"
        }
      },
      "execution_count": 4,
      "outputs": [
        {
          "output_type": "stream",
          "name": "stdout",
          "text": [
            "HELLO WORLD\n"
          ]
        }
      ]
    },
    {
      "cell_type": "markdown",
      "source": [
        "Lambda functions are powerful when you want to increase the reusability of a function further.\\\n",
        "These anonymous functions can be used inside other traditional functions to maximize their functionality"
      ],
      "metadata": {
        "id": "RhPCYke6HHVV"
      }
    },
    {
      "cell_type": "code",
      "source": [
        "# Define a function that takes one argument\n",
        "# The argument value will be multiplied by an unknown number\n",
        "def myFunc(n):\n",
        "  return lambda a: a * n"
      ],
      "metadata": {
        "id": "9qTBe9dKRf9O"
      },
      "execution_count": null,
      "outputs": []
    },
    {
      "cell_type": "markdown",
      "source": [
        "The above function can now be used to create customized functions"
      ],
      "metadata": {
        "id": "CKnG1H0kSHDg"
      }
    },
    {
      "cell_type": "code",
      "source": [
        "# Let's create a \"doubler\" to double any value it gets\n",
        "doubler = myFunc(2)\n",
        "\n",
        "input_num = int(input('Enter a number to be doubled: '))\n",
        "print(f'{input_num} doubled is {doubler(input_num)}')"
      ],
      "metadata": {
        "id": "ogPEkCtJSFIk"
      },
      "execution_count": null,
      "outputs": []
    },
    {
      "cell_type": "code",
      "source": [
        "# Now create a quadrupler to multiply input value by 4\n",
        "quadrupler = myFunc(4)\n",
        "\n",
        "input_num = int(input('Enter a number to be quadrupled: '))\n",
        "print(f'{input_num} quadrupled is {quadrupler(input_num)}')"
      ],
      "metadata": {
        "id": "ldcN4l60SteN"
      },
      "execution_count": null,
      "outputs": []
    },
    {
      "cell_type": "code",
      "source": [
        "# Try creating a quintipler, and sextupler functions\n",
        "quintipler = ...\n",
        "sextupler = ...\n",
        "\n",
        "# Ask to enter a number that should be both quintipled and sextupled"
      ],
      "metadata": {
        "id": "X2MSjCq_S0Sc"
      },
      "execution_count": null,
      "outputs": []
    },
    {
      "cell_type": "markdown",
      "source": [
        "# The Map function in Python\n",
        "\n",
        "The `map()` function executes a specified function for each item in an iterable. The item is sent to the function as an parameter.\n",
        "\n",
        "Syntax:\n",
        "```\n",
        "map(function, iterables)\n",
        "\n",
        "# function can also be a lambda function\n",
        "# iterables can be list, range, tuple\n",
        "```\n",
        "The map() returns a **map** object, that can be converted to a list."
      ],
      "metadata": {
        "id": "XF_wX7PAT8yf"
      }
    },
    {
      "cell_type": "code",
      "source": [
        "# Example 1\n",
        "def squaremenator(n):\n",
        "  return n * n\n",
        "\n",
        "# Pass a tuple as iterable\n",
        "my_map_obj = map(squaremenator, (1, 2, 3, 4, 5))\n",
        "print(f'my_map_obj: {my_map_obj}')\n",
        "print()\n",
        "my_map_list = list(my_map_obj)\n",
        "print(f'my_map_list: {my_map_list}')"
      ],
      "metadata": {
        "id": "dhbYJPQ1TemF"
      },
      "execution_count": null,
      "outputs": []
    },
    {
      "cell_type": "code",
      "source": [
        "# Example 1\n",
        "def squaremenator(n):\n",
        "  return n * n\n",
        "\n",
        "# Pass a list as iterable\n",
        "my_map_obj = map(squaremenator, [1, 2, 3, 4, 5])\n",
        "print(f'my_map_obj: {my_map_obj}')\n",
        "print()\n",
        "my_map_list = list(my_map_obj)\n",
        "print(f'my_map_list: {my_map_list}')"
      ],
      "metadata": {
        "id": "4SEpiYMmV9b8"
      },
      "execution_count": null,
      "outputs": []
    },
    {
      "cell_type": "code",
      "source": [
        "# Example 1\n",
        "def squaremenator(n):\n",
        "  return n * n\n",
        "\n",
        "# Pass a range as iterable\n",
        "my_map_obj = map(squaremenator, range(1,6))\n",
        "print(f'my_map_obj: {my_map_obj}')\n",
        "print()\n",
        "my_map_list = list(my_map_obj)\n",
        "print(f'my_map_list: {my_map_list}')"
      ],
      "metadata": {
        "id": "MF1ry-WAWAN0"
      },
      "execution_count": null,
      "outputs": []
    },
    {
      "cell_type": "code",
      "source": [
        "# Example 2\n",
        "\n",
        "list_f_names = ['Paula', 'Theresa Marie', 'Dörthe']\n",
        "list_l_names = ['Liczbanska', 'Jaddock', 'Busch']\n",
        "\n",
        "# Define concatenation function\n",
        "def concat_names(f_name, l_name):\n",
        "  return f_name + ' ' + l_name\n",
        "\n",
        "# map() with concat_names on list_f_names and list_l_names\n",
        "concat_names = list(map(concat_names, list_f_names, list_l_names))\n",
        "print(concat_names)"
      ],
      "metadata": {
        "id": "ly5SohEfWHp_"
      },
      "execution_count": null,
      "outputs": []
    },
    {
      "cell_type": "markdown",
      "source": [
        "The above example can be further reduced by combining both `map()` and `lambda`.\n",
        "\n",
        "The lambda function will be passed as the `function` parameter"
      ],
      "metadata": {
        "id": "_lVlySbKXQmy"
      }
    },
    {
      "cell_type": "code",
      "source": [
        "# Example: map() + lambda\n",
        "\n",
        "list_f_names = ['Paula', 'Theresa Marie', 'Dörthe']\n",
        "list_l_names = ['Liczbanska', 'Jaddock', 'Busch']\n",
        "\n",
        "# map() with lambda on list_f_names and list_l_names\n",
        "concat_names = list(map(lambda x, y: x + ' ' + y, list_f_names, list_l_names))\n",
        "print(concat_names)"
      ],
      "metadata": {
        "id": "wMnQ1feuXNp2"
      },
      "execution_count": null,
      "outputs": []
    },
    {
      "cell_type": "markdown",
      "source": [
        "# The Filter function in Python\n",
        "\n",
        "The `filter()` function returns an iterator where the items are filtered through a function to test if the item is accepted or not.\n",
        "\n",
        "Syntax:\n",
        "```\n",
        "filter(function, iterable)\n",
        "\n",
        "# function must return a Boolean value\n",
        "# function can also be a lambda function\n",
        "# iterables can be list, range, tuple\n",
        "```\n",
        "\n"
      ],
      "metadata": {
        "id": "c6buUiHrXs2l"
      }
    },
    {
      "cell_type": "code",
      "source": [
        "# Example 1\n",
        "\n",
        "num_range = range(-10,11)\n",
        "\n",
        "def filter_negative(iter_item):\n",
        "  if iter_item > 0:\n",
        "    return True\n",
        "  else:\n",
        "    return False\n",
        "\n",
        "filter_obj = filter(filter_negative, num_range)\n",
        "print(f'filter_obj: {filter_obj}')\n",
        "print()\n",
        "filter_list = list(filter_obj)\n",
        "print(f'filter_list: {filter_list}')"
      ],
      "metadata": {
        "id": "tfucXDVDY6FO"
      },
      "execution_count": null,
      "outputs": []
    },
    {
      "cell_type": "code",
      "source": [
        "# With lambda\n",
        "filter_list = list(filter(lambda x: x > 0, range(-10,11)))\n",
        "print(f'filter_list: {filter_list}')"
      ],
      "metadata": {
        "id": "ZlWNXnAjZ979"
      },
      "execution_count": null,
      "outputs": []
    }
  ]
}
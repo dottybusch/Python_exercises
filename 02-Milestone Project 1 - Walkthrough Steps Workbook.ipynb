{
  "cells": [
    {
      "cell_type": "markdown",
      "metadata": {
        "id": "iiLcBzmHUm14"
      },
      "source": [
        "___\n",
        "\n",
        "<a href='https://www.udemy.com/user/joseportilla/'><img src='../Pierian_Data_Logo.png'/></a>\n",
        "___\n",
        "<center><em>Content Copyright by Pierian Data</em></center>"
      ]
    },
    {
      "cell_type": "markdown",
      "metadata": {
        "id": "vub7zuskUm17"
      },
      "source": [
        "# Milestone Project 1: Walkthrough Steps Workbook\n",
        "\n",
        "Below is a set of steps for you to follow to try to create the Tic Tac Toe Milestone Project game!"
      ]
    },
    {
      "cell_type": "markdown",
      "metadata": {
        "id": "ZVxYrvBCUm17"
      },
      "source": [
        "#### Some suggested tools before you get started:\n",
        "To take input from a user:\n",
        "\n",
        "    player1 = input(\"Please pick a marker 'X' or 'O'\")\n",
        "    \n",
        "Note that input() takes in a string. If you need an integer value, use\n",
        "\n",
        "    position = int(input('Please enter a number'))\n",
        "    \n",
        "<br>To clear the screen between moves:\n",
        "\n",
        "    from IPython.display import clear_output\n",
        "    clear_output()\n",
        "    \n",
        "Note that clear_output() will only work in jupyter. To clear the screen in other IDEs, consider:\n",
        "\n",
        "    print('\\n'*100)\n",
        "    \n",
        "This scrolls the previous board up out of view. Now on to the program!"
      ]
    },
    {
      "cell_type": "markdown",
      "metadata": {
        "id": "WwynFFgYUm18"
      },
      "source": [
        "**Step 1: Write a function that can print out a board. Set up your board as a list, where each index 1-9 corresponds with a number on a number pad, so you get a 3 by 3 board representation.**"
      ]
    },
    {
      "cell_type": "code",
      "execution_count": null,
      "metadata": {
        "collapsed": true,
        "id": "bkleTS0DUm18"
      },
      "outputs": [],
      "source": [
        "def display_board(board):\n",
        "    from IPython.display import clear_output\n",
        "    clear_output()\n",
        "    print(\"\",board[1],\"|\",board[2],\"|\",board[3],\"\")\n",
        "    print(\"--- --- ---\")\n",
        "    print(\"\",board[4],\"|\",board[5],\"|\",board[6],\"\")\n",
        "    print(\"--- --- ---\")\n",
        "    print(\"\",board[7],\"|\",board[8],\"|\",board[9],\"\")"
      ]
    },
    {
      "cell_type": "markdown",
      "metadata": {
        "id": "V1pH59xIUm19"
      },
      "source": [
        "**TEST Step 1:** run your function on a test version of the board list, and make adjustments as necessary"
      ]
    },
    {
      "cell_type": "code",
      "execution_count": null,
      "metadata": {
        "collapsed": true,
        "id": "3pUQxxl4Um19",
        "colab": {
          "base_uri": "https://localhost:8080/"
        },
        "outputId": "ed66e0ad-d494-494f-f507-4571156b719c"
      },
      "outputs": [
        {
          "output_type": "stream",
          "name": "stdout",
          "text": [
            " X | O | X \n",
            "--- --- ---\n",
            " O | X | O \n",
            "--- --- ---\n",
            " X | O | X \n"
          ]
        }
      ],
      "source": [
        "test_board = ['#','X','O','X','O','X','O','X','O','X']\n",
        "display_board(test_board)"
      ]
    },
    {
      "cell_type": "markdown",
      "metadata": {
        "id": "ue5IOi6zUm19"
      },
      "source": [
        "**Step 2: Write a function that can take in a player input and assign their marker as 'X' or 'O'. Think about using *while* loops to continually ask until you get a correct answer.**"
      ]
    },
    {
      "cell_type": "code",
      "execution_count": null,
      "metadata": {
        "collapsed": true,
        "id": "eO6lY6rbUm1-"
      },
      "outputs": [],
      "source": [
        "def player_input():\n",
        "    marker = {1:'',2:''}\n",
        "\n",
        "    while marker[1] not in ['X', 'O']:\n",
        "      marker[1] = input(\"Player 1: Do you want to be X or O? \")\n",
        "      marker[1] = marker[1].upper()\n",
        "\n",
        "      if marker[1] not in ['X','O']:\n",
        "        print(\"Sorry, your input is invalid. Please select X or O.\")\n",
        "\n",
        "    if marker[1] == 'X':\n",
        "      marker[2] = 'O'\n",
        "    else:\n",
        "      marker[2] = 'X'\n",
        "\n",
        "    print(f'Okay, Player 1 will play as {marker[1]} and Player 2 will play as {marker[2]}.')\n",
        "    return marker"
      ]
    },
    {
      "cell_type": "markdown",
      "metadata": {
        "id": "aMcXo6r5Um1-"
      },
      "source": [
        "**TEST Step 2:** run the function to make sure it returns the desired output"
      ]
    },
    {
      "cell_type": "code",
      "execution_count": null,
      "metadata": {
        "collapsed": true,
        "id": "z7WAQgPKUm1-",
        "colab": {
          "base_uri": "https://localhost:8080/",
          "height": 73
        },
        "outputId": "2e466d6d-f58d-45e1-b14f-b3830b7fb172"
      },
      "outputs": [
        {
          "output_type": "stream",
          "name": "stdout",
          "text": [
            "Player 1: Do you want to be X or O? o\n",
            "Okay, Player 1 will play as O and Player 2 will play as X.\n"
          ]
        },
        {
          "output_type": "execute_result",
          "data": {
            "text/plain": [
              "'X'"
            ],
            "application/vnd.google.colaboratory.intrinsic+json": {
              "type": "string"
            }
          },
          "metadata": {},
          "execution_count": 15
        }
      ],
      "source": [
        "player_input()[2]"
      ]
    },
    {
      "cell_type": "markdown",
      "metadata": {
        "id": "wQDx0nllUm1-"
      },
      "source": [
        "**Step 3: Write a function that takes in the board list object, a marker ('X' or 'O'), and a desired position (number 1-9) and assigns it to the board.**"
      ]
    },
    {
      "cell_type": "code",
      "execution_count": null,
      "metadata": {
        "collapsed": true,
        "id": "PCo1oF-EUm1_"
      },
      "outputs": [],
      "source": [
        "def place_marker(board, marker, position):\n",
        "\n",
        "    board[position] = marker\n",
        "    return board"
      ]
    },
    {
      "cell_type": "markdown",
      "metadata": {
        "id": "C8KTvl5GUm1_"
      },
      "source": [
        "**TEST Step 3:** run the place marker function using test parameters and display the modified board"
      ]
    },
    {
      "cell_type": "code",
      "execution_count": null,
      "metadata": {
        "collapsed": true,
        "id": "ZcndTVzhUm1_",
        "colab": {
          "base_uri": "https://localhost:8080/"
        },
        "outputId": "114dc94e-dcd3-458e-9672-86d5b6c8e923"
      },
      "outputs": [
        {
          "output_type": "stream",
          "name": "stdout",
          "text": [
            " X | O | X \n",
            "--- --- ---\n",
            " O | X | O \n",
            "--- --- ---\n",
            " X | $ | X \n"
          ]
        }
      ],
      "source": [
        "place_marker(test_board,'$',8)\n",
        "display_board(test_board)"
      ]
    },
    {
      "cell_type": "markdown",
      "metadata": {
        "id": "H5yHNtfvUm1_"
      },
      "source": [
        "**Step 4: Write a function that takes in a board and a mark (X or O) and then checks to see if that mark has won. **"
      ]
    },
    {
      "cell_type": "code",
      "execution_count": null,
      "metadata": {
        "collapsed": true,
        "id": "g2KnkSOWUm1_"
      },
      "outputs": [],
      "source": [
        "def win_check(board, mark):\n",
        "\n",
        "    won = False\n",
        "    if board[1] == mark and board[2] == mark and board[3] == mark:\n",
        "      won = True\n",
        "    elif board[4] == mark and board[5] == mark and board[6] == mark:\n",
        "      won = True\n",
        "    elif board[7] == mark and board[8] == mark and board[9] == mark:\n",
        "      won = True\n",
        "    elif board[1] == mark and board[4] == mark and board[7] == mark:\n",
        "      won = True\n",
        "    elif board[2] == mark and board[5] == mark and board[8] == mark:\n",
        "      won = True\n",
        "    elif board[3] == mark and board[6] == mark and board[9] == mark:\n",
        "      won = True\n",
        "    elif board[1] == mark and board[5] == mark and board[9] == mark:\n",
        "      won = True\n",
        "    elif board[3] == mark and board[5] == mark and board[7] == mark:\n",
        "      won = True\n",
        "    else:\n",
        "      won = False\n",
        "    return won"
      ]
    },
    {
      "cell_type": "markdown",
      "metadata": {
        "id": "pbb7pYmHUm1_"
      },
      "source": [
        "**TEST Step 4:** run the win_check function against our test_board - it should return True"
      ]
    },
    {
      "cell_type": "code",
      "execution_count": null,
      "metadata": {
        "collapsed": true,
        "id": "1hvwPZWEUm2A",
        "colab": {
          "base_uri": "https://localhost:8080/"
        },
        "outputId": "6b9be586-f92c-45ca-c191-dbcbb40081a7"
      },
      "outputs": [
        {
          "output_type": "execute_result",
          "data": {
            "text/plain": [
              "True"
            ]
          },
          "metadata": {},
          "execution_count": 19
        }
      ],
      "source": [
        "win_check(test_board,'X')"
      ]
    },
    {
      "cell_type": "markdown",
      "metadata": {
        "id": "dYSuH66xUm2A"
      },
      "source": [
        "**Step 5: Write a function that uses the random module to randomly decide which player goes first. You may want to lookup random.randint() Return a string of which player went first.**"
      ]
    },
    {
      "cell_type": "code",
      "execution_count": null,
      "metadata": {
        "collapsed": true,
        "id": "-aKgZkcwUm2A"
      },
      "outputs": [],
      "source": [
        "def choose_first():\n",
        "    import random\n",
        "    turn = ''\n",
        "    if random.randint(1,2) == 1:\n",
        "      print(\"Player 1 will start.\")\n",
        "      turn = 1\n",
        "    else:\n",
        "      print(\"Player 2 will start.\")\n",
        "      turn = 2\n",
        "    return turn"
      ]
    },
    {
      "cell_type": "markdown",
      "metadata": {
        "id": "6X0EiJoYUm2A"
      },
      "source": [
        "**Step 6: Write a function that returns a boolean indicating whether a space on the board is freely available.**"
      ]
    },
    {
      "cell_type": "code",
      "execution_count": null,
      "metadata": {
        "collapsed": true,
        "id": "7_ZyccaiUm2A"
      },
      "outputs": [],
      "source": [
        "def space_check(board, position):\n",
        "\n",
        "    return board[position] == ' '"
      ]
    },
    {
      "cell_type": "markdown",
      "metadata": {
        "id": "bBjGtd94Um2B"
      },
      "source": [
        "**Step 7: Write a function that checks if the board is full and returns a boolean value. True if full, False otherwise.**"
      ]
    },
    {
      "cell_type": "code",
      "execution_count": null,
      "metadata": {
        "collapsed": true,
        "id": "AOMRUMxvUm2B"
      },
      "outputs": [],
      "source": [
        "def full_board_check(board):\n",
        "\n",
        "    return ' ' not in board"
      ]
    },
    {
      "cell_type": "markdown",
      "metadata": {
        "id": "RVi_Qkv6Um2B"
      },
      "source": [
        "**Step 8: Write a function that asks for a player's next position (as a number 1-9) and then uses the function from step 6 to check if it's a free position. If it is, then return the position for later use.**"
      ]
    },
    {
      "cell_type": "code",
      "execution_count": null,
      "metadata": {
        "collapsed": true,
        "id": "VcWYxej0Um2B"
      },
      "outputs": [],
      "source": [
        "def player_choice(board):\n",
        "  position = 'x'\n",
        "  position_free = False\n",
        "  acceptable_input = ['1','2','3','4','5','6','7','8','9']\n",
        "  while position_free == False:\n",
        "      position = input(\"Where do you want to place your mark? (1 is upper left and 9 is lower right) \")\n",
        "      if position not in acceptable_input or position.isdigit() == False:\n",
        "        print(\"This value is either not a number or it is not in range. Please enter a value between 1 and 9.\")\n",
        "\n",
        "      if space_check(board, int(position)) == True:\n",
        "        position_free == True\n",
        "        position = int(position)\n",
        "        return position\n",
        "      else:\n",
        "        print(\"This position is not free.\")"
      ]
    },
    {
      "cell_type": "markdown",
      "metadata": {
        "id": "HsB7HpSdUm2B"
      },
      "source": [
        "**Step 9: Write a function that asks the player if they want to play again and returns a boolean True if they do want to play again.**"
      ]
    },
    {
      "cell_type": "code",
      "execution_count": null,
      "metadata": {
        "collapsed": true,
        "id": "xLO2VdwSUm2B"
      },
      "outputs": [],
      "source": [
        "def replay():\n",
        "  play_again = 'Wrong'\n",
        "  while play_again not in ['Y','N']:\n",
        "    play_again = input(\"Do you want to play again? (Y/N) \").upper()\n",
        "    if play_again not in ['Y','N']:\n",
        "      print(\"Sorry, I don't understand. \")\n",
        "  return play_again == 'Y'"
      ]
    },
    {
      "cell_type": "markdown",
      "metadata": {
        "collapsed": true,
        "id": "NeYIR4QgUm2C"
      },
      "source": [
        "**Step 10: Here comes the hard part! Use while loops and the functions you've made to run the game!**"
      ]
    },
    {
      "cell_type": "code",
      "execution_count": null,
      "metadata": {
        "collapsed": true,
        "id": "ZdVwG5AWUm2C"
      },
      "outputs": [],
      "source": [
        "while True:\n",
        "\n",
        "  board = ['#',' ',' ',' ',' ',' ',' ',' ',' ',' ']\n",
        "  display_board(board)\n",
        "  marker = player_input()\n",
        "  turn = choose_first()\n",
        "  game_on = True\n",
        "\n",
        "  while game_on == True:\n",
        "    print(f'Player {turn}: ')\n",
        "    position = player_choice(board)\n",
        "    if space_check(board, position) == True:\n",
        "      place_marker(board,marker[turn],position)\n",
        "      display_board(board)\n",
        "    if win_check(board,marker[turn]) == True:\n",
        "      print(f'Player {turn} wins!')\n",
        "      game_on = False\n",
        "    elif full_board_check(board) == True:\n",
        "      print(\"You are tied!\")\n",
        "      game_on = False\n",
        "    else:\n",
        "      if turn == 1:\n",
        "        turn = 2\n",
        "      else:\n",
        "        turn = 1\n",
        "  game_on = replay()"
      ]
    },
    {
      "cell_type": "markdown",
      "metadata": {
        "collapsed": true,
        "id": "2gFLNwLjUm2C"
      },
      "source": [
        "## Good Job!"
      ]
    }
  ],
  "metadata": {
    "kernelspec": {
      "display_name": "Python 3",
      "language": "python",
      "name": "python3"
    },
    "language_info": {
      "codemirror_mode": {
        "name": "ipython",
        "version": 3
      },
      "file_extension": ".py",
      "mimetype": "text/x-python",
      "name": "python",
      "nbconvert_exporter": "python",
      "pygments_lexer": "ipython3",
      "version": "3.6.6"
    },
    "colab": {
      "provenance": []
    }
  },
  "nbformat": 4,
  "nbformat_minor": 0
}
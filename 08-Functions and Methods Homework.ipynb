{
  "cells": [
    {
      "cell_type": "markdown",
      "metadata": {
        "id": "fDQk4h4RK5JA"
      },
      "source": [
        "___\n",
        "\n",
        "<a href='https://www.udemy.com/user/joseportilla/'><img src='../Pierian_Data_Logo.png'/></a>\n",
        "___\n",
        "<center><em>Content Copyright by Pierian Data</em></center>"
      ]
    },
    {
      "cell_type": "markdown",
      "metadata": {
        "id": "a3TbYnDuK5JG"
      },
      "source": [
        "# Functions and Methods Homework\n",
        "\n",
        "Complete the following questions:\n",
        "____\n",
        "**Write a function that computes the volume of a sphere given its radius.**\n",
        "<p>The volume of a sphere is given as $$\\frac{4}{3} πr^3$$</p>"
      ]
    },
    {
      "cell_type": "code",
      "execution_count": null,
      "metadata": {
        "collapsed": true,
        "id": "pQNfxKHDK5JH"
      },
      "outputs": [],
      "source": [
        "def vol(rad):\n",
        "    import math\n",
        "    return (4/3)*(math.pi)*(rad**3)"
      ]
    },
    {
      "cell_type": "code",
      "execution_count": null,
      "metadata": {
        "id": "0C4c0QXAK5JI",
        "outputId": "dcf41eea-3ae5-418a-ba39-12efc359309b",
        "colab": {
          "base_uri": "https://localhost:8080/"
        }
      },
      "outputs": [
        {
          "output_type": "execute_result",
          "data": {
            "text/plain": [
              "33.510321638291124"
            ]
          },
          "metadata": {},
          "execution_count": 8
        }
      ],
      "source": [
        "# Check\n",
        "vol(2)"
      ]
    },
    {
      "cell_type": "markdown",
      "metadata": {
        "id": "rF_BByz9K5JJ"
      },
      "source": [
        "___\n",
        "**Write a function that checks whether a number is in a given range (inclusive of high and low)**"
      ]
    },
    {
      "cell_type": "code",
      "execution_count": null,
      "metadata": {
        "collapsed": true,
        "id": "roFRfhGPK5JK"
      },
      "outputs": [],
      "source": [
        "def ran_check(num,low,high):\n",
        "    if num in range(low, high+1):\n",
        "      return \"This number is within the given range.\"\n",
        "    else:\n",
        "      return \"This number is not within the given range.\""
      ]
    },
    {
      "cell_type": "code",
      "execution_count": null,
      "metadata": {
        "id": "E1_dbCQFK5JK",
        "outputId": "72dd02fc-eff8-490b-d87d-6eadd8299f1a",
        "colab": {
          "base_uri": "https://localhost:8080/",
          "height": 37
        }
      },
      "outputs": [
        {
          "output_type": "execute_result",
          "data": {
            "text/plain": [
              "'This number is within the given range.'"
            ],
            "application/vnd.google.colaboratory.intrinsic+json": {
              "type": "string"
            }
          },
          "metadata": {},
          "execution_count": 16
        }
      ],
      "source": [
        "# Check\n",
        "ran_check(5,2,7)"
      ]
    },
    {
      "cell_type": "markdown",
      "metadata": {
        "id": "YdRze7MJK5JL"
      },
      "source": [
        "If you only wanted to return a boolean:"
      ]
    },
    {
      "cell_type": "code",
      "execution_count": null,
      "metadata": {
        "collapsed": true,
        "id": "ANoVjNAQK5JL"
      },
      "outputs": [],
      "source": [
        "def ran_bool(num,low,high):\n",
        "    return num in range(low, high+1)"
      ]
    },
    {
      "cell_type": "code",
      "execution_count": null,
      "metadata": {
        "id": "xAOV82eiK5JL",
        "outputId": "a6a794a0-24a4-4cc7-9711-e31022fef333",
        "colab": {
          "base_uri": "https://localhost:8080/"
        }
      },
      "outputs": [
        {
          "output_type": "execute_result",
          "data": {
            "text/plain": [
              "False"
            ]
          },
          "metadata": {},
          "execution_count": 22
        }
      ],
      "source": [
        "ran_bool(11,1,10)"
      ]
    },
    {
      "cell_type": "markdown",
      "metadata": {
        "id": "T2a4HenaK5JM"
      },
      "source": [
        "____\n",
        "**Write a Python function that accepts a string and calculates the number of upper case letters and lower case letters.**\n",
        "\n",
        "    Sample String : 'Hello Mr. Rogers, how are you this fine Tuesday?'\n",
        "    Expected Output :\n",
        "    No. of Upper case characters : 4\n",
        "    No. of Lower case Characters : 33\n",
        "\n",
        "HINT: Two string methods that might prove useful: **.isupper()** and **.islower()**\n",
        "\n",
        "If you feel ambitious, explore the Collections module to solve this problem!"
      ]
    },
    {
      "cell_type": "code",
      "execution_count": 3,
      "metadata": {
        "collapsed": true,
        "id": "NQmCwsGPK5JM"
      },
      "outputs": [],
      "source": [
        "def up_low(s):\n",
        "    counter_upper = 0\n",
        "    counter_lower = 0\n",
        "    for char in s:\n",
        "      if char.isupper():\n",
        "        counter_upper += 1\n",
        "      elif char.islower():\n",
        "        counter_lower += 1\n",
        "    print(f'{counter_upper} upper case letters and {counter_lower} lower case letters in this string.')\n",
        "\n",
        "    #with dictionary:\n",
        "    #counter = {\"upper\": 0, \"lower\": 0}\n",
        "    #for char in s:\n",
        "    #  if char.isupper():\n",
        "    #    d[\"upper\"] += 1\n",
        "    #  elif char.islower():\n",
        "    #    d[\"lower\"] += 1\n",
        "    #print(f'{d[\"upper\"]} upper case letters and {d[\"lower\"]} lower case letters in this string.')"
      ]
    },
    {
      "cell_type": "code",
      "execution_count": 4,
      "metadata": {
        "id": "brHPQ2SIK5JM",
        "outputId": "e180e4b9-e170-49c2-8187-9d618f47104f",
        "colab": {
          "base_uri": "https://localhost:8080/"
        }
      },
      "outputs": [
        {
          "output_type": "stream",
          "name": "stdout",
          "text": [
            "4 upper case letters and 33 lower case letters in this string.\n"
          ]
        }
      ],
      "source": [
        "s = 'Hello Mr. Rogers, how are you this fine Tuesday?'\n",
        "up_low(s)"
      ]
    },
    {
      "cell_type": "markdown",
      "metadata": {
        "id": "ZFNuFsXzK5JN"
      },
      "source": [
        "____\n",
        "**Write a Python function that takes a list and returns a new list with unique elements of the first list.**\n",
        "\n",
        "    Sample List : [1,1,1,1,2,2,3,3,3,3,4,5]\n",
        "    Unique List : [1, 2, 3, 4, 5]"
      ]
    },
    {
      "cell_type": "code",
      "execution_count": 5,
      "metadata": {
        "collapsed": true,
        "id": "WuCrEHCTK5JN"
      },
      "outputs": [],
      "source": [
        "def unique_list(lst):\n",
        "  return list(set(lst))\n",
        "\n",
        "  #seen_numbers = []\n",
        "  #for number in lst:\n",
        "  #    if number not in seen_numbers:\n",
        "  #       seen_numbers.append(number)\n",
        "  #return seen_numbers"
      ]
    },
    {
      "cell_type": "code",
      "execution_count": 6,
      "metadata": {
        "id": "pxKTgZxLK5JN",
        "outputId": "796e974c-2b91-4ec2-b052-e429b09223bc",
        "colab": {
          "base_uri": "https://localhost:8080/"
        }
      },
      "outputs": [
        {
          "output_type": "execute_result",
          "data": {
            "text/plain": [
              "[1, 2, 3, 4, 5]"
            ]
          },
          "metadata": {},
          "execution_count": 6
        }
      ],
      "source": [
        "unique_list([1,1,1,1,2,2,3,3,3,3,4,5])"
      ]
    },
    {
      "cell_type": "markdown",
      "metadata": {
        "id": "PASxBGtGK5JN"
      },
      "source": [
        "____\n",
        "**Write a Python function to multiply all the numbers in a list.**\n",
        "\n",
        "    Sample List : [1, 2, 3, -4]\n",
        "    Expected Output : -24"
      ]
    },
    {
      "cell_type": "code",
      "execution_count": 7,
      "metadata": {
        "collapsed": true,
        "id": "tMRW4lZcK5JN"
      },
      "outputs": [],
      "source": [
        "def multiply(numbers):\n",
        "  result = 1\n",
        "  for item in numbers:\n",
        "    result = result*item\n",
        "  print(result)"
      ]
    },
    {
      "cell_type": "code",
      "execution_count": 8,
      "metadata": {
        "id": "PzqblwvPK5JO",
        "outputId": "0df509db-b656-4930-bafa-d3301cfc5a0f",
        "colab": {
          "base_uri": "https://localhost:8080/"
        }
      },
      "outputs": [
        {
          "output_type": "stream",
          "name": "stdout",
          "text": [
            "-24\n"
          ]
        }
      ],
      "source": [
        "multiply([1,2,3,-4])"
      ]
    },
    {
      "cell_type": "markdown",
      "metadata": {
        "id": "o4VsSD3qK5JO"
      },
      "source": [
        "____\n",
        "**Write a Python function that checks whether a word or phrase is palindrome or not.**\n",
        "\n",
        "Note: A palindrome is word, phrase, or sequence that reads the same backward as forward, e.g., madam,kayak,racecar, or a phrase \"nurses run\". Hint: You may want to check out the .replace() method in a string to help out with dealing with spaces. Also google search how to reverse a string in Python, there are some clever ways to do it with slicing notation."
      ]
    },
    {
      "cell_type": "code",
      "execution_count": null,
      "metadata": {
        "collapsed": true,
        "id": "A8Xez003K5JO"
      },
      "outputs": [],
      "source": [
        "def palindrome(s):\n",
        "  s= s.replace(' ','')\n",
        "  return s[::-1] == s"
      ]
    },
    {
      "cell_type": "code",
      "execution_count": null,
      "metadata": {
        "id": "DhEO3-ODK5JO",
        "outputId": "7217c3e5-6374-4aed-f7da-8548fc45f587",
        "colab": {
          "base_uri": "https://localhost:8080/"
        }
      },
      "outputs": [
        {
          "output_type": "execute_result",
          "data": {
            "text/plain": [
              "True"
            ]
          },
          "metadata": {},
          "execution_count": 84
        }
      ],
      "source": [
        "palindrome('madam')"
      ]
    },
    {
      "cell_type": "markdown",
      "metadata": {
        "id": "CrqL6uYtK5JO"
      },
      "source": [
        "____\n",
        "#### Hard:\n",
        "\n",
        "**Write a Python function to check whether a string is pangram or not. (Assume the string passed in does not have any punctuation)**\n",
        "\n",
        "    Note : Pangrams are words or sentences containing every letter of the alphabet at least once.\n",
        "    For example : \"The quick brown fox jumps over the lazy dog\"\n",
        "\n",
        "Hint: You may want to use .replace() method to get rid of spaces.\n",
        "\n",
        "Hint: Look at the [string module](https://stackoverflow.com/questions/16060899/alphabet-range-in-python)\n",
        "\n",
        "Hint: In case you want to use [set comparisons](https://medium.com/better-programming/a-visual-guide-to-set-comparisons-in-python-6ab7edb9ec41)"
      ]
    },
    {
      "cell_type": "code",
      "execution_count": 15,
      "metadata": {
        "collapsed": true,
        "id": "OWBnCHwVK5JO"
      },
      "outputs": [],
      "source": [
        "import string\n",
        "\n",
        "def ispangram(str1, alphabet=string.ascii_lowercase):\n",
        "    #str1 = str1.lower()\n",
        "    #str1 = str1.replace(' ','')\n",
        "    #alpha_list = []\n",
        "    #str_list = []\n",
        "    #for letter in str1:\n",
        "    #  str_list.append(letter)\n",
        "    #str_list.sort()\n",
        "    #for letter in alphabet:\n",
        "    #  alpha_list.append(letter)\n",
        "    #alpha_list.sort()\n",
        "    #return set(alpha_list) == set(str_list)\n",
        "\n",
        "    str1 = str1.replace(' ','')\n",
        "    str1 = str1.lower()\n",
        "\n",
        "    return set(alphabet) == set(str1)"
      ]
    },
    {
      "cell_type": "code",
      "execution_count": 16,
      "metadata": {
        "id": "PnzY-NdOK5JP",
        "outputId": "c0f44f2d-edc3-45b8-de4a-a1f07ad5960a",
        "colab": {
          "base_uri": "https://localhost:8080/"
        }
      },
      "outputs": [
        {
          "output_type": "execute_result",
          "data": {
            "text/plain": [
              "True"
            ]
          },
          "metadata": {},
          "execution_count": 16
        }
      ],
      "source": [
        "ispangram(\"The quick brown fox jumps over the lazy dog\")"
      ]
    },
    {
      "cell_type": "code",
      "execution_count": null,
      "metadata": {
        "id": "nIJdrHmOK5JP",
        "outputId": "9d244438-aeb1-400c-be21-5e618fa8b91f",
        "colab": {
          "base_uri": "https://localhost:8080/",
          "height": 37
        }
      },
      "outputs": [
        {
          "output_type": "execute_result",
          "data": {
            "text/plain": [
              "'abcdefghijklmnopqrstuvwxyz'"
            ],
            "application/vnd.google.colaboratory.intrinsic+json": {
              "type": "string"
            }
          },
          "metadata": {},
          "execution_count": 145
        }
      ],
      "source": [
        "string.ascii_lowercase"
      ]
    },
    {
      "cell_type": "markdown",
      "metadata": {
        "collapsed": true,
        "id": "vpGRN9isK5JP"
      },
      "source": [
        "#### Great Job!"
      ]
    }
  ],
  "metadata": {
    "kernelspec": {
      "display_name": "Python 3",
      "language": "python",
      "name": "python3"
    },
    "language_info": {
      "codemirror_mode": {
        "name": "ipython",
        "version": 3
      },
      "file_extension": ".py",
      "mimetype": "text/x-python",
      "name": "python",
      "nbconvert_exporter": "python",
      "pygments_lexer": "ipython3",
      "version": "3.6.6"
    },
    "colab": {
      "provenance": []
    }
  },
  "nbformat": 4,
  "nbformat_minor": 0
}
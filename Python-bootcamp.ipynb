{
  "nbformat": 4,
  "nbformat_minor": 0,
  "metadata": {
    "colab": {
      "provenance": []
    },
    "kernelspec": {
      "name": "python3",
      "display_name": "Python 3"
    },
    "language_info": {
      "name": "python"
    }
  },
  "cells": [
    {
      "cell_type": "code",
      "source": [
        "len('my name is Dorthe')"
      ],
      "metadata": {
        "colab": {
          "base_uri": "https://localhost:8080/"
        },
        "id": "_RjpyM9GukYy",
        "outputId": "b5087d90-da5b-4d72-85d6-423c8b32ca9f"
      },
      "execution_count": null,
      "outputs": [
        {
          "output_type": "execute_result",
          "data": {
            "text/plain": [
              "17"
            ]
          },
          "metadata": {},
          "execution_count": 2
        }
      ]
    },
    {
      "cell_type": "code",
      "source": [
        "print('Title \\n\"Tale of Two Cities\"')"
      ],
      "metadata": {
        "colab": {
          "base_uri": "https://localhost:8080/"
        },
        "id": "W-hkS50c3sLP",
        "outputId": "58cec7b8-9e12-47f9-b6bb-e4e7f3bbd67f"
      },
      "execution_count": null,
      "outputs": [
        {
          "output_type": "stream",
          "name": "stdout",
          "text": [
            "Title \n",
            "\"Tale of Two Cities\"\n"
          ]
        }
      ]
    },
    {
      "cell_type": "code",
      "source": [
        "print('Account number: \\t30404949')"
      ],
      "metadata": {
        "colab": {
          "base_uri": "https://localhost:8080/"
        },
        "id": "2dpufAn2316_",
        "outputId": "5610244b-4cb8-417d-a08d-695c10231281"
      },
      "execution_count": null,
      "outputs": [
        {
          "output_type": "stream",
          "name": "stdout",
          "text": [
            "Account number: \t30404949\n"
          ]
        }
      ]
    },
    {
      "cell_type": "code",
      "source": [
        "7 ** 9"
      ],
      "metadata": {
        "colab": {
          "base_uri": "https://localhost:8080/"
        },
        "id": "o7dYovWi4EBr",
        "outputId": "294c4194-0bfc-4c4e-91c7-7cce529c400d"
      },
      "execution_count": null,
      "outputs": [
        {
          "output_type": "execute_result",
          "data": {
            "text/plain": [
              "40353607"
            ]
          },
          "metadata": {},
          "execution_count": 6
        }
      ]
    },
    {
      "cell_type": "code",
      "source": [
        "90 % 5"
      ],
      "metadata": {
        "colab": {
          "base_uri": "https://localhost:8080/"
        },
        "id": "jerwCTRB4Law",
        "outputId": "49ec17f5-2861-4dc7-e82e-ea5fb81549e0"
      },
      "execution_count": null,
      "outputs": [
        {
          "output_type": "execute_result",
          "data": {
            "text/plain": [
              "0"
            ]
          },
          "metadata": {},
          "execution_count": 7
        }
      ]
    },
    {
      "cell_type": "code",
      "source": [
        "59 % 4"
      ],
      "metadata": {
        "colab": {
          "base_uri": "https://localhost:8080/"
        },
        "id": "LGBAVPtO4N8d",
        "outputId": "720ec82d-c25c-4d66-cda5-aba59bdcb01b"
      },
      "execution_count": null,
      "outputs": [
        {
          "output_type": "execute_result",
          "data": {
            "text/plain": [
              "3"
            ]
          },
          "metadata": {},
          "execution_count": 8
        }
      ]
    },
    {
      "cell_type": "code",
      "source": [
        "a = 2"
      ],
      "metadata": {
        "id": "t0RWjFUe4Qd1"
      },
      "execution_count": null,
      "outputs": []
    },
    {
      "cell_type": "code",
      "source": [
        "a+=2"
      ],
      "metadata": {
        "id": "jMHrFPGe47zX"
      },
      "execution_count": null,
      "outputs": []
    },
    {
      "cell_type": "code",
      "source": [
        "a"
      ],
      "metadata": {
        "colab": {
          "base_uri": "https://localhost:8080/"
        },
        "id": "jDJxRoRB5ENo",
        "outputId": "4fb4ab3d-f83e-4130-945c-fcca46821e5c"
      },
      "execution_count": null,
      "outputs": [
        {
          "output_type": "execute_result",
          "data": {
            "text/plain": [
              "4"
            ]
          },
          "metadata": {},
          "execution_count": 11
        }
      ]
    },
    {
      "cell_type": "code",
      "source": [
        "a+=2"
      ],
      "metadata": {
        "id": "qykdMf8L5E4v"
      },
      "execution_count": null,
      "outputs": []
    },
    {
      "cell_type": "code",
      "source": [
        "a"
      ],
      "metadata": {
        "colab": {
          "base_uri": "https://localhost:8080/"
        },
        "id": "UbV3xaxq5JMP",
        "outputId": "276617e3-b6d2-416b-85ac-4902223337ce"
      },
      "execution_count": null,
      "outputs": [
        {
          "output_type": "execute_result",
          "data": {
            "text/plain": [
              "6"
            ]
          },
          "metadata": {},
          "execution_count": 13
        }
      ]
    },
    {
      "cell_type": "code",
      "source": [
        "a+=6\n",
        "a"
      ],
      "metadata": {
        "colab": {
          "base_uri": "https://localhost:8080/"
        },
        "id": "qerw_Rt_5KHs",
        "outputId": "d0841a29-25bb-4558-8ba1-f503dbbd6563"
      },
      "execution_count": null,
      "outputs": [
        {
          "output_type": "execute_result",
          "data": {
            "text/plain": [
              "12"
            ]
          },
          "metadata": {},
          "execution_count": 14
        }
      ]
    },
    {
      "cell_type": "code",
      "source": [
        "a*=3\n",
        "a"
      ],
      "metadata": {
        "colab": {
          "base_uri": "https://localhost:8080/"
        },
        "id": "bIiTtXr15Vhk",
        "outputId": "21c85239-b2cc-45a1-e84d-5ddf08efad2c"
      },
      "execution_count": null,
      "outputs": [
        {
          "output_type": "execute_result",
          "data": {
            "text/plain": [
              "36"
            ]
          },
          "metadata": {},
          "execution_count": 15
        }
      ]
    },
    {
      "cell_type": "code",
      "source": [
        "a/=4\n",
        "a"
      ],
      "metadata": {
        "colab": {
          "base_uri": "https://localhost:8080/"
        },
        "id": "KXd14A4H5Y_C",
        "outputId": "c41190c0-254f-45ec-e944-cb2d498a1751"
      },
      "execution_count": null,
      "outputs": [
        {
          "output_type": "execute_result",
          "data": {
            "text/plain": [
              "9.0"
            ]
          },
          "metadata": {},
          "execution_count": 16
        }
      ]
    },
    {
      "cell_type": "code",
      "source": [
        "type(a)"
      ],
      "metadata": {
        "colab": {
          "base_uri": "https://localhost:8080/"
        },
        "id": "iRztRHj85iFq",
        "outputId": "2af9f63f-9948-40e0-91f1-ffc4c925ce89"
      },
      "execution_count": null,
      "outputs": [
        {
          "output_type": "execute_result",
          "data": {
            "text/plain": [
              "float"
            ]
          },
          "metadata": {},
          "execution_count": 17
        }
      ]
    },
    {
      "cell_type": "code",
      "source": [
        "b = 56"
      ],
      "metadata": {
        "id": "U_fTtqgn5kfw"
      },
      "execution_count": null,
      "outputs": []
    },
    {
      "cell_type": "code",
      "source": [
        "type(b)"
      ],
      "metadata": {
        "colab": {
          "base_uri": "https://localhost:8080/"
        },
        "id": "CV27NK295niA",
        "outputId": "237f9bd2-6287-4488-9893-f7dab5c67fd4"
      },
      "execution_count": null,
      "outputs": [
        {
          "output_type": "execute_result",
          "data": {
            "text/plain": [
              "int"
            ]
          },
          "metadata": {},
          "execution_count": 19
        }
      ]
    },
    {
      "cell_type": "code",
      "source": [
        "a+b"
      ],
      "metadata": {
        "colab": {
          "base_uri": "https://localhost:8080/"
        },
        "id": "6gsH1aca5p-6",
        "outputId": "6ad5eba0-52be-4842-d255-6b3b851a1d64"
      },
      "execution_count": null,
      "outputs": [
        {
          "output_type": "execute_result",
          "data": {
            "text/plain": [
              "65.0"
            ]
          },
          "metadata": {},
          "execution_count": 20
        }
      ]
    },
    {
      "cell_type": "code",
      "source": [
        "a*b"
      ],
      "metadata": {
        "colab": {
          "base_uri": "https://localhost:8080/"
        },
        "id": "O2GR_DbB5trT",
        "outputId": "4310dabf-533a-4663-f782-d6f43769be5c"
      },
      "execution_count": null,
      "outputs": [
        {
          "output_type": "execute_result",
          "data": {
            "text/plain": [
              "504.0"
            ]
          },
          "metadata": {},
          "execution_count": 21
        }
      ]
    },
    {
      "cell_type": "code",
      "source": [
        "mystring = \"Homöopathie\""
      ],
      "metadata": {
        "id": "RZ5vQbFc5xYs"
      },
      "execution_count": null,
      "outputs": []
    },
    {
      "cell_type": "code",
      "source": [
        "mystring[2]"
      ],
      "metadata": {
        "colab": {
          "base_uri": "https://localhost:8080/",
          "height": 37
        },
        "id": "tBeahF6A8L5k",
        "outputId": "d536af7d-cb14-4d10-857c-2f5e9199e192"
      },
      "execution_count": null,
      "outputs": [
        {
          "output_type": "execute_result",
          "data": {
            "text/plain": [
              "'m'"
            ],
            "application/vnd.google.colaboratory.intrinsic+json": {
              "type": "string"
            }
          },
          "metadata": {},
          "execution_count": 25
        }
      ]
    },
    {
      "cell_type": "code",
      "source": [
        "mystring[-3]"
      ],
      "metadata": {
        "colab": {
          "base_uri": "https://localhost:8080/",
          "height": 37
        },
        "id": "GCcnlKR38acR",
        "outputId": "d208bf38-0f77-407d-ba13-fd176765c89d"
      },
      "execution_count": null,
      "outputs": [
        {
          "output_type": "execute_result",
          "data": {
            "text/plain": [
              "'h'"
            ],
            "application/vnd.google.colaboratory.intrinsic+json": {
              "type": "string"
            }
          },
          "metadata": {},
          "execution_count": 26
        }
      ]
    },
    {
      "cell_type": "code",
      "source": [
        "mystring[:4]"
      ],
      "metadata": {
        "colab": {
          "base_uri": "https://localhost:8080/",
          "height": 37
        },
        "id": "n9Oqmf8k8c4l",
        "outputId": "30eb830e-4fe7-423d-b2e4-e00080a2356c"
      },
      "execution_count": null,
      "outputs": [
        {
          "output_type": "execute_result",
          "data": {
            "text/plain": [
              "'Homö'"
            ],
            "application/vnd.google.colaboratory.intrinsic+json": {
              "type": "string"
            }
          },
          "metadata": {},
          "execution_count": 27
        }
      ]
    },
    {
      "cell_type": "code",
      "source": [
        "mystring[2:]"
      ],
      "metadata": {
        "colab": {
          "base_uri": "https://localhost:8080/",
          "height": 37
        },
        "id": "LOtoVNoE8fhW",
        "outputId": "de1abe66-38d1-4c41-9ce2-d5c31fa656d9"
      },
      "execution_count": null,
      "outputs": [
        {
          "output_type": "execute_result",
          "data": {
            "text/plain": [
              "'möopathie'"
            ],
            "application/vnd.google.colaboratory.intrinsic+json": {
              "type": "string"
            }
          },
          "metadata": {},
          "execution_count": 28
        }
      ]
    },
    {
      "cell_type": "code",
      "source": [
        "mystring[5:]"
      ],
      "metadata": {
        "colab": {
          "base_uri": "https://localhost:8080/",
          "height": 37
        },
        "id": "wQd52nQY8ito",
        "outputId": "a18e2f7b-4a49-495e-e301-41a25183982f"
      },
      "execution_count": null,
      "outputs": [
        {
          "output_type": "execute_result",
          "data": {
            "text/plain": [
              "'pathie'"
            ],
            "application/vnd.google.colaboratory.intrinsic+json": {
              "type": "string"
            }
          },
          "metadata": {},
          "execution_count": 29
        }
      ]
    },
    {
      "cell_type": "code",
      "source": [
        "mystring[::2]"
      ],
      "metadata": {
        "colab": {
          "base_uri": "https://localhost:8080/",
          "height": 37
        },
        "id": "H2S1dXHQ8myo",
        "outputId": "20805a7c-aa99-44d7-c268-a64c1baa235c"
      },
      "execution_count": null,
      "outputs": [
        {
          "output_type": "execute_result",
          "data": {
            "text/plain": [
              "'Hmoahe'"
            ],
            "application/vnd.google.colaboratory.intrinsic+json": {
              "type": "string"
            }
          },
          "metadata": {},
          "execution_count": 30
        }
      ]
    },
    {
      "cell_type": "code",
      "source": [
        "mystring[::-1]"
      ],
      "metadata": {
        "colab": {
          "base_uri": "https://localhost:8080/",
          "height": 37
        },
        "id": "LGHiHEWR8p23",
        "outputId": "b382489c-a652-4edf-c7f2-18d645f36e9b"
      },
      "execution_count": null,
      "outputs": [
        {
          "output_type": "execute_result",
          "data": {
            "text/plain": [
              "'eihtapoömoH'"
            ],
            "application/vnd.google.colaboratory.intrinsic+json": {
              "type": "string"
            }
          },
          "metadata": {},
          "execution_count": 31
        }
      ]
    },
    {
      "cell_type": "code",
      "source": [
        "mystring[:-4]"
      ],
      "metadata": {
        "colab": {
          "base_uri": "https://localhost:8080/",
          "height": 37
        },
        "id": "0gPnWwFR8ss8",
        "outputId": "19a83e19-c901-4fd6-cf94-f6213ebdfc5c"
      },
      "execution_count": null,
      "outputs": [
        {
          "output_type": "execute_result",
          "data": {
            "text/plain": [
              "'Homöopa'"
            ],
            "application/vnd.google.colaboratory.intrinsic+json": {
              "type": "string"
            }
          },
          "metadata": {},
          "execution_count": 32
        }
      ]
    },
    {
      "cell_type": "code",
      "source": [
        "x = \"Wie geht's dir?\""
      ],
      "metadata": {
        "id": "9mCW99o88-0k"
      },
      "execution_count": null,
      "outputs": []
    },
    {
      "cell_type": "code",
      "source": [
        "x.upper()"
      ],
      "metadata": {
        "colab": {
          "base_uri": "https://localhost:8080/",
          "height": 37
        },
        "id": "qtgSNsUv8HfE",
        "outputId": "d425969b-cfb7-4492-e82f-55943cc48028"
      },
      "execution_count": null,
      "outputs": [
        {
          "output_type": "execute_result",
          "data": {
            "text/plain": [
              "\"WIE GEHT'S DIR?\""
            ],
            "application/vnd.google.colaboratory.intrinsic+json": {
              "type": "string"
            }
          },
          "metadata": {},
          "execution_count": 5
        }
      ]
    },
    {
      "cell_type": "code",
      "source": [
        "x"
      ],
      "metadata": {
        "colab": {
          "base_uri": "https://localhost:8080/",
          "height": 37
        },
        "id": "gm94rWcR8cBa",
        "outputId": "3c8cc6cb-8db3-42f2-beb7-cf6d5d024d7d"
      },
      "execution_count": null,
      "outputs": [
        {
          "output_type": "execute_result",
          "data": {
            "text/plain": [
              "\"Wie geht's dir?\""
            ],
            "application/vnd.google.colaboratory.intrinsic+json": {
              "type": "string"
            }
          },
          "metadata": {},
          "execution_count": 6
        }
      ]
    },
    {
      "cell_type": "code",
      "source": [
        "x.upper()"
      ],
      "metadata": {
        "colab": {
          "base_uri": "https://localhost:8080/",
          "height": 37
        },
        "id": "Nzz1hjHg8kLW",
        "outputId": "346949ae-31cb-4830-fd95-cff1992f1007"
      },
      "execution_count": null,
      "outputs": [
        {
          "output_type": "execute_result",
          "data": {
            "text/plain": [
              "\"WIE GEHT'S DIR?\""
            ],
            "application/vnd.google.colaboratory.intrinsic+json": {
              "type": "string"
            }
          },
          "metadata": {},
          "execution_count": 10
        }
      ]
    },
    {
      "cell_type": "code",
      "source": [
        "x.split()"
      ],
      "metadata": {
        "colab": {
          "base_uri": "https://localhost:8080/"
        },
        "id": "4ZrMWnCH83qq",
        "outputId": "8274d036-7b69-4cff-b33e-c7b19b02dbc6"
      },
      "execution_count": null,
      "outputs": [
        {
          "output_type": "execute_result",
          "data": {
            "text/plain": [
              "['Wie', \"geht's\", 'dir?']"
            ]
          },
          "metadata": {},
          "execution_count": 17
        }
      ]
    },
    {
      "cell_type": "code",
      "source": [
        "a=\"Anna\"\n",
        "b=\"Berta\""
      ],
      "metadata": {
        "id": "G4z_27cw9CKv"
      },
      "execution_count": null,
      "outputs": []
    },
    {
      "cell_type": "code",
      "source": [
        "a + x"
      ],
      "metadata": {
        "colab": {
          "base_uri": "https://localhost:8080/",
          "height": 37
        },
        "id": "xR01gxyh-dTE",
        "outputId": "c0d6238d-4e47-4b61-a6e7-e97efc9969ef"
      },
      "execution_count": null,
      "outputs": [
        {
          "output_type": "execute_result",
          "data": {
            "text/plain": [
              "\"AnnaWie geht's dir?\""
            ],
            "application/vnd.google.colaboratory.intrinsic+json": {
              "type": "string"
            }
          },
          "metadata": {},
          "execution_count": 19
        }
      ]
    },
    {
      "cell_type": "code",
      "source": [
        "a + \", \" + x"
      ],
      "metadata": {
        "colab": {
          "base_uri": "https://localhost:8080/",
          "height": 37
        },
        "id": "HJkXNTnP-e0F",
        "outputId": "5a37274e-308f-46d2-f558-85089555b8d4"
      },
      "execution_count": null,
      "outputs": [
        {
          "output_type": "execute_result",
          "data": {
            "text/plain": [
              "\"Anna, Wie geht's dir?\""
            ],
            "application/vnd.google.colaboratory.intrinsic+json": {
              "type": "string"
            }
          },
          "metadata": {},
          "execution_count": 21
        }
      ]
    },
    {
      "cell_type": "code",
      "source": [
        "y = b + \", \" + x"
      ],
      "metadata": {
        "id": "oMmZtcLr-kC5"
      },
      "execution_count": null,
      "outputs": []
    },
    {
      "cell_type": "code",
      "source": [
        "y"
      ],
      "metadata": {
        "colab": {
          "base_uri": "https://localhost:8080/",
          "height": 37
        },
        "id": "CBqo11KD_6dY",
        "outputId": "3d7ecef6-0bbc-41b7-8050-61acda2d0a7a"
      },
      "execution_count": null,
      "outputs": [
        {
          "output_type": "execute_result",
          "data": {
            "text/plain": [
              "\"Berta, Wie geht's dir?\""
            ],
            "application/vnd.google.colaboratory.intrinsic+json": {
              "type": "string"
            }
          },
          "metadata": {},
          "execution_count": 25
        }
      ]
    },
    {
      "cell_type": "code",
      "source": [
        "print(\"%s, %s\" %('Anna','Berta'))"
      ],
      "metadata": {
        "colab": {
          "base_uri": "https://localhost:8080/"
        },
        "id": "H3iH3YnKAA75",
        "outputId": "c321c04a-2e55-458d-9339-88385769cac3"
      },
      "execution_count": null,
      "outputs": [
        {
          "output_type": "stream",
          "name": "stdout",
          "text": [
            "Anna, Berta\n"
          ]
        }
      ]
    },
    {
      "cell_type": "code",
      "source": [
        "print(\"Hallo {a} und {b}\".format(a='Anna',b='Berta'))\n"
      ],
      "metadata": {
        "colab": {
          "base_uri": "https://localhost:8080/"
        },
        "id": "tXNieG3CD7rn",
        "outputId": "928d274a-f85b-4bf3-cd3d-0a50b040df67"
      },
      "execution_count": null,
      "outputs": [
        {
          "output_type": "stream",
          "name": "stdout",
          "text": [
            "Hallo Anna und Berta\n"
          ]
        }
      ]
    },
    {
      "cell_type": "code",
      "source": [
        "country = \"Germany\""
      ],
      "metadata": {
        "id": "J_RHF5gQEb50"
      },
      "execution_count": null,
      "outputs": []
    },
    {
      "cell_type": "code",
      "source": [
        "town=\"Hamburg\""
      ],
      "metadata": {
        "id": "Bq5kPjSHHw55"
      },
      "execution_count": null,
      "outputs": []
    },
    {
      "cell_type": "code",
      "source": [
        "print(f\"{town} is a town in {country}.\")"
      ],
      "metadata": {
        "colab": {
          "base_uri": "https://localhost:8080/"
        },
        "id": "q1Qxg1NMHzGd",
        "outputId": "8e6ed0da-c630-46a5-80a3-9685c508e225"
      },
      "execution_count": null,
      "outputs": [
        {
          "output_type": "stream",
          "name": "stdout",
          "text": [
            "Hamburg is a town in Germany.\n"
          ]
        }
      ]
    },
    {
      "cell_type": "code",
      "source": [
        "print(\"{} is a town in {}\".format('Hamburg','Germany'))"
      ],
      "metadata": {
        "colab": {
          "base_uri": "https://localhost:8080/"
        },
        "id": "TMGYqqaBH8KQ",
        "outputId": "8daad1ee-c2c7-428e-db25-fb94c1388a08"
      },
      "execution_count": null,
      "outputs": [
        {
          "output_type": "stream",
          "name": "stdout",
          "text": [
            "Hamburg is a town in Germany\n"
          ]
        }
      ]
    },
    {
      "cell_type": "code",
      "source": [
        "result=234/943"
      ],
      "metadata": {
        "id": "shnfDScnIITN"
      },
      "execution_count": null,
      "outputs": []
    },
    {
      "cell_type": "code",
      "source": [
        "result"
      ],
      "metadata": {
        "colab": {
          "base_uri": "https://localhost:8080/"
        },
        "id": "82y_5pJIJA2l",
        "outputId": "7ab04e7e-f270-48f0-9787-d60a04c9ca8e"
      },
      "execution_count": null,
      "outputs": [
        {
          "output_type": "execute_result",
          "data": {
            "text/plain": [
              "0.24814422057264052"
            ]
          },
          "metadata": {},
          "execution_count": 53
        }
      ]
    },
    {
      "cell_type": "code",
      "source": [
        "print(f\"Das Ergebnis ist {result:1.4f}\")"
      ],
      "metadata": {
        "colab": {
          "base_uri": "https://localhost:8080/"
        },
        "id": "XvwKt8P8JFdD",
        "outputId": "e84694f6-51f1-4eb4-a673-38f3c7a9f6ad"
      },
      "execution_count": null,
      "outputs": [
        {
          "output_type": "stream",
          "name": "stdout",
          "text": [
            "Das Ergebnis ist 0.2481\n"
          ]
        }
      ]
    },
    {
      "cell_type": "code",
      "source": [
        "print('This is my ten-character, two-decimal number:{0:10.2f}'.format(13.579))"
      ],
      "metadata": {
        "colab": {
          "base_uri": "https://localhost:8080/"
        },
        "id": "05r8OpdrJVEd",
        "outputId": "8966952e-13e5-4d1e-b223-c8bf32f48151"
      },
      "execution_count": null,
      "outputs": [
        {
          "output_type": "stream",
          "name": "stdout",
          "text": [
            "This is my ten-character, two-decimal number:     13.58\n"
          ]
        }
      ]
    },
    {
      "cell_type": "code",
      "source": [
        "list1=['aber', 'und', 'doch']"
      ],
      "metadata": {
        "id": "EHe_SXtIKFJV"
      },
      "execution_count": null,
      "outputs": []
    },
    {
      "cell_type": "code",
      "source": [
        "list2=['jedoch', 'neu', 'sogar']"
      ],
      "metadata": {
        "id": "Ib3xi3BcC8QQ"
      },
      "execution_count": null,
      "outputs": []
    },
    {
      "cell_type": "code",
      "source": [
        "list1"
      ],
      "metadata": {
        "colab": {
          "base_uri": "https://localhost:8080/"
        },
        "id": "ferEc-aXDm9u",
        "outputId": "54698c75-9a63-4133-d9df-286f6f9000ec"
      },
      "execution_count": null,
      "outputs": [
        {
          "output_type": "execute_result",
          "data": {
            "text/plain": [
              "['aber', 'und', 'doch']"
            ]
          },
          "metadata": {},
          "execution_count": 51
        }
      ]
    },
    {
      "cell_type": "code",
      "source": [
        "list2"
      ],
      "metadata": {
        "colab": {
          "base_uri": "https://localhost:8080/"
        },
        "id": "DN9mbu4jDoEk",
        "outputId": "1084358e-8bea-4291-8658-af6010b6f2a5"
      },
      "execution_count": null,
      "outputs": [
        {
          "output_type": "execute_result",
          "data": {
            "text/plain": [
              "['jedoch', 'neu', 'sogar']"
            ]
          },
          "metadata": {},
          "execution_count": 52
        }
      ]
    },
    {
      "cell_type": "code",
      "source": [
        "list12=list1+list2"
      ],
      "metadata": {
        "id": "cVAVXTaQDo6E"
      },
      "execution_count": null,
      "outputs": []
    },
    {
      "cell_type": "code",
      "source": [
        "list12"
      ],
      "metadata": {
        "colab": {
          "base_uri": "https://localhost:8080/"
        },
        "id": "dVfV2BU2DrB7",
        "outputId": "4ec2e9c9-93f9-414f-e9c8-8ed7d82fe14a"
      },
      "execution_count": null,
      "outputs": [
        {
          "output_type": "execute_result",
          "data": {
            "text/plain": [
              "['aber', 'und', 'doch', 'jedoch', 'neu', 'sogar']"
            ]
          },
          "metadata": {},
          "execution_count": 54
        }
      ]
    },
    {
      "cell_type": "code",
      "source": [
        "list3=[]\n",
        "list3.append(list1)"
      ],
      "metadata": {
        "id": "ddsGl5YqDsCS"
      },
      "execution_count": null,
      "outputs": []
    },
    {
      "cell_type": "code",
      "source": [
        "list3"
      ],
      "metadata": {
        "colab": {
          "base_uri": "https://localhost:8080/"
        },
        "id": "mDAzfxoQDwox",
        "outputId": "51d862e7-618a-4163-9abb-ca214a5ca7b5"
      },
      "execution_count": null,
      "outputs": [
        {
          "output_type": "execute_result",
          "data": {
            "text/plain": [
              "[['aber', 'und', 'doch']]"
            ]
          },
          "metadata": {},
          "execution_count": 22
        }
      ]
    },
    {
      "cell_type": "code",
      "source": [
        "list3.append(list2)"
      ],
      "metadata": {
        "id": "sdJ31sLED1dg"
      },
      "execution_count": null,
      "outputs": []
    },
    {
      "cell_type": "code",
      "source": [
        "list3"
      ],
      "metadata": {
        "colab": {
          "base_uri": "https://localhost:8080/"
        },
        "id": "XEap64fvD5Fx",
        "outputId": "ce963dcd-ef3b-412b-8470-56f3b0f4b47f"
      },
      "execution_count": null,
      "outputs": [
        {
          "output_type": "execute_result",
          "data": {
            "text/plain": [
              "[['aber', 'und', 'doch'], ['jedoch', 'neu', 'sogar']]"
            ]
          },
          "metadata": {},
          "execution_count": 24
        }
      ]
    },
    {
      "cell_type": "code",
      "source": [
        "list3.sort()"
      ],
      "metadata": {
        "id": "Mg2cmyXHD5vT"
      },
      "execution_count": null,
      "outputs": []
    },
    {
      "cell_type": "code",
      "source": [
        "list3"
      ],
      "metadata": {
        "colab": {
          "base_uri": "https://localhost:8080/",
          "height": 146
        },
        "id": "eNUdJ4tJFc9O",
        "outputId": "c9964a66-02ef-497e-de90-8c222cbd16a4"
      },
      "execution_count": null,
      "outputs": [
        {
          "output_type": "error",
          "ename": "NameError",
          "evalue": "name 'list3' is not defined",
          "traceback": [
            "\u001b[0;31m---------------------------------------------------------------------------\u001b[0m",
            "\u001b[0;31mNameError\u001b[0m                                 Traceback (most recent call last)",
            "\u001b[0;32m<ipython-input-60-a8df83817861>\u001b[0m in \u001b[0;36m<cell line: 0>\u001b[0;34m()\u001b[0m\n\u001b[0;32m----> 1\u001b[0;31m \u001b[0mlist3\u001b[0m\u001b[0;34m\u001b[0m\u001b[0;34m\u001b[0m\u001b[0m\n\u001b[0m",
            "\u001b[0;31mNameError\u001b[0m: name 'list3' is not defined"
          ]
        }
      ]
    },
    {
      "cell_type": "code",
      "source": [
        "list12.reverse()"
      ],
      "metadata": {
        "id": "bRkTYjKYFd1z"
      },
      "execution_count": null,
      "outputs": []
    },
    {
      "cell_type": "code",
      "source": [
        "list12"
      ],
      "metadata": {
        "colab": {
          "base_uri": "https://localhost:8080/"
        },
        "id": "Jx7XNILIFh36",
        "outputId": "4ed5bebb-281e-4545-a5e1-0e6b9d5f2133"
      },
      "execution_count": null,
      "outputs": [
        {
          "output_type": "execute_result",
          "data": {
            "text/plain": [
              "['sogar', 'neu', 'jedoch', 'doch', 'und', 'aber']"
            ]
          },
          "metadata": {},
          "execution_count": 59
        }
      ]
    },
    {
      "cell_type": "code",
      "source": [
        "list12.pop()"
      ],
      "metadata": {
        "colab": {
          "base_uri": "https://localhost:8080/",
          "height": 37
        },
        "id": "O4Dx0GxUFiny",
        "outputId": "d1853dac-3ba3-46f0-a3b0-46f4017f42cb"
      },
      "execution_count": null,
      "outputs": [
        {
          "output_type": "execute_result",
          "data": {
            "text/plain": [
              "'aber'"
            ],
            "application/vnd.google.colaboratory.intrinsic+json": {
              "type": "string"
            }
          },
          "metadata": {},
          "execution_count": 29
        }
      ]
    },
    {
      "cell_type": "code",
      "source": [
        "list12[3:]"
      ],
      "metadata": {
        "colab": {
          "base_uri": "https://localhost:8080/"
        },
        "id": "0LOi06xEFlSa",
        "outputId": "0c419a74-c9b0-40e4-83c9-2d5632d7363e"
      },
      "execution_count": null,
      "outputs": [
        {
          "output_type": "execute_result",
          "data": {
            "text/plain": [
              "['doch', 'und']"
            ]
          },
          "metadata": {},
          "execution_count": 30
        }
      ]
    },
    {
      "cell_type": "code",
      "source": [
        "list1.count"
      ],
      "metadata": {
        "colab": {
          "base_uri": "https://localhost:8080/"
        },
        "id": "XNGWN0EmFoQ-",
        "outputId": "76ef923a-9f8b-4d57-bee2-69d82496019a"
      },
      "execution_count": null,
      "outputs": [
        {
          "output_type": "execute_result",
          "data": {
            "text/plain": [
              "<function list.count(value, /)>"
            ]
          },
          "metadata": {},
          "execution_count": 31
        }
      ]
    },
    {
      "cell_type": "code",
      "source": [
        "list12.pop()"
      ],
      "metadata": {
        "colab": {
          "base_uri": "https://localhost:8080/",
          "height": 37
        },
        "id": "3xHWR_HxFvyz",
        "outputId": "336f940f-ebdc-414a-e0aa-74b793e11417"
      },
      "execution_count": null,
      "outputs": [
        {
          "output_type": "execute_result",
          "data": {
            "text/plain": [
              "'und'"
            ],
            "application/vnd.google.colaboratory.intrinsic+json": {
              "type": "string"
            }
          },
          "metadata": {},
          "execution_count": 33
        }
      ]
    },
    {
      "cell_type": "code",
      "source": [
        "popped_item=list12.pop()"
      ],
      "metadata": {
        "id": "6G_Eb2zwFx-a"
      },
      "execution_count": null,
      "outputs": []
    },
    {
      "cell_type": "code",
      "source": [
        "popped_item"
      ],
      "metadata": {
        "colab": {
          "base_uri": "https://localhost:8080/",
          "height": 37
        },
        "id": "7669PZlQG7np",
        "outputId": "2eec1da9-adda-4e93-c0ca-763022b3f182"
      },
      "execution_count": null,
      "outputs": [
        {
          "output_type": "execute_result",
          "data": {
            "text/plain": [
              "'doch'"
            ],
            "application/vnd.google.colaboratory.intrinsic+json": {
              "type": "string"
            }
          },
          "metadata": {},
          "execution_count": 36
        }
      ]
    },
    {
      "cell_type": "code",
      "source": [
        "list1"
      ],
      "metadata": {
        "colab": {
          "base_uri": "https://localhost:8080/"
        },
        "id": "g-eEKFYdHCYC",
        "outputId": "24ca5b21-a749-4287-a666-55f2cd81e8eb"
      },
      "execution_count": null,
      "outputs": [
        {
          "output_type": "execute_result",
          "data": {
            "text/plain": [
              "['aber', 'und', 'doch']"
            ]
          },
          "metadata": {},
          "execution_count": 37
        }
      ]
    },
    {
      "cell_type": "code",
      "source": [
        "list2"
      ],
      "metadata": {
        "colab": {
          "base_uri": "https://localhost:8080/"
        },
        "id": "xS_PxaD2HH5k",
        "outputId": "ac11360b-93f2-49ba-b795-d04553a4bc53"
      },
      "execution_count": null,
      "outputs": [
        {
          "output_type": "execute_result",
          "data": {
            "text/plain": [
              "['jedoch', 'neu', 'sogar']"
            ]
          },
          "metadata": {},
          "execution_count": 38
        }
      ]
    },
    {
      "cell_type": "code",
      "source": [
        "list12"
      ],
      "metadata": {
        "colab": {
          "base_uri": "https://localhost:8080/"
        },
        "id": "FEWUxEGLHIuD",
        "outputId": "cd27c41e-ed44-4728-f8bf-f6149d176d07"
      },
      "execution_count": null,
      "outputs": [
        {
          "output_type": "execute_result",
          "data": {
            "text/plain": [
              "['sogar', 'neu', 'jedoch']"
            ]
          },
          "metadata": {},
          "execution_count": 39
        }
      ]
    },
    {
      "cell_type": "code",
      "source": [
        "list2.sort()"
      ],
      "metadata": {
        "id": "-V3Tu6yWHJkG"
      },
      "execution_count": null,
      "outputs": []
    },
    {
      "cell_type": "code",
      "source": [
        "list2"
      ],
      "metadata": {
        "colab": {
          "base_uri": "https://localhost:8080/"
        },
        "id": "OmktS_7AHL8_",
        "outputId": "4f1657ee-140c-4d81-9243-b707298d5128"
      },
      "execution_count": null,
      "outputs": [
        {
          "output_type": "execute_result",
          "data": {
            "text/plain": [
              "['jedoch', 'neu', 'sogar']"
            ]
          },
          "metadata": {},
          "execution_count": 42
        }
      ]
    },
    {
      "cell_type": "code",
      "source": [
        "list1.sort()"
      ],
      "metadata": {
        "id": "fYes10VWHOYb"
      },
      "execution_count": null,
      "outputs": []
    },
    {
      "cell_type": "code",
      "source": [
        "list1"
      ],
      "metadata": {
        "colab": {
          "base_uri": "https://localhost:8080/"
        },
        "id": "GYLs_Ei_HRSU",
        "outputId": "e0dc0775-f463-4fc5-a273-72e2ff912cc0"
      },
      "execution_count": null,
      "outputs": [
        {
          "output_type": "execute_result",
          "data": {
            "text/plain": [
              "['aber', 'doch', 'und']"
            ]
          },
          "metadata": {},
          "execution_count": 45
        }
      ]
    },
    {
      "cell_type": "code",
      "source": [
        "list12=list1+list2"
      ],
      "metadata": {
        "id": "cGnQUULGHTbq"
      },
      "execution_count": null,
      "outputs": []
    },
    {
      "cell_type": "code",
      "source": [
        "list12"
      ],
      "metadata": {
        "colab": {
          "base_uri": "https://localhost:8080/"
        },
        "id": "iClbbch1HX7c",
        "outputId": "8a9f9967-3601-477d-a2a0-1096101a322e"
      },
      "execution_count": null,
      "outputs": [
        {
          "output_type": "execute_result",
          "data": {
            "text/plain": [
              "['aber', 'doch', 'und', 'jedoch', 'neu', 'sogar']"
            ]
          },
          "metadata": {},
          "execution_count": 47
        }
      ]
    },
    {
      "cell_type": "code",
      "source": [
        "list12.sort()"
      ],
      "metadata": {
        "id": "UP3r6Ho2HYa6"
      },
      "execution_count": null,
      "outputs": []
    },
    {
      "cell_type": "code",
      "source": [
        "list12"
      ],
      "metadata": {
        "colab": {
          "base_uri": "https://localhost:8080/"
        },
        "id": "gatWnrJbHZn8",
        "outputId": "940db547-52f2-46c8-872d-60f47ee2a4c1"
      },
      "execution_count": null,
      "outputs": [
        {
          "output_type": "execute_result",
          "data": {
            "text/plain": [
              "['aber', 'doch', 'jedoch', 'neu', 'sogar', 'und']"
            ]
          },
          "metadata": {},
          "execution_count": 50
        }
      ]
    },
    {
      "cell_type": "code",
      "source": [
        "list12.reverse()"
      ],
      "metadata": {
        "id": "lDX67M-XHckZ"
      },
      "execution_count": null,
      "outputs": []
    },
    {
      "cell_type": "code",
      "source": [
        "list12"
      ],
      "metadata": {
        "colab": {
          "base_uri": "https://localhost:8080/"
        },
        "id": "BpwrVwOrHe5r",
        "outputId": "152bd8d2-1a0b-4830-d1b2-29cd56f4a6b6"
      },
      "execution_count": null,
      "outputs": [
        {
          "output_type": "execute_result",
          "data": {
            "text/plain": [
              "['und', 'sogar', 'neu', 'jedoch', 'doch', 'aber']"
            ]
          },
          "metadata": {},
          "execution_count": 52
        }
      ]
    },
    {
      "cell_type": "code",
      "source": [
        "list12.sort()"
      ],
      "metadata": {
        "id": "J5rKiImgHf2L"
      },
      "execution_count": null,
      "outputs": []
    },
    {
      "cell_type": "code",
      "source": [
        "len(list12)"
      ],
      "metadata": {
        "colab": {
          "base_uri": "https://localhost:8080/"
        },
        "id": "OK2IW6tlHjcn",
        "outputId": "0182f542-fbe4-4248-87fa-0b9847fb9c47"
      },
      "execution_count": null,
      "outputs": [
        {
          "output_type": "execute_result",
          "data": {
            "text/plain": [
              "6"
            ]
          },
          "metadata": {},
          "execution_count": 59
        }
      ]
    },
    {
      "cell_type": "code",
      "source": [
        "dic={'alpha':'eins', 'beta':'zwei', 'gamma':'drei', 'substantiv_m':'Mensch', 'substantiv_f':'Erde', 'substantiv_n':'Haus', 'verb':'läuft', 'artikel_m':'der', 'artikel_f':'die', 'artikel_n':'das', 'preposition':'auf'}"
      ],
      "metadata": {
        "id": "p0RvgntBHqfd"
      },
      "execution_count": null,
      "outputs": []
    },
    {
      "cell_type": "code",
      "source": [
        "dic['substantiv_m']"
      ],
      "metadata": {
        "colab": {
          "base_uri": "https://localhost:8080/",
          "height": 37
        },
        "id": "7wPpWqTj83oH",
        "outputId": "6b1fdb87-c385-4926-9bae-66b2ee464b50"
      },
      "execution_count": null,
      "outputs": [
        {
          "output_type": "execute_result",
          "data": {
            "text/plain": [
              "'Mensch'"
            ],
            "application/vnd.google.colaboratory.intrinsic+json": {
              "type": "string"
            }
          },
          "metadata": {},
          "execution_count": 29
        }
      ]
    },
    {
      "cell_type": "code",
      "source": [
        "dic2={'key1':['alle','meine','Entchen']}"
      ],
      "metadata": {
        "id": "eWYJ6zde9EUH"
      },
      "execution_count": null,
      "outputs": []
    },
    {
      "cell_type": "code",
      "source": [
        "dic2['key1'][2].lower"
      ],
      "metadata": {
        "colab": {
          "base_uri": "https://localhost:8080/"
        },
        "id": "8Rudi77Z9uZB",
        "outputId": "39322419-53ef-422d-ce43-42a6c56bd260"
      },
      "execution_count": null,
      "outputs": [
        {
          "output_type": "execute_result",
          "data": {
            "text/plain": [
              "<function str.lower()>"
            ]
          },
          "metadata": {},
          "execution_count": 33
        }
      ]
    },
    {
      "cell_type": "code",
      "source": [
        "dic2['key1'][0].upper()"
      ],
      "metadata": {
        "colab": {
          "base_uri": "https://localhost:8080/",
          "height": 37
        },
        "id": "u4ZXU4yb90Hi",
        "outputId": "ba74bb3a-716f-48e7-f359-64787581614b"
      },
      "execution_count": null,
      "outputs": [
        {
          "output_type": "execute_result",
          "data": {
            "text/plain": [
              "'ALLE'"
            ],
            "application/vnd.google.colaboratory.intrinsic+json": {
              "type": "string"
            }
          },
          "metadata": {},
          "execution_count": 8
        }
      ]
    },
    {
      "cell_type": "code",
      "source": [
        "dic2['key1'][2].lower()"
      ],
      "metadata": {
        "colab": {
          "base_uri": "https://localhost:8080/",
          "height": 37
        },
        "id": "ZBTTbaa3-CB_",
        "outputId": "7a8dca91-d328-4c0f-a451-9f34802c06b2"
      },
      "execution_count": null,
      "outputs": [
        {
          "output_type": "execute_result",
          "data": {
            "text/plain": [
              "'entchen'"
            ],
            "application/vnd.google.colaboratory.intrinsic+json": {
              "type": "string"
            }
          },
          "metadata": {},
          "execution_count": 15
        }
      ]
    },
    {
      "cell_type": "code",
      "source": [
        "dic2['key2']='schwimmen'"
      ],
      "metadata": {
        "id": "ezb56Elu-JKA"
      },
      "execution_count": null,
      "outputs": []
    },
    {
      "cell_type": "code",
      "source": [
        "dic2['key2']"
      ],
      "metadata": {
        "colab": {
          "base_uri": "https://localhost:8080/",
          "height": 37
        },
        "id": "cLI3HLhp-s3l",
        "outputId": "34403a27-84c9-457d-b2f8-99240d80f709"
      },
      "execution_count": null,
      "outputs": [
        {
          "output_type": "execute_result",
          "data": {
            "text/plain": [
              "'schwimmen'"
            ],
            "application/vnd.google.colaboratory.intrinsic+json": {
              "type": "string"
            }
          },
          "metadata": {},
          "execution_count": 18
        }
      ]
    },
    {
      "cell_type": "code",
      "source": [
        "print(dic2['key1'])"
      ],
      "metadata": {
        "colab": {
          "base_uri": "https://localhost:8080/"
        },
        "id": "hXZY3CVN-yid",
        "outputId": "f9d1a303-3e36-47ad-fd11-c3ea54b12a77"
      },
      "execution_count": null,
      "outputs": [
        {
          "output_type": "stream",
          "name": "stdout",
          "text": [
            "['alle', 'meine', 'Entchen']\n"
          ]
        }
      ]
    },
    {
      "cell_type": "code",
      "source": [
        "dic2"
      ],
      "metadata": {
        "colab": {
          "base_uri": "https://localhost:8080/"
        },
        "id": "5GkIQI2g-8g9",
        "outputId": "f75f3955-6ece-4158-c58e-31cf9dc20d68"
      },
      "execution_count": null,
      "outputs": [
        {
          "output_type": "execute_result",
          "data": {
            "text/plain": [
              "{'key1': ['alle', 'meine', 'Entchen'], 'key2': 'schwimmen'}"
            ]
          },
          "metadata": {},
          "execution_count": 20
        }
      ]
    },
    {
      "cell_type": "code",
      "source": [
        "dic2={'substantive':\n",
        "      {'female':\n",
        "       {'building':'Kirche'},\n",
        "       'male':\n",
        "       {'building':'Hof'},\n",
        "       'neuter':\n",
        "       {'building':'Haus'}},\n",
        "\n",
        "      'article':\n",
        "      {'female':\n",
        "       {'nominative':'die',\n",
        "        'dative':'der'\n",
        "        },\n",
        "       'male':\n",
        "       {'nominative':'der',\n",
        "        'dative':'dem'\n",
        "        },\n",
        "       'neuter':\n",
        "       {'nominative':'das',\n",
        "        'dative':'dem'\n",
        "        }\n",
        "       }\n",
        "      }"
      ],
      "metadata": {
        "id": "4X2krNrV_HXL"
      },
      "execution_count": null,
      "outputs": []
    },
    {
      "cell_type": "code",
      "source": [
        "dic2['substantive']['male']['building']"
      ],
      "metadata": {
        "colab": {
          "base_uri": "https://localhost:8080/",
          "height": 37
        },
        "id": "qyGHFBKrAhr1",
        "outputId": "f014f2c3-9e39-427a-8404-abf476ffb9a8"
      },
      "execution_count": null,
      "outputs": [
        {
          "output_type": "execute_result",
          "data": {
            "text/plain": [
              "'Hof'"
            ],
            "application/vnd.google.colaboratory.intrinsic+json": {
              "type": "string"
            }
          },
          "metadata": {},
          "execution_count": 36
        }
      ]
    },
    {
      "cell_type": "code",
      "source": [
        "dic2['article']['male']['dative']"
      ],
      "metadata": {
        "colab": {
          "base_uri": "https://localhost:8080/",
          "height": 37
        },
        "id": "bfZZJ8wmBneU",
        "outputId": "b33177ef-3738-4b28-bab7-1a13364a5e72"
      },
      "execution_count": null,
      "outputs": [
        {
          "output_type": "execute_result",
          "data": {
            "text/plain": [
              "'dem'"
            ],
            "application/vnd.google.colaboratory.intrinsic+json": {
              "type": "string"
            }
          },
          "metadata": {},
          "execution_count": 35
        }
      ]
    },
    {
      "cell_type": "code",
      "source": [
        "testset=set('Mississippi')"
      ],
      "metadata": {
        "id": "pjvSnggXBuXy"
      },
      "execution_count": null,
      "outputs": []
    },
    {
      "cell_type": "code",
      "source": [
        "testset"
      ],
      "metadata": {
        "colab": {
          "base_uri": "https://localhost:8080/"
        },
        "id": "ZfTNA11m4q1Z",
        "outputId": "b63aa8cc-33ed-4377-8aa6-1ee3252742ed"
      },
      "execution_count": null,
      "outputs": [
        {
          "output_type": "execute_result",
          "data": {
            "text/plain": [
              "{'M', 'i', 'p', 's'}"
            ]
          },
          "metadata": {},
          "execution_count": 4
        }
      ]
    },
    {
      "cell_type": "code",
      "source": [
        "t={'eins', 3}"
      ],
      "metadata": {
        "id": "8pTTYkVO4zzJ"
      },
      "execution_count": null,
      "outputs": []
    },
    {
      "cell_type": "code",
      "source": [
        "t"
      ],
      "metadata": {
        "colab": {
          "base_uri": "https://localhost:8080/"
        },
        "id": "SmSwuLt9483g",
        "outputId": "ca85fc9e-664a-4031-f1be-a404d7ea9988"
      },
      "execution_count": null,
      "outputs": [
        {
          "output_type": "execute_result",
          "data": {
            "text/plain": [
              "{3, 'eins'}"
            ]
          },
          "metadata": {},
          "execution_count": 7
        }
      ]
    },
    {
      "cell_type": "code",
      "source": [
        "t[0]"
      ],
      "metadata": {
        "colab": {
          "base_uri": "https://localhost:8080/",
          "height": 171
        },
        "id": "nQp_xSF25D7a",
        "outputId": "c1dc7baa-1074-4ff6-ce35-38db3d9522ff"
      },
      "execution_count": null,
      "outputs": [
        {
          "output_type": "error",
          "ename": "TypeError",
          "evalue": "ignored",
          "traceback": [
            "\u001b[0;31m---------------------------------------------------------------------------\u001b[0m",
            "\u001b[0;31mTypeError\u001b[0m                                 Traceback (most recent call last)",
            "\u001b[0;32m<ipython-input-8-a471f56f22a6>\u001b[0m in \u001b[0;36m<module>\u001b[0;34m\u001b[0m\n\u001b[0;32m----> 1\u001b[0;31m \u001b[0mt\u001b[0m\u001b[0;34m[\u001b[0m\u001b[0;36m0\u001b[0m\u001b[0;34m]\u001b[0m\u001b[0;34m\u001b[0m\u001b[0;34m\u001b[0m\u001b[0m\n\u001b[0m",
            "\u001b[0;31mTypeError\u001b[0m: 'set' object is not subscriptable"
          ]
        }
      ]
    },
    {
      "cell_type": "code",
      "source": [
        "len(t)"
      ],
      "metadata": {
        "colab": {
          "base_uri": "https://localhost:8080/"
        },
        "id": "SroZzFqy5GdZ",
        "outputId": "f365c426-40ca-403e-f1a7-6daaa77a22d8"
      },
      "execution_count": null,
      "outputs": [
        {
          "output_type": "execute_result",
          "data": {
            "text/plain": [
              "2"
            ]
          },
          "metadata": {},
          "execution_count": 9
        }
      ]
    },
    {
      "cell_type": "code",
      "source": [
        "tuple=(1, 'eins', [1,2,3])"
      ],
      "metadata": {
        "id": "Y8PfM2WD5RBJ"
      },
      "execution_count": null,
      "outputs": []
    },
    {
      "cell_type": "code",
      "source": [
        "tuple"
      ],
      "metadata": {
        "colab": {
          "base_uri": "https://localhost:8080/"
        },
        "id": "Ys7EQLR25XTi",
        "outputId": "e24339fd-1646-4101-bc07-0f9d8afd3c9b"
      },
      "execution_count": null,
      "outputs": [
        {
          "output_type": "execute_result",
          "data": {
            "text/plain": [
              "(1, 'eins', [1, 2, 3])"
            ]
          },
          "metadata": {},
          "execution_count": 11
        }
      ]
    },
    {
      "cell_type": "code",
      "source": [
        "len(tuple)"
      ],
      "metadata": {
        "colab": {
          "base_uri": "https://localhost:8080/"
        },
        "id": "GRHTCxQ65Y0h",
        "outputId": "49f5116d-80bb-47b0-c9a2-f04e6b591096"
      },
      "execution_count": null,
      "outputs": [
        {
          "output_type": "execute_result",
          "data": {
            "text/plain": [
              "3"
            ]
          },
          "metadata": {},
          "execution_count": 12
        }
      ]
    },
    {
      "cell_type": "code",
      "source": [
        "tuple.count(1)"
      ],
      "metadata": {
        "colab": {
          "base_uri": "https://localhost:8080/"
        },
        "id": "fPLVkUJR5aJy",
        "outputId": "e68c348a-dcb0-4aa7-f04d-df497c3434c1"
      },
      "execution_count": null,
      "outputs": [
        {
          "output_type": "execute_result",
          "data": {
            "text/plain": [
              "1"
            ]
          },
          "metadata": {},
          "execution_count": 15
        }
      ]
    },
    {
      "cell_type": "code",
      "source": [
        "pwd"
      ],
      "metadata": {
        "colab": {
          "base_uri": "https://localhost:8080/",
          "height": 37
        },
        "id": "yGJ2Pjl85bhg",
        "outputId": "2063aed0-67c3-4bc0-88eb-4a9ec81342d8"
      },
      "execution_count": null,
      "outputs": [
        {
          "output_type": "execute_result",
          "data": {
            "text/plain": [
              "'/content'"
            ],
            "application/vnd.google.colaboratory.intrinsic+json": {
              "type": "string"
            }
          },
          "metadata": {},
          "execution_count": 16
        }
      ]
    },
    {
      "cell_type": "code",
      "source": [
        "string='my string'"
      ],
      "metadata": {
        "id": "q7eBfVYb5lUM"
      },
      "execution_count": null,
      "outputs": []
    },
    {
      "cell_type": "code",
      "source": [
        "list=[1,2,'eins','zwei']"
      ],
      "metadata": {
        "id": "iUDe6Zc7yA7u"
      },
      "execution_count": null,
      "outputs": []
    },
    {
      "cell_type": "code",
      "source": [
        "dictionary={'key1':'12','key2':'ich'}"
      ],
      "metadata": {
        "id": "-9zXtQOByF6c"
      },
      "execution_count": null,
      "outputs": []
    },
    {
      "cell_type": "code",
      "source": [
        "tuple=('Monday','Tuesday','Wednesday')"
      ],
      "metadata": {
        "id": "q7-aLBZuyWgl"
      },
      "execution_count": null,
      "outputs": []
    },
    {
      "cell_type": "code",
      "source": [
        "x=set()\n",
        "x.add(90)\n",
        "x.add('string')"
      ],
      "metadata": {
        "id": "XhtcA70ayqOW"
      },
      "execution_count": null,
      "outputs": []
    },
    {
      "cell_type": "code",
      "source": [
        "x"
      ],
      "metadata": {
        "colab": {
          "base_uri": "https://localhost:8080/"
        },
        "id": "t7UXHuUUzRz9",
        "outputId": "05409f81-3f5c-46a2-9700-3ab817ededfb"
      },
      "execution_count": null,
      "outputs": [
        {
          "output_type": "execute_result",
          "data": {
            "text/plain": [
              "{90, 'string'}"
            ]
          },
          "metadata": {},
          "execution_count": 15
        }
      ]
    },
    {
      "cell_type": "code",
      "source": [
        "list_set=[1,2,3,4,5,6,7,2,3,4,5,6,7,3,4,5,6,7,4,5,6,7,5,6,7,6,7,7]\n",
        "set(list_set)"
      ],
      "metadata": {
        "colab": {
          "base_uri": "https://localhost:8080/"
        },
        "id": "uDatyOZEzTC0",
        "outputId": "296ac170-770b-4b24-de65-ba246ad165e1"
      },
      "execution_count": null,
      "outputs": [
        {
          "output_type": "execute_result",
          "data": {
            "text/plain": [
              "{1, 2, 3, 4, 5, 6, 7}"
            ]
          },
          "metadata": {},
          "execution_count": 19
        }
      ]
    },
    {
      "cell_type": "code",
      "source": [
        "a=12\n",
        "b=23\n",
        "c=4"
      ],
      "metadata": {
        "id": "qJ3XZ5qezWNW"
      },
      "execution_count": null,
      "outputs": []
    },
    {
      "cell_type": "code",
      "source": [
        "a>b"
      ],
      "metadata": {
        "colab": {
          "base_uri": "https://localhost:8080/"
        },
        "id": "NwHnbEW_z1S_",
        "outputId": "2ff36d4a-0199-41f7-818e-e246345887d7"
      },
      "execution_count": null,
      "outputs": [
        {
          "output_type": "execute_result",
          "data": {
            "text/plain": [
              "False"
            ]
          },
          "metadata": {},
          "execution_count": 21
        }
      ]
    },
    {
      "cell_type": "code",
      "source": [
        "b>c"
      ],
      "metadata": {
        "colab": {
          "base_uri": "https://localhost:8080/"
        },
        "id": "-0N8LV5Mz2yv",
        "outputId": "92e46459-0873-4309-8cf3-4dd097fee95d"
      },
      "execution_count": null,
      "outputs": [
        {
          "output_type": "execute_result",
          "data": {
            "text/plain": [
              "True"
            ]
          },
          "metadata": {},
          "execution_count": 22
        }
      ]
    },
    {
      "cell_type": "code",
      "source": [
        "myfile=open('test.txt','w')"
      ],
      "metadata": {
        "id": "ankicihSz5OH"
      },
      "execution_count": null,
      "outputs": []
    },
    {
      "cell_type": "code",
      "source": [
        "myfile.write('erste Zeile\\nzweite Zeile\\ndritte Zeile')"
      ],
      "metadata": {
        "colab": {
          "base_uri": "https://localhost:8080/"
        },
        "id": "_BVD5D7CWRJw",
        "outputId": "2b5b7a0f-4152-4140-abbf-1f9c4389fc97"
      },
      "execution_count": null,
      "outputs": [
        {
          "output_type": "execute_result",
          "data": {
            "text/plain": [
              "37"
            ]
          },
          "metadata": {},
          "execution_count": 15
        }
      ]
    },
    {
      "cell_type": "code",
      "source": [
        "myfile=open('test.txt','r')"
      ],
      "metadata": {
        "id": "EDo64PO5WnGJ"
      },
      "execution_count": null,
      "outputs": []
    },
    {
      "cell_type": "code",
      "source": [
        "myfile.read()"
      ],
      "metadata": {
        "colab": {
          "base_uri": "https://localhost:8080/",
          "height": 37
        },
        "id": "iGDpeAeuWwbI",
        "outputId": "452a3bcd-4f85-4aac-b32b-31c695c504cc"
      },
      "execution_count": null,
      "outputs": [
        {
          "output_type": "execute_result",
          "data": {
            "text/plain": [
              "'erste Zeile\\nzweite Zeile\\ndritte Zeile'"
            ],
            "application/vnd.google.colaboratory.intrinsic+json": {
              "type": "string"
            }
          },
          "metadata": {},
          "execution_count": 17
        }
      ]
    },
    {
      "cell_type": "code",
      "source": [
        "print(myfile.read())"
      ],
      "metadata": {
        "colab": {
          "base_uri": "https://localhost:8080/"
        },
        "id": "NLz01XAJW0DR",
        "outputId": "a4cca05e-e7ad-444f-dff7-e089665e2081"
      },
      "execution_count": null,
      "outputs": [
        {
          "output_type": "stream",
          "name": "stdout",
          "text": [
            "erste Zeile\n",
            "zweite Zeile\n",
            "dritte Zeile\n"
          ]
        }
      ]
    },
    {
      "cell_type": "code",
      "source": [
        "myfile.seek(0)"
      ],
      "metadata": {
        "colab": {
          "base_uri": "https://localhost:8080/"
        },
        "id": "t5z8lSxTXQlz",
        "outputId": "4915908d-c039-4619-bc9c-8ef1a4fc4f3a"
      },
      "execution_count": null,
      "outputs": [
        {
          "output_type": "execute_result",
          "data": {
            "text/plain": [
              "0"
            ]
          },
          "metadata": {},
          "execution_count": 22
        }
      ]
    },
    {
      "cell_type": "code",
      "source": [
        "myfile.close()"
      ],
      "metadata": {
        "id": "-wCvUhtOXXKl"
      },
      "execution_count": null,
      "outputs": []
    },
    {
      "cell_type": "code",
      "source": [
        "a=((250*2)+1-100)/4"
      ],
      "metadata": {
        "id": "JBIqYbfFXecR"
      },
      "execution_count": null,
      "outputs": []
    },
    {
      "cell_type": "code",
      "source": [
        "print(a)"
      ],
      "metadata": {
        "colab": {
          "base_uri": "https://localhost:8080/"
        },
        "id": "v7eaihscByZR",
        "outputId": "4ae8ff9e-430b-4f67-8380-a13ca60deee6"
      },
      "execution_count": null,
      "outputs": [
        {
          "output_type": "stream",
          "name": "stdout",
          "text": [
            "100.25\n"
          ]
        }
      ]
    },
    {
      "cell_type": "code",
      "source": [
        "b=8**2\n",
        "print(b)"
      ],
      "metadata": {
        "colab": {
          "base_uri": "https://localhost:8080/"
        },
        "id": "VliFeh7pB1W9",
        "outputId": "d592aac6-42c6-4c61-ab37-4fa9c85d7989"
      },
      "execution_count": null,
      "outputs": [
        {
          "output_type": "stream",
          "name": "stdout",
          "text": [
            "64\n"
          ]
        }
      ]
    },
    {
      "cell_type": "code",
      "source": [
        "c=4**0.5"
      ],
      "metadata": {
        "id": "WfjFlXw4CbV1"
      },
      "execution_count": null,
      "outputs": []
    },
    {
      "cell_type": "code",
      "source": [
        "print(c)"
      ],
      "metadata": {
        "colab": {
          "base_uri": "https://localhost:8080/"
        },
        "id": "29IWI8LQC-HV",
        "outputId": "91a416c6-5e1e-4e72-859f-b9a999a1aae2"
      },
      "execution_count": null,
      "outputs": [
        {
          "output_type": "stream",
          "name": "stdout",
          "text": [
            "2.0\n"
          ]
        }
      ]
    },
    {
      "cell_type": "code",
      "source": [
        "64**0.5"
      ],
      "metadata": {
        "colab": {
          "base_uri": "https://localhost:8080/"
        },
        "id": "vuRxnuRDC_09",
        "outputId": "e7966131-725c-4fa4-fcc6-22f9f27aee3a"
      },
      "execution_count": null,
      "outputs": [
        {
          "output_type": "execute_result",
          "data": {
            "text/plain": [
              "8.0"
            ]
          },
          "metadata": {},
          "execution_count": 13
        }
      ]
    },
    {
      "cell_type": "code",
      "source": [
        "s='Hello'\n",
        "s[1]"
      ],
      "metadata": {
        "colab": {
          "base_uri": "https://localhost:8080/",
          "height": 37
        },
        "id": "3J1NRbfrDDU9",
        "outputId": "b7f9f676-c5ab-4e5e-905b-c4ae649a4fce"
      },
      "execution_count": null,
      "outputs": [
        {
          "output_type": "execute_result",
          "data": {
            "text/plain": [
              "'e'"
            ],
            "application/vnd.google.colaboratory.intrinsic+json": {
              "type": "string"
            }
          },
          "metadata": {},
          "execution_count": 14
        }
      ]
    },
    {
      "cell_type": "code",
      "source": [
        "s[-1]"
      ],
      "metadata": {
        "colab": {
          "base_uri": "https://localhost:8080/",
          "height": 37
        },
        "id": "yODWMmw-DZof",
        "outputId": "9505584a-d746-4810-fc83-3ebfbe555c26"
      },
      "execution_count": null,
      "outputs": [
        {
          "output_type": "execute_result",
          "data": {
            "text/plain": [
              "'o'"
            ],
            "application/vnd.google.colaboratory.intrinsic+json": {
              "type": "string"
            }
          },
          "metadata": {},
          "execution_count": 15
        }
      ]
    },
    {
      "cell_type": "code",
      "source": [
        "s[::-1]"
      ],
      "metadata": {
        "colab": {
          "base_uri": "https://localhost:8080/",
          "height": 37
        },
        "id": "0nK3xFjIDd9s",
        "outputId": "eae83a46-0197-463e-c317-577bbad0304b"
      },
      "execution_count": null,
      "outputs": [
        {
          "output_type": "execute_result",
          "data": {
            "text/plain": [
              "'olleH'"
            ],
            "application/vnd.google.colaboratory.intrinsic+json": {
              "type": "string"
            }
          },
          "metadata": {},
          "execution_count": 16
        }
      ]
    },
    {
      "cell_type": "code",
      "source": [
        "s[4]"
      ],
      "metadata": {
        "colab": {
          "base_uri": "https://localhost:8080/",
          "height": 37
        },
        "id": "20zk9LevDjoG",
        "outputId": "5ee8f16e-5c3a-46a6-e6cd-d0ec6ac1959a"
      },
      "execution_count": null,
      "outputs": [
        {
          "output_type": "execute_result",
          "data": {
            "text/plain": [
              "'o'"
            ],
            "application/vnd.google.colaboratory.intrinsic+json": {
              "type": "string"
            }
          },
          "metadata": {},
          "execution_count": 18
        }
      ]
    },
    {
      "cell_type": "code",
      "source": [
        "list=[0,0,0]"
      ],
      "metadata": {
        "id": "EB3qGJ0UDnu3"
      },
      "execution_count": null,
      "outputs": []
    },
    {
      "cell_type": "code",
      "source": [
        "list2=[0,0]\n",
        "list2.append(0)"
      ],
      "metadata": {
        "id": "fdUkBz94DyTQ"
      },
      "execution_count": null,
      "outputs": []
    },
    {
      "cell_type": "code",
      "source": [
        "list2"
      ],
      "metadata": {
        "colab": {
          "base_uri": "https://localhost:8080/"
        },
        "id": "lsog5V-QD91x",
        "outputId": "74e43189-def4-4b30-aca7-b9f2b1d10e03"
      },
      "execution_count": null,
      "outputs": [
        {
          "output_type": "execute_result",
          "data": {
            "text/plain": [
              "[0, 0, 0]"
            ]
          },
          "metadata": {},
          "execution_count": 26
        }
      ]
    },
    {
      "cell_type": "code",
      "source": [
        "list3 = [1,2,[3,4,'hello']]\n",
        "list3.pop()"
      ],
      "metadata": {
        "colab": {
          "base_uri": "https://localhost:8080/"
        },
        "id": "DAgr4Wy1EZd1",
        "outputId": "920215ed-d469-41be-84f4-f602388696d2"
      },
      "execution_count": null,
      "outputs": [
        {
          "output_type": "execute_result",
          "data": {
            "text/plain": [
              "[3, 4, 'hello']"
            ]
          },
          "metadata": {},
          "execution_count": 30
        }
      ]
    },
    {
      "cell_type": "code",
      "source": [
        "list3.append([3,4,'goodbye'])"
      ],
      "metadata": {
        "id": "pK8w2-ycExBx"
      },
      "execution_count": null,
      "outputs": []
    },
    {
      "cell_type": "code",
      "source": [
        "list3"
      ],
      "metadata": {
        "colab": {
          "base_uri": "https://localhost:8080/"
        },
        "id": "LCyN_ciaFHzU",
        "outputId": "e26d5eb4-282d-4728-ca79-a0f5687622a1"
      },
      "execution_count": null,
      "outputs": [
        {
          "output_type": "execute_result",
          "data": {
            "text/plain": [
              "[1, 2, [3, 4, 'goodbye']]"
            ]
          },
          "metadata": {},
          "execution_count": 32
        }
      ]
    },
    {
      "cell_type": "code",
      "source": [
        "list4 = [5,3,4,6,1]\n",
        "list4.sort()"
      ],
      "metadata": {
        "id": "vsvmt0CTFI1-"
      },
      "execution_count": null,
      "outputs": []
    },
    {
      "cell_type": "code",
      "source": [
        "list4"
      ],
      "metadata": {
        "colab": {
          "base_uri": "https://localhost:8080/"
        },
        "id": "X0QW5ZFrFTKd",
        "outputId": "b75da645-df5f-4baf-af25-831fc954c44c"
      },
      "execution_count": null,
      "outputs": [
        {
          "output_type": "execute_result",
          "data": {
            "text/plain": [
              "[1, 3, 4, 5, 6]"
            ]
          },
          "metadata": {},
          "execution_count": 34
        }
      ]
    },
    {
      "cell_type": "code",
      "source": [
        "d = {'simple_key':'hello'}\n",
        "d['simple_key']"
      ],
      "metadata": {
        "colab": {
          "base_uri": "https://localhost:8080/",
          "height": 37
        },
        "id": "ZMmImkAzFUPo",
        "outputId": "b1d0f4cc-2798-45ee-d2dd-db66abfe6bd1"
      },
      "execution_count": null,
      "outputs": [
        {
          "output_type": "execute_result",
          "data": {
            "text/plain": [
              "'hello'"
            ],
            "application/vnd.google.colaboratory.intrinsic+json": {
              "type": "string"
            }
          },
          "metadata": {},
          "execution_count": 35
        }
      ]
    },
    {
      "cell_type": "code",
      "source": [
        "d = {'k1':{'k2':'hello'}}\n",
        "d['k1']['k2']"
      ],
      "metadata": {
        "colab": {
          "base_uri": "https://localhost:8080/",
          "height": 37
        },
        "id": "weTBCOLbFjlJ",
        "outputId": "db355842-368a-4113-8ffe-f6564e72d617"
      },
      "execution_count": null,
      "outputs": [
        {
          "output_type": "execute_result",
          "data": {
            "text/plain": [
              "'hello'"
            ],
            "application/vnd.google.colaboratory.intrinsic+json": {
              "type": "string"
            }
          },
          "metadata": {},
          "execution_count": 36
        }
      ]
    },
    {
      "cell_type": "code",
      "source": [
        "d = {'k1':[{'nest_key':['this is deep',['hello']]}]}\n",
        "d['k1'][0]['nest_key'][1][0]"
      ],
      "metadata": {
        "colab": {
          "base_uri": "https://localhost:8080/",
          "height": 37
        },
        "id": "vobsDcYTF4aF",
        "outputId": "3dbe6066-6481-41f7-9d49-eeab59057c5c"
      },
      "execution_count": null,
      "outputs": [
        {
          "output_type": "execute_result",
          "data": {
            "text/plain": [
              "'hello'"
            ],
            "application/vnd.google.colaboratory.intrinsic+json": {
              "type": "string"
            }
          },
          "metadata": {},
          "execution_count": 72
        }
      ]
    },
    {
      "cell_type": "code",
      "source": [
        "t=(1,2,3,4)"
      ],
      "metadata": {
        "id": "NffWJIiZGMhW"
      },
      "execution_count": null,
      "outputs": []
    },
    {
      "cell_type": "code",
      "source": [
        "t"
      ],
      "metadata": {
        "colab": {
          "base_uri": "https://localhost:8080/"
        },
        "id": "HLUyLqMaIRlz",
        "outputId": "b4024bfd-6906-4ef7-93f5-16c468e7c6f9"
      },
      "execution_count": null,
      "outputs": [
        {
          "output_type": "execute_result",
          "data": {
            "text/plain": [
              "(1, 2, 3, 4)"
            ]
          },
          "metadata": {},
          "execution_count": 52
        }
      ]
    },
    {
      "cell_type": "code",
      "source": [
        "type(t)"
      ],
      "metadata": {
        "colab": {
          "base_uri": "https://localhost:8080/"
        },
        "id": "UBnNfbdNISRL",
        "outputId": "4aa7c581-6852-4644-ad30-f97da446de5c"
      },
      "execution_count": null,
      "outputs": [
        {
          "output_type": "execute_result",
          "data": {
            "text/plain": [
              "tuple"
            ]
          },
          "metadata": {},
          "execution_count": 53
        }
      ]
    },
    {
      "cell_type": "code",
      "source": [
        "list5 = [1,2,2,33,4,4,11,22,3,3,2]\n",
        "set(list5)"
      ],
      "metadata": {
        "colab": {
          "base_uri": "https://localhost:8080/"
        },
        "id": "cNKKaUScIhgz",
        "outputId": "da002af6-426d-41ce-c4f2-a90cc8d90ede"
      },
      "execution_count": null,
      "outputs": [
        {
          "output_type": "execute_result",
          "data": {
            "text/plain": [
              "{1, 2, 3, 4, 11, 22, 33}"
            ]
          },
          "metadata": {},
          "execution_count": 56
        }
      ]
    },
    {
      "cell_type": "code",
      "source": [
        "2 > 3"
      ],
      "metadata": {
        "colab": {
          "base_uri": "https://localhost:8080/"
        },
        "id": "O4SLhHryIm-D",
        "outputId": "7b4e8a22-cb50-47da-85c6-3f657a6a04d1"
      },
      "execution_count": null,
      "outputs": [
        {
          "output_type": "execute_result",
          "data": {
            "text/plain": [
              "False"
            ]
          },
          "metadata": {},
          "execution_count": 57
        }
      ]
    },
    {
      "cell_type": "code",
      "source": [
        "3 <= 2"
      ],
      "metadata": {
        "colab": {
          "base_uri": "https://localhost:8080/"
        },
        "id": "9LSg5nL4JCsK",
        "outputId": "4c977906-81e7-49c4-80d7-284f5945e646"
      },
      "execution_count": null,
      "outputs": [
        {
          "output_type": "execute_result",
          "data": {
            "text/plain": [
              "False"
            ]
          },
          "metadata": {},
          "execution_count": 58
        }
      ]
    },
    {
      "cell_type": "code",
      "source": [
        "3 == 2.0"
      ],
      "metadata": {
        "colab": {
          "base_uri": "https://localhost:8080/"
        },
        "id": "eeLpfK3YJEuz",
        "outputId": "8127705d-b5bb-4699-fb6d-2b53661a1644"
      },
      "execution_count": null,
      "outputs": [
        {
          "output_type": "execute_result",
          "data": {
            "text/plain": [
              "False"
            ]
          },
          "metadata": {},
          "execution_count": 59
        }
      ]
    },
    {
      "cell_type": "code",
      "source": [
        "3.0 == 3"
      ],
      "metadata": {
        "colab": {
          "base_uri": "https://localhost:8080/"
        },
        "id": "FXrE8jMVJHCs",
        "outputId": "dd49a89a-fe1c-4055-8c7b-c692727ee603"
      },
      "execution_count": null,
      "outputs": [
        {
          "output_type": "execute_result",
          "data": {
            "text/plain": [
              "True"
            ]
          },
          "metadata": {},
          "execution_count": 60
        }
      ]
    },
    {
      "cell_type": "code",
      "source": [
        "4**0.5 != 2"
      ],
      "metadata": {
        "colab": {
          "base_uri": "https://localhost:8080/"
        },
        "id": "kGSoj5fVJIt_",
        "outputId": "aebacc0b-2bc3-46c6-dc0d-b07bdd29c645"
      },
      "execution_count": null,
      "outputs": [
        {
          "output_type": "execute_result",
          "data": {
            "text/plain": [
              "False"
            ]
          },
          "metadata": {},
          "execution_count": 61
        }
      ]
    },
    {
      "cell_type": "code",
      "source": [
        "l_one = [1,2,[3,4]]\n",
        "l_two = [1,2,{'k1':4}]\n",
        "l_one[2][0] >= l_two[2]['k1']"
      ],
      "metadata": {
        "colab": {
          "base_uri": "https://localhost:8080/"
        },
        "id": "W3iY6U0VJKy_",
        "outputId": "c6ba2ec0-b44c-4c74-9c54-5b1595aecabe"
      },
      "execution_count": null,
      "outputs": [
        {
          "output_type": "execute_result",
          "data": {
            "text/plain": [
              "False"
            ]
          },
          "metadata": {},
          "execution_count": 62
        }
      ]
    },
    {
      "cell_type": "code",
      "source": [
        "d = {'k1':[1,2,{'k2':['this is tricky',{'tough':[1,2,['hello']]}]}]}\n",
        "d['k1'][2]['k2'][1]['tough'][2][0]"
      ],
      "metadata": {
        "colab": {
          "base_uri": "https://localhost:8080/",
          "height": 37
        },
        "id": "6ObRxY0bJbY7",
        "outputId": "8f0e8edb-84f9-49bb-a6af-4dd0c7ac2247"
      },
      "execution_count": null,
      "outputs": [
        {
          "output_type": "execute_result",
          "data": {
            "text/plain": [
              "'hello'"
            ],
            "application/vnd.google.colaboratory.intrinsic+json": {
              "type": "string"
            }
          },
          "metadata": {},
          "execution_count": 1
        }
      ]
    },
    {
      "cell_type": "code",
      "source": [
        "'zuk'*10"
      ],
      "metadata": {
        "id": "Ynn7DPb0KOZx",
        "outputId": "4a2bdbfe-2f5c-49f8-c610-d1d3c8fc08a0",
        "colab": {
          "base_uri": "https://localhost:8080/",
          "height": 37
        }
      },
      "execution_count": null,
      "outputs": [
        {
          "output_type": "execute_result",
          "data": {
            "text/plain": [
              "'zukzukzukzukzukzukzukzukzukzuk'"
            ],
            "application/vnd.google.colaboratory.intrinsic+json": {
              "type": "string"
            }
          },
          "metadata": {},
          "execution_count": 1
        }
      ]
    },
    {
      "cell_type": "code",
      "source": [
        "import urllib.request\n",
        "response = urllib.request.urlopen('https://source.corp.google.com/piper///depot/google3/assistant/verticals/communication/fulfillment/nlg/send_message/send_message_zxx.genx.textpb')\n",
        "html = response.read()\n",
        "print(html)"
      ],
      "metadata": {
        "id": "1dnsqyfjn3Do",
        "colab": {
          "base_uri": "https://localhost:8080/"
        },
        "outputId": "02d2b1af-242d-411b-def9-1343890b6904"
      },
      "execution_count": null,
      "outputs": [
        {
          "output_type": "stream",
          "name": "stdout",
          "text": [
            "b'<!--googleoff: all-->\\n<html lang=\"en\"><head><title>source.corp.google.com - Google Single Sign On: Sign into corp</title>\\n<link href=\"/c/login.css\" rel=\"stylesheet\">\\n<link rel=\"icon\" href=\"/c/favicon.ico\" type=\"image/x-icon\">\\n<script type=\"text/javascript\" src=\"/c/corploginscript.js\" nonce=\"LWMxKy-DGnGK7QES0DNlIQ\">\\n        \\n      </script>\\n<script type=\"text/javascript\" nonce=\"LWMxKy-DGnGK7QES0DNlIQ\">\\n        \\n        otpParam = \"otp\";\\n        useOtp = 1;\\n\\n      </script>\\n<style type=\"text/css\">\\n          h1 {\\n            display: inherit;\\n            font-size: inherit;\\n            margin-block-start: inherit;\\n            margin-block-end: inherit;\\n            margin-inline-start: inherit;\\n            margin-inline-end: inherit;\\n            font-weight: inherit;\\n          }\\n        </style></head>\\n<body bgcolor=\"#ffffff\" vlink=\"#666666\"><table width=\"95%\" border=\"0\" align=\"center\" cellpadding=\"0\" cellspacing=\"0\" role=\"presentation\"><tr valign=\"top\"><td width=\"1%\"><img src=\"/c/sso-logo.gif\" border=\"0\" align=\"left\" vspace=\"13\" style=\"height: 3em;\" alt=\"Google Single Sign On\"></td>\\n<td width=\"99%\" bgcolor=\"#ffffff\" valign=\"top\"><table width=\"100%\" cellpadding=\"1\" role=\"presentation\"><tr valign=\"bottom\"><td><div align=\"right\">&nbsp;</div></td></tr>\\n<tr><td nowrap><table width=\"100%\" align=\"center\" cellpadding=\"0\" cellspacing=\"0\" bgcolor=\"#C3D9FF\" style=\"margin-bottom:5\" role=\"presentation\"><tr><td class=\"bubble tl\"><img src=\"/c/tl.gif\" alt=\"\"></td>\\n<th class=\"bubble\" rowspan=\"2\">Single Sign On</th>\\n<td class=\"bubble tr\"><img src=\"/c/tr.gif\" alt=\"\"></td></tr>\\n<tr><td class=\"bubble bl\"><img src=\"/c/bl.gif\" alt=\"\"></td>\\n<td class=\"bubble br\"><img src=\"/c/br.gif\" alt=\"\"></td></tr></table></td></tr></table></td></tr></table>\\n<br>\\n\\n<div role=\"main\"><form method=\"post\" id=\"loginForm\" name=\"loginForm\" action=\"/login\"><input type=\"hidden\" id=\"s\" name=\"s\" value=\"source.corp.google.com:443/uberproxy/\"/>\\n<input type=\"hidden\" id=\"c\" name=\"c\" value=\"1\"/>\\n<input type=\"hidden\" id=\"d\" name=\"d\" value=\"https://source.corp.google.com/piper///depot/google3/assistant/verticals/communication/fulfillment/nlg/send_message/send_message_zxx.genx.textpb?upxsrf=ADM2IpShzcGpKyJYD6_6ZSB496xLs_Y0amNxk987i0D7-WQnEA:1706527129993\"/>\\n<input type=\"hidden\" id=\"keyIds\" name=\"keyIds\" value=\"M9V,bLf,DU5,2O9\"/>\\n<input type=\"hidden\" id=\"maxAge\" name=\"maxAge\" value=\"1200\"/>\\n<input type=\"hidden\" id=\"authLevel\" name=\"authLevel\" value=\"2000000\"/>\\n<input type=\"hidden\" id=\"ssoformat\" name=\"ssoformat\" value=\"CORP_SSO\"/>\\n\\n<input type=\"hidden\" id=\"interactive\" name=\"interactive\" value=\"yes\">\\n<input type=\"hidden\" id=\"hasJavascript\" name=\"hasJavascript\" value=\"no\">\\n<input type=\"hidden\" id=\"mi\" name=\"mi\" value=\"\">\\n<input type=\"hidden\" id=\"bsc\" name=\"bsc\" value=\"\">\\n<script type=\"text/javascript\" nonce=\"LWMxKy-DGnGK7QES0DNlIQ\">\\n              \\n              fillMiField();\\n            </script>\\n<script type=\"text/javascript\" nonce=\"LWMxKy-DGnGK7QES0DNlIQ\">\\n              \\n              fillBscField();\\n            </script>\\n<table width=\"1\" align=\"center\" cellpadding=\"5\" cellspacing=\"1\" class=\"signin\" role=\"presentation\"><tr><td width=\"25%\" valign=\"top\" style=\"padding-top: .5em; padding-right: 2em;\">\\n\\n<table cellpadding=\"5\" width=\"100%\" border=\"0\" role=\"presentation\"><tr><td colspan=\"2\" style=\"text-align:center\" nowrap><div class=\"caption\"><h1>Use your SSO username and password</h1></div>\\n<div class=\"caption\">(* fields are required)</div></td></tr>\\n\\n\\n<tr><td nowrap><div align=\"right\"><font size=\"-1\" face=\"Arial, sans-serif\"><label for=\"username\">Username*:</label></font></div></td>\\n<td nowrap><input type=\"text\" name=\"u\" tabindex=\"1\" size=\"15\" id=\"username\" required value=\"\">\\n<span style=\"font-size: 83%; position: relative; bottom: 2px;\"><span style=\"padding: 0 3px 0 5px;\">@</span>\\ngoogle.com\\n<a href=\"#\" id=\"roleToggle\" style=\"color:black; text-decoration: none\" role=\"button\" aria-expanded aria-label=\"Expand to show role account input\">[+]</a>\\n<script type=\"text/javascript\" nonce=\"LWMxKy-DGnGK7QES0DNlIQ\">\\n                \\n                document.getElementById(\\'roleToggle\\').onclick = function(e) {\\n                  e.preventDefault();\\n                  toggleInput(\\'roleToggle\\', \\'roleRow\\', \\'role\\', 2, 1);\\n                }\\n              </script></span></td></tr>\\n<tr id=\"roleRow\" style=\"display: none;\"><td nowrap><div align=\"right\"><font size=\"-1\" face=\"Arial, sans-serif\"><label for=\"role\">Role:</label></font></div></td>\\n<td nowrap><input type=\"text\" name=\"role\" size=\"15\" id=\"role\">\\n<font size=\"-1\">&nbsp;<a href=\"https://g3doc.corp.google.com/company/teams/sso/intro.md#role-accounts\" tabindex=\"2\">What&#39;s this?</a></font></td></tr>\\n<tr><td nowrap><div align=\"right\"><font size=\"-1\"><label for=\"password\">Password*:</label></font></div></td>\\n<td nowrap><input type=\"password\" name=\"pw\" tabindex=\"3\" size=\"15\" autocomplete=\"off\" id=\"password\" required></td></tr>\\n\\n<tr><td><div align=\"right\" style=\"width: 90px;\"><font size=\"-1\"><label for=\"otp\"><a href=\"/c/SecurityCode.html\" tabindex=\"4\" target=\"_blank\" rel=\"noopener noreferrer\">Security Code</a>*:</label></font></div></td>\\n<td nowrap><input type=\"text\" name=\"otp\" tabindex=\"4\" size=\"15\" autocomplete=\"off\" id=\"otp\" required>\\n</td></tr>\\n\\n<tr><td colspan=\"2\" align=\"center\"><input type=\"submit\" name=\"signInButton\" id=\"signInButton\" value=\"Sign in\" style=\"padding: 2px;\" tabindex=\"4\"></td></tr>\\n<td colspan=\"2\" align=\"center\"></td></table>\\n<table border=\"0\" width=\"100%\" style=\"padding-top: 10px;\" role=\"presentation\"><tr><td align=\"left\"></td>\\n<td align=\"right\"><font size=\"-1\"><a href=\"https://static.corp.google.com/corpsso/techstop/techstop-phones.html\">Security Key help</a></font></td></tr>\\n<tr><td colspan=\"2\" align=\"right\"><font size=\"-1\"><a href=\"https://static.corp.google.com/corpsso/techstop/techstop-phones.html\">Password help</a></font></td></tr></table></td>\\n<td class=\"image-cell\" valign=\"top\"><div id=\"corplogin-image\"><img class=\"login-image\" src=\"https://static.corp.google.com/corpsso/images/_MG_2661.jpg\" alt=\"\"></div></td></tr></table></form></div>\\n<div id=\"interstitial-warning-fedramp\" class=\"fedramp-warning ssobox gnubby-signin hidden\"><p>You&#39;ve successfully signed in and will be redirected in 10 seconds</p>\\n<p class=\"errormsg\">You didn&#39;t use a Titan Security Key as required</p>\\n<p>Visit <a href=\"http://go/fedramp-compliance\">go/fedramp-compliance</a> to learn why you need to use a Titan Key</p></div>\\n<script type=\"text/javascript\" nonce=\"LWMxKy-DGnGK7QES0DNlIQ\">\\n    \\n    \\n    interstitialWarningDurationMs = 10000;\\n    fedrampWarningCookieName = \"FEDRAMPWARN\";\\n    interstitialWarningCookieName = \"INTERSTITIALWARNING\";\\n    \\n  </script>\\n<table width=\"95%\" border=\"0\" align=\"center\" cellpadding=\"0\" cellspacing=\"0\" class=\"footer\" role=\"presentation\"><tr valign=\"top\"><td width=\"99%\" bgcolor=\"#ffffff\" valign=\"top\"><table width=\"100%\" cellpadding=\"1\" role=\"presentation\"><tr valign=\"bottom\"><td><div align=\"right\">&nbsp;</div></td></tr>\\n<tr><td nowrap><table width=\"100%\" align=\"center\" cellpadding=\"0\" cellspacing=\"0\" bgcolor=\"#C3D9FF\" style=\"margin-bottom:5\" role=\"presentation\"><tr><td class=\"bubble tl\"><img src=\"/c/tl.gif\" alt=\"\"></td>\\n<th class=\"bubble\" rowspan=\"2\"><span>&nbsp;</span></th>\\n<td class=\"bubble tr\"><img src=\"/c/tr.gif\" alt=\"\"></td></tr>\\n<tr><td class=\"bubble bl\"><img src=\"/c/bl.gif\" alt=\"\"></td>\\n<td class=\"bubble br\"><img src=\"/c/br.gif\" alt=\"\"></td></tr></table></td></tr></table></td>\\n<td width=\"1%\"><a id=\"gnubbyLinkFooter\" href=\"https://login.corp.google.com/request?s=source.corp.google.com:443/uberproxy/&amp;d=https://source.corp.google.com/piper///depot/google3/assistant/verticals/communication/fulfillment/nlg/send_message/send_message_zxx.genx.textpb?upxsrf%3DADM2IpShzcGpKyJYD6_6ZSB496xLs_Y0amNxk987i0D7-WQnEA:1706527129993&amp;maxAge=1200&amp;authLevel=2000000&amp;keyIds=M9V,bLf,DU5,2O9&amp;c=1\"><img src=\"/c/balls.gif\" border=\"0\" alt=\"Sign in using Security Key\" align=\"left\" vspace=\"13\"></a>\\n<script type=\"text/javascript\" nonce=\"LWMxKy-DGnGK7QES0DNlIQ\">\\n            \\n            document.getElementById(\\'gnubbyLinkFooter\\').onclick = setGnubbyCookie;\\n          </script></td></tr></table>\\n\\n<script type=\"text/javascript\" nonce=\"LWMxKy-DGnGK7QES0DNlIQ\">\\n      \\n      document.getElementById(\\'loginForm\\').onsubmit = signInOnSubmit;\\n      document.body.onload = function() {\\n        loginOnload();\\n      }\\n    </script></body></html>'\n"
          ]
        }
      ]
    },
    {
      "cell_type": "code",
      "source": [
        "l=['one', 'two', 'three']"
      ],
      "metadata": {
        "id": "upzhPrs3MvH7"
      },
      "execution_count": null,
      "outputs": []
    },
    {
      "cell_type": "code",
      "source": [
        "l[0]='four'"
      ],
      "metadata": {
        "id": "dMTuDxdCkzu6"
      },
      "execution_count": null,
      "outputs": []
    },
    {
      "cell_type": "code",
      "source": [
        "print(l)"
      ],
      "metadata": {
        "id": "qp6kOmFLlDcv",
        "outputId": "b4c75e8d-a38c-41db-b26d-3b7560ed55a8",
        "colab": {
          "base_uri": "https://localhost:8080/"
        }
      },
      "execution_count": null,
      "outputs": [
        {
          "output_type": "stream",
          "name": "stdout",
          "text": [
            "['four', 'two', 'three']\n"
          ]
        }
      ]
    },
    {
      "cell_type": "code",
      "source": [
        "t=(4,4,3,1,2,9,9,4)"
      ],
      "metadata": {
        "id": "wDQE-po3pScP"
      },
      "execution_count": null,
      "outputs": []
    },
    {
      "cell_type": "code",
      "source": [
        "t[::-1]"
      ],
      "metadata": {
        "colab": {
          "base_uri": "https://localhost:8080/"
        },
        "id": "g-aK8DRapdLG",
        "outputId": "b05dca0c-3bd6-4d1b-8472-b96ad6d12181"
      },
      "execution_count": null,
      "outputs": [
        {
          "output_type": "execute_result",
          "data": {
            "text/plain": [
              "(4, 9, 9, 2, 1, 3, 4, 4)"
            ]
          },
          "metadata": {},
          "execution_count": 11
        }
      ]
    },
    {
      "cell_type": "code",
      "source": [
        "set = {1,2,3}"
      ],
      "metadata": {
        "id": "XLMreh-brmLs"
      },
      "execution_count": null,
      "outputs": []
    },
    {
      "cell_type": "code",
      "source": [
        "type(set)"
      ],
      "metadata": {
        "colab": {
          "base_uri": "https://localhost:8080/"
        },
        "id": "z9D27qovrs4X",
        "outputId": "318dd21a-b00e-4bd5-b857-7ff1e44ad820"
      },
      "execution_count": null,
      "outputs": [
        {
          "output_type": "execute_result",
          "data": {
            "text/plain": [
              "set"
            ]
          },
          "metadata": {},
          "execution_count": 13
        }
      ]
    },
    {
      "cell_type": "code",
      "source": [
        "set.add(4)"
      ],
      "metadata": {
        "id": "iGIOEGRKry6n"
      },
      "execution_count": null,
      "outputs": []
    },
    {
      "cell_type": "code",
      "source": [
        "set"
      ],
      "metadata": {
        "colab": {
          "base_uri": "https://localhost:8080/"
        },
        "id": "NWf7CKKWr4Qq",
        "outputId": "a9ee3149-e073-4841-aea2-1090c2975b42"
      },
      "execution_count": null,
      "outputs": [
        {
          "output_type": "execute_result",
          "data": {
            "text/plain": [
              "{1, 2, 3, 4}"
            ]
          },
          "metadata": {},
          "execution_count": 17
        }
      ]
    },
    {
      "cell_type": "code",
      "source": [
        "pwd"
      ],
      "metadata": {
        "id": "5BUihkAEJQ73",
        "outputId": "be0983c6-4d2f-4621-c811-b6908c054a71",
        "colab": {
          "base_uri": "https://localhost:8080/",
          "height": 37
        }
      },
      "execution_count": null,
      "outputs": [
        {
          "output_type": "execute_result",
          "data": {
            "text/plain": [
              "'/content'"
            ],
            "application/vnd.google.colaboratory.intrinsic+json": {
              "type": "string"
            }
          },
          "metadata": {},
          "execution_count": 18
        }
      ]
    },
    {
      "cell_type": "code",
      "source": [
        "name = 'Anna'\n",
        "\n",
        "if name == 'Susan':\n",
        "  print('Hello Susan')\n",
        "elif name == 'Andreas':\n",
        "  print('Hi Andreas')\n",
        "else:\n",
        "  print('Good Day')"
      ],
      "metadata": {
        "colab": {
          "base_uri": "https://localhost:8080/"
        },
        "id": "s6tVZD8TxR-1",
        "outputId": "6d38c083-d68c-4337-df71-31144c7119db"
      },
      "execution_count": null,
      "outputs": [
        {
          "output_type": "stream",
          "name": "stdout",
          "text": [
            "Good Day\n"
          ]
        }
      ]
    },
    {
      "cell_type": "code",
      "source": [
        "time = 'morning'\n",
        "\n",
        "if time == 'morning':\n",
        "  print('Good morning')\n",
        "elif time =='afternoon':\n",
        "  print('Good afternoon')\n",
        "elif time == 'evening':\n",
        "  print('Good evening')\n",
        "else:\n",
        "  print('Good night')"
      ],
      "metadata": {
        "colab": {
          "base_uri": "https://localhost:8080/"
        },
        "id": "-yhGWotIxt66",
        "outputId": "e74da4a1-bdb3-4df2-815a-3b1bf655d77f"
      },
      "execution_count": null,
      "outputs": [
        {
          "output_type": "stream",
          "name": "stdout",
          "text": [
            "Good morning\n"
          ]
        }
      ]
    },
    {
      "cell_type": "code",
      "source": [
        "num_list = [1,2,3,4,5,6,7,8,9,10]\n",
        "\n",
        "for Zahl in num_list:\n",
        "  print('Moin')"
      ],
      "metadata": {
        "colab": {
          "base_uri": "https://localhost:8080/"
        },
        "id": "wRgwzm9_2OUn",
        "outputId": "0fab2abe-33b9-4658-bdc5-0eb321600a80"
      },
      "execution_count": null,
      "outputs": [
        {
          "output_type": "stream",
          "name": "stdout",
          "text": [
            "Moin\n",
            "Moin\n",
            "Moin\n",
            "Moin\n",
            "Moin\n",
            "Moin\n",
            "Moin\n",
            "Moin\n",
            "Moin\n",
            "Moin\n"
          ]
        }
      ]
    },
    {
      "cell_type": "code",
      "source": [
        "for Zahl in num_list:\n",
        "  if Zahl % 2 == 0:\n",
        "    print(Zahl)\n",
        "  else:\n",
        "    print(f'Odd number {Zahl}')"
      ],
      "metadata": {
        "colab": {
          "base_uri": "https://localhost:8080/"
        },
        "id": "wl8thrBO2p3U",
        "outputId": "23f2e087-8c56-48c2-d1a2-01659dfa406e"
      },
      "execution_count": null,
      "outputs": [
        {
          "output_type": "stream",
          "name": "stdout",
          "text": [
            "Odd number 1\n",
            "2\n",
            "Odd number 3\n",
            "4\n",
            "Odd number 5\n",
            "6\n",
            "Odd number 7\n",
            "8\n",
            "Odd number 9\n",
            "10\n"
          ]
        }
      ]
    },
    {
      "cell_type": "code",
      "source": [
        "list_sum = 0\n",
        "\n",
        "for Zahl in num_list:\n",
        "  list_sum = list_sum + Zahl\n",
        "\n",
        "print(list_sum)"
      ],
      "metadata": {
        "colab": {
          "base_uri": "https://localhost:8080/"
        },
        "id": "FQARx2l83-Q6",
        "outputId": "4a2f0a60-64a4-4cbb-b4d9-d365c6501a12"
      },
      "execution_count": null,
      "outputs": [
        {
          "output_type": "stream",
          "name": "stdout",
          "text": [
            "55\n"
          ]
        }
      ]
    },
    {
      "cell_type": "code",
      "source": [
        "Wort = 'Mississipi'\n",
        "\n",
        "for letter in Wort:\n",
        "  if letter == 'i':\n",
        "    print('1')\n",
        "  if letter == 's':\n",
        "    print('5')\n",
        "  else:\n",
        "    print(letter)"
      ],
      "metadata": {
        "colab": {
          "base_uri": "https://localhost:8080/"
        },
        "id": "RIqO4nMT9Qw3",
        "outputId": "9c4d227c-40a3-4f31-86ed-40433540a063"
      },
      "execution_count": null,
      "outputs": [
        {
          "output_type": "stream",
          "name": "stdout",
          "text": [
            "M\n",
            "1\n",
            "i\n",
            "5\n",
            "5\n",
            "1\n",
            "i\n",
            "5\n",
            "5\n",
            "1\n",
            "i\n",
            "p\n",
            "1\n",
            "i\n"
          ]
        }
      ]
    },
    {
      "cell_type": "code",
      "source": [
        "tup_list = [(\"a\",2),(\"b\",4),(\"c\",6)]\n",
        "\n",
        "for a,b in tup_list:\n",
        "  print(a)\n",
        "  print(b)"
      ],
      "metadata": {
        "colab": {
          "base_uri": "https://localhost:8080/"
        },
        "id": "SNCfWxWaLS0w",
        "outputId": "f7f08576-6f4f-4c9b-ea71-a46e9c7afdc1"
      },
      "execution_count": null,
      "outputs": [
        {
          "output_type": "stream",
          "name": "stdout",
          "text": [
            "a\n",
            "2\n",
            "b\n",
            "4\n",
            "c\n",
            "6\n"
          ]
        }
      ]
    },
    {
      "cell_type": "code",
      "source": [
        "mydict = {'k1':1,'k2':2,'k3':3}\n",
        "\n",
        "for item in mydict.items():\n",
        "  print(item)"
      ],
      "metadata": {
        "colab": {
          "base_uri": "https://localhost:8080/"
        },
        "id": "rGV-gVdRNNzJ",
        "outputId": "95aa69f2-1a5c-4889-d288-e3f8e8b28b42"
      },
      "execution_count": null,
      "outputs": [
        {
          "output_type": "stream",
          "name": "stdout",
          "text": [
            "('k1', 1)\n",
            "('k2', 2)\n",
            "('k3', 3)\n"
          ]
        }
      ]
    },
    {
      "cell_type": "code",
      "source": [
        "for key,value in mydict.items():\n",
        "  print(key)\n",
        "  print(value)"
      ],
      "metadata": {
        "colab": {
          "base_uri": "https://localhost:8080/"
        },
        "id": "lYQh3zdwNlsP",
        "outputId": "6545f3ec-2160-44b5-9f1f-41d690763711"
      },
      "execution_count": null,
      "outputs": [
        {
          "output_type": "stream",
          "name": "stdout",
          "text": [
            "k1\n",
            "1\n",
            "k2\n",
            "2\n",
            "k3\n",
            "3\n"
          ]
        }
      ]
    },
    {
      "cell_type": "code",
      "source": [
        "for value in mydict.values():\n",
        "  print(value)"
      ],
      "metadata": {
        "colab": {
          "base_uri": "https://localhost:8080/"
        },
        "id": "vInJ7lRLNtsc",
        "outputId": "0e5973ba-332c-490b-a269-d5bf3f9ddac6"
      },
      "execution_count": null,
      "outputs": [
        {
          "output_type": "stream",
          "name": "stdout",
          "text": [
            "1\n",
            "2\n",
            "3\n"
          ]
        }
      ]
    },
    {
      "cell_type": "code",
      "source": [
        "for value in mydict.keys():\n",
        "  print(value)"
      ],
      "metadata": {
        "id": "QVXHpKNlN4ub",
        "outputId": "2f52ef9c-6bbd-4cae-f653-fe4bf4b246cb",
        "colab": {
          "base_uri": "https://localhost:8080/"
        }
      },
      "execution_count": null,
      "outputs": [
        {
          "output_type": "stream",
          "name": "stdout",
          "text": [
            "k1\n",
            "k2\n",
            "k3\n"
          ]
        }
      ]
    },
    {
      "cell_type": "code",
      "source": [
        "x = 0\n",
        "\n",
        "while x < 5:\n",
        "  print(x)\n",
        "  x += 1"
      ],
      "metadata": {
        "colab": {
          "base_uri": "https://localhost:8080/"
        },
        "id": "kvrpVKbZrSTA",
        "outputId": "e80c337f-6c5a-431c-b3b2-10b64fe3ba12"
      },
      "execution_count": null,
      "outputs": [
        {
          "output_type": "stream",
          "name": "stdout",
          "text": [
            "0\n",
            "1\n",
            "2\n",
            "3\n",
            "4\n"
          ]
        }
      ]
    },
    {
      "cell_type": "code",
      "source": [
        "x = 0\n",
        "\n",
        "while x < 5:\n",
        "  print(x)\n",
        "  x += 1\n",
        "else:\n",
        "  print('x > 5!')"
      ],
      "metadata": {
        "colab": {
          "base_uri": "https://localhost:8080/"
        },
        "id": "FKv9d0TCr15h",
        "outputId": "065b930b-90b6-4f2c-f98c-f9edb9913708"
      },
      "execution_count": null,
      "outputs": [
        {
          "output_type": "stream",
          "name": "stdout",
          "text": [
            "0\n",
            "1\n",
            "2\n",
            "3\n",
            "4\n",
            "x > 5!\n"
          ]
        }
      ]
    },
    {
      "cell_type": "code",
      "source": [
        "for num in range(0,21,5):\n",
        "  print(num)"
      ],
      "metadata": {
        "colab": {
          "base_uri": "https://localhost:8080/"
        },
        "id": "E5Jbu0BhtZ97",
        "outputId": "77cba806-4e45-42ab-b637-54b8a4ad3804"
      },
      "execution_count": null,
      "outputs": [
        {
          "output_type": "stream",
          "name": "stdout",
          "text": [
            "0\n",
            "5\n",
            "10\n",
            "15\n",
            "20\n"
          ]
        }
      ]
    },
    {
      "cell_type": "code",
      "source": [
        "for index,letter in enumerate('alpha'):\n",
        "  print(index)\n",
        "  print(letter)"
      ],
      "metadata": {
        "colab": {
          "base_uri": "https://localhost:8080/"
        },
        "id": "W_BUUlmDtoP3",
        "outputId": "9dc82487-dcb4-400d-d13c-e600b3406fb1"
      },
      "execution_count": null,
      "outputs": [
        {
          "output_type": "stream",
          "name": "stdout",
          "text": [
            "0\n",
            "a\n",
            "1\n",
            "l\n",
            "2\n",
            "p\n",
            "3\n",
            "h\n",
            "4\n",
            "a\n"
          ]
        }
      ]
    },
    {
      "cell_type": "code",
      "source": [
        "list(enumerate('alpha'))"
      ],
      "metadata": {
        "colab": {
          "base_uri": "https://localhost:8080/"
        },
        "id": "KNJMR2_rtyUU",
        "outputId": "1ef46be2-c397-4897-8953-9e0c5a608b00"
      },
      "execution_count": null,
      "outputs": [
        {
          "data": {
            "text/plain": [
              "[(0, 'a'), (1, 'l'), (2, 'p'), (3, 'h'), (4, 'a')]"
            ]
          },
          "execution_count": 14,
          "metadata": {},
          "output_type": "execute_result"
        }
      ]
    },
    {
      "cell_type": "code",
      "source": [
        "mylist1 = [1,2,3,4,5]\n",
        "mylist2 = ['a','b','c','d','e']\n",
        "mylist3 = [4.5,1.2,9.0,5.6,8.2]\n",
        "\n",
        "list(zip(mylist1,mylist2,mylist3))"
      ],
      "metadata": {
        "colab": {
          "base_uri": "https://localhost:8080/"
        },
        "id": "IcYj_G23vaQ8",
        "outputId": "d22e6e5d-00fc-439a-9e11-5bbc874deea3"
      },
      "execution_count": null,
      "outputs": [
        {
          "output_type": "execute_result",
          "data": {
            "text/plain": [
              "[(1, 'a', 4.5), (2, 'b', 1.2), (3, 'c', 9.0), (4, 'd', 5.6), (5, 'e', 8.2)]"
            ]
          },
          "metadata": {},
          "execution_count": 17
        }
      ]
    },
    {
      "cell_type": "code",
      "source": [
        "'s' in 'Mississippi'"
      ],
      "metadata": {
        "colab": {
          "base_uri": "https://localhost:8080/"
        },
        "id": "u_8rbe12xLI7",
        "outputId": "a783036a-0488-4ec6-95be-faffdeaa5ab4"
      },
      "execution_count": null,
      "outputs": [
        {
          "output_type": "execute_result",
          "data": {
            "text/plain": [
              "True"
            ]
          },
          "metadata": {},
          "execution_count": 19
        }
      ]
    },
    {
      "cell_type": "code",
      "source": [
        "var1 = int(input('Enter value here: '))"
      ],
      "metadata": {
        "colab": {
          "base_uri": "https://localhost:8080/"
        },
        "id": "cJn2FEDL0ybd",
        "outputId": "d5017ba5-4c17-457f-a984-7c7cc2b349ff"
      },
      "execution_count": null,
      "outputs": [
        {
          "name": "stdout",
          "output_type": "stream",
          "text": [
            "Enter value here: 90\n"
          ]
        }
      ]
    },
    {
      "cell_type": "code",
      "source": [
        "print(var1)"
      ],
      "metadata": {
        "colab": {
          "base_uri": "https://localhost:8080/"
        },
        "id": "DvYwK4Rq1g8x",
        "outputId": "c271832c-d728-4950-ca95-c1d662a3f134"
      },
      "execution_count": null,
      "outputs": [
        {
          "output_type": "stream",
          "name": "stdout",
          "text": [
            "90\n"
          ]
        }
      ]
    },
    {
      "cell_type": "code",
      "source": [
        "type(var1)"
      ],
      "metadata": {
        "colab": {
          "base_uri": "https://localhost:8080/"
        },
        "id": "Iqbl5gPH1kNE",
        "outputId": "24c78c12-7c16-4ce7-84f4-bfb16a1d93dc"
      },
      "execution_count": null,
      "outputs": [
        {
          "output_type": "execute_result",
          "data": {
            "text/plain": [
              "int"
            ]
          },
          "metadata": {},
          "execution_count": 26
        }
      ]
    },
    {
      "cell_type": "code",
      "source": [
        "var=\"string\"\n",
        "newlist=[]\n",
        "for letter in var:\n",
        "  newlist.append(letter)\n",
        "print(newlist)"
      ],
      "metadata": {
        "colab": {
          "base_uri": "https://localhost:8080/"
        },
        "id": "tDB9EdmAOw4U",
        "outputId": "06719135-4a4f-4e39-9198-b29fd0f70df3"
      },
      "execution_count": null,
      "outputs": [
        {
          "output_type": "stream",
          "name": "stdout",
          "text": [
            "['s', 't', 'r', 'i', 'n', 'g']\n"
          ]
        }
      ]
    },
    {
      "cell_type": "code",
      "source": [
        "var=\"string\"\n",
        "newlist=[x for x in var]\n",
        "print(newlist)"
      ],
      "metadata": {
        "colab": {
          "base_uri": "https://localhost:8080/"
        },
        "id": "-YqhHuz2PN0j",
        "outputId": "ba30d078-9089-4615-d9c5-0642c86fe166"
      },
      "execution_count": null,
      "outputs": [
        {
          "output_type": "stream",
          "name": "stdout",
          "text": [
            "['s', 't', 'r', 'i', 'n', 'g']\n"
          ]
        }
      ]
    },
    {
      "cell_type": "code",
      "source": [
        "newlist=[num for num in range(0,11) if num%2 == 0]\n",
        "print(newlist)"
      ],
      "metadata": {
        "colab": {
          "base_uri": "https://localhost:8080/"
        },
        "id": "HeuTanlXPfTd",
        "outputId": "4bcd662e-da3b-4900-9323-259047c4862f"
      },
      "execution_count": null,
      "outputs": [
        {
          "output_type": "stream",
          "name": "stdout",
          "text": [
            "[0, 2, 4, 6, 8, 10]\n"
          ]
        }
      ]
    },
    {
      "cell_type": "code",
      "source": [
        "celsius=[10,15,32.5,-10]\n",
        "fahrenheit=[(9/5*temp +32) for temp in celsius]\n",
        "print(fahrenheit)"
      ],
      "metadata": {
        "colab": {
          "base_uri": "https://localhost:8080/"
        },
        "id": "DOB40r3QQKYi",
        "outputId": "c486831e-d5e7-4f91-bdc9-d5c251ca607f"
      },
      "execution_count": null,
      "outputs": [
        {
          "output_type": "stream",
          "name": "stdout",
          "text": [
            "[50.0, 59.0, 90.5, 14.0]\n"
          ]
        }
      ]
    },
    {
      "cell_type": "code",
      "source": [
        "import random\n",
        "print(\"Welcome to Team Allocator!\")\n",
        "while True:\n",
        "  players = []\n",
        "  teams = []\n",
        "\n",
        "  number_of_players = int(input(\"How many players are there? \"))\n",
        "  for i in range(1, number_of_players+1):\n",
        "    players.append(i)\n",
        "  random.shuffle(players)\n",
        "\n",
        "  response = input(\"Is it a team or individual sport?\\nType team or ind: \")\n",
        "  if response == \"team\":\n",
        "\n",
        "    number_of_teams = int(input(\"How many teams do you need? \"))\n",
        "    if number_of_players % number_of_teams == 0:\n",
        "      for i in range(1,number_of_teams+1):\n",
        "        teams.append(i)\n",
        "\n",
        "      for team in teams:\n",
        "        print(\"\\nTeam \" + str(team) + \":\")\n",
        "        print(players[(number_of_players//number_of_teams)*(team-1):(number_of_players//number_of_teams)*team])\n",
        "        print(\"Team Captain: \" + str(random.choice(players[(number_of_players//number_of_teams)*(team-1):(number_of_players//number_of_teams)*team])))\n",
        "    else:\n",
        "      print(\"The number of players cannot be divided equally into teams.\")\n",
        "  else:\n",
        "    for i in range(0, number_of_players, 2):\n",
        "      print(str(players[i]) + \" vs \" + str(players[i+1]))\n",
        "      start = random.randrange(i, i+2)\n",
        "      print(str(players[start]) + \" starts\\n\")\n",
        "  response = input(\"\\nStart again? Type y or n: \")\n",
        "  if response == \"n\":\n",
        "    break"
      ],
      "metadata": {
        "colab": {
          "base_uri": "https://localhost:8080/"
        },
        "id": "usT_QSFup-9T",
        "outputId": "4e79b45e-218d-4994-ec07-f0a984f38df9"
      },
      "execution_count": null,
      "outputs": [
        {
          "name": "stdout",
          "output_type": "stream",
          "text": [
            "Welcome to Team Allocator!\n",
            "How many players are there? 10\n",
            "Is it a team or individual sport?\n",
            "Type team or ind: team\n",
            "How many teams do you need? 2\n",
            "\n",
            "Team 1:\n",
            "[6, 10, 9, 3, 7]\n",
            "Team Captain: 3\n",
            "\n",
            "Team 2:\n",
            "[2, 8, 5, 1, 4]\n",
            "Team Captain: 1\n",
            "\n",
            "Start again? Type y or n: n\n"
          ]
        }
      ]
    },
    {
      "cell_type": "code",
      "source": [
        "numbers = [3, 6, 7, 9, 10, 12, 15, 24, 26, 17, 18, 31]\n",
        "result = []\n",
        "for number in numbers:\n",
        "  if number % 2 == 0 and number > 10:\n",
        "    result.append(number)\n",
        "\n",
        "print(result)"
      ],
      "metadata": {
        "colab": {
          "base_uri": "https://localhost:8080/"
        },
        "id": "wjBBcZEK66Rm",
        "outputId": "9c0e7d23-2723-4646-c928-8e2119b4a9d1"
      },
      "execution_count": null,
      "outputs": [
        {
          "output_type": "stream",
          "name": "stdout",
          "text": [
            "[12, 24, 26, 18]\n"
          ]
        }
      ]
    },
    {
      "cell_type": "code",
      "source": [
        "words = [\"desk\", \"window\", \"sofa\", \"living room table\", \"chandelier\"]\n",
        "exp = []\n",
        "target_length = 10\n",
        "\n",
        "for word in words:\n",
        "  if len(word) == target_length:\n",
        "    exp.append(word)\n",
        "\n",
        "print(exp)"
      ],
      "metadata": {
        "colab": {
          "base_uri": "https://localhost:8080/"
        },
        "id": "x1CLlRtD78_n",
        "outputId": "beb7dce4-b517-4133-9aab-a3f4e802d6a8"
      },
      "execution_count": null,
      "outputs": [
        {
          "output_type": "stream",
          "name": "stdout",
          "text": [
            "['chandelier']\n"
          ]
        }
      ]
    },
    {
      "cell_type": "code",
      "source": [
        "def addition(x=1, y=2):\n",
        "  #set a default for x and y\n",
        "  return x + y\n",
        "result = addition(4,5)\n",
        "print(result)"
      ],
      "metadata": {
        "colab": {
          "base_uri": "https://localhost:8080/"
        },
        "id": "L50dIPWJuQLb",
        "outputId": "4be42a19-f993-48d6-fc41-8855c7749789"
      },
      "execution_count": null,
      "outputs": [
        {
          "output_type": "stream",
          "name": "stdout",
          "text": [
            "9\n"
          ]
        }
      ]
    },
    {
      "cell_type": "code",
      "source": [
        "stock_prices = [('APPL', 300), ('GOOG', 400), ('MSFT', 100)]\n",
        "\n",
        "for ticker, price in stock_prices:\n",
        "  print(str(ticker)+\" :\"+str(price))\n",
        "  print(\"+25%\")\n",
        "  print(price + 0.25*price)"
      ],
      "metadata": {
        "colab": {
          "base_uri": "https://localhost:8080/"
        },
        "id": "XID9e930gXXz",
        "outputId": "da69155b-31b4-46d2-bf8f-c8e84753045f"
      },
      "execution_count": null,
      "outputs": [
        {
          "output_type": "stream",
          "name": "stdout",
          "text": [
            "APPL :300\n",
            "+25%\n",
            "375.0\n",
            "GOOG :400\n",
            "+25%\n",
            "500.0\n",
            "MSFT :100\n",
            "+25%\n",
            "125.0\n"
          ]
        }
      ]
    },
    {
      "cell_type": "code",
      "source": [
        "work_hours = [('Abby', 100), ('Billy', 300), ('Cassie', 500), ('David', 450)]\n",
        "\n",
        "def employee_check(work_hours):\n",
        "\n",
        "  current_max = 0\n",
        "  employee_of_month = ''\n",
        "\n",
        "  for employee, hours in work_hours:\n",
        "    if hours > current_max:\n",
        "      current_max = hours\n",
        "      employee_of_month = employee\n",
        "    else:\n",
        "      pass\n",
        "\n",
        "  return(employee_of_month, current_max)"
      ],
      "metadata": {
        "id": "qV5UUzjqiTPI"
      },
      "execution_count": null,
      "outputs": []
    },
    {
      "cell_type": "code",
      "source": [
        "employee_check(work_hours)"
      ],
      "metadata": {
        "colab": {
          "base_uri": "https://localhost:8080/"
        },
        "id": "NfCeTWGrjCNV",
        "outputId": "07a4cc23-1e09-4a66-afff-c8a25fd3bf9d"
      },
      "execution_count": null,
      "outputs": [
        {
          "output_type": "execute_result",
          "data": {
            "text/plain": [
              "('Cassie', 500)"
            ]
          },
          "metadata": {},
          "execution_count": 14
        }
      ]
    },
    {
      "cell_type": "code",
      "source": [
        "result = employee_check(work_hours)\n",
        "\n",
        "result"
      ],
      "metadata": {
        "colab": {
          "base_uri": "https://localhost:8080/"
        },
        "id": "HcbQOEXqjmNw",
        "outputId": "7e8739ce-cdf4-416c-ab3b-b5c55bf3b09b"
      },
      "execution_count": null,
      "outputs": [
        {
          "output_type": "execute_result",
          "data": {
            "text/plain": [
              "('Cassie', 500)"
            ]
          },
          "metadata": {},
          "execution_count": 16
        }
      ]
    },
    {
      "cell_type": "code",
      "source": [
        "name, hours = employee_check(work_hours)\n",
        "\n",
        "name"
      ],
      "metadata": {
        "colab": {
          "base_uri": "https://localhost:8080/",
          "height": 35
        },
        "id": "9YDBXmsvjrA7",
        "outputId": "028b8c09-b383-4c41-d727-0d87173006a5"
      },
      "execution_count": null,
      "outputs": [
        {
          "output_type": "execute_result",
          "data": {
            "text/plain": [
              "'Cassie'"
            ],
            "application/vnd.google.colaboratory.intrinsic+json": {
              "type": "string"
            }
          },
          "metadata": {},
          "execution_count": 20
        }
      ]
    },
    {
      "cell_type": "code",
      "source": [
        "hours"
      ],
      "metadata": {
        "colab": {
          "base_uri": "https://localhost:8080/"
        },
        "id": "KHfzLr35j1V4",
        "outputId": "f5c08ef7-0f11-4bfb-ed5e-8577e9b6ebbf"
      },
      "execution_count": null,
      "outputs": [
        {
          "output_type": "execute_result",
          "data": {
            "text/plain": [
              "500"
            ]
          },
          "metadata": {},
          "execution_count": 21
        }
      ]
    },
    {
      "cell_type": "code",
      "source": [
        "from random import shuffle\n",
        "\n",
        "def shuffle_list(game_list):\n",
        "  shuffle(game_list)\n",
        "  return game_list\n",
        "\n",
        "def player_guess():\n",
        "  guess = ''\n",
        "  while guess not in ['0', '1', '2']:\n",
        "    guess = input(\"Pick a number: 0, 1 or 2: \")\n",
        "\n",
        "  return int(guess)\n",
        "\n",
        "def check_guess(mylist, guess):\n",
        "  if mylist[guess] == 'O':\n",
        "    print(\"Correct!\")\n",
        "  else:\n",
        "    print(\"Wrong guess!\")\n",
        "    print(mylist)\n",
        "\n",
        "game_list = [' ', 'O', ' ']\n",
        "mixedup_list =shuffle_list(game_list)\n",
        "guess = player_guess()\n",
        "check_guess(mixedup_list, guess)"
      ],
      "metadata": {
        "colab": {
          "base_uri": "https://localhost:8080/"
        },
        "id": "fi8T3Vtg6Djt",
        "outputId": "5b163400-e646-4ba6-a215-2824bec71c21"
      },
      "execution_count": null,
      "outputs": [
        {
          "output_type": "stream",
          "name": "stdout",
          "text": [
            "Pick a number: 0, 1 or 2: 7\n",
            "Pick a number: 0, 1 or 2: 2\n",
            "Wrong guess!\n",
            "['O', ' ', ' ']\n"
          ]
        }
      ]
    },
    {
      "cell_type": "code",
      "source": [
        "def myfunc(string):\n",
        "  stringlist=[]\n",
        "  for i in range(len(string)):\n",
        "    if i % 2 == 0:\n",
        "      stringlist.append(string[i].lower())\n",
        "    else:\n",
        "      stringlist.append(string[i].upper())\n",
        "  return \"\".join(stringlist)\n",
        "  print(\"\".join(stringlist))\n",
        "\n",
        "myfunc(\"Gurkenabschneidemaschine\")"
      ],
      "metadata": {
        "colab": {
          "base_uri": "https://localhost:8080/",
          "height": 37
        },
        "id": "dNOi3PY6xTkQ",
        "outputId": "cae2ac14-e323-4947-f26a-b947613935ff"
      },
      "execution_count": null,
      "outputs": [
        {
          "output_type": "execute_result",
          "data": {
            "text/plain": [
              "'gUrKeNaBsChNeIdEmAsChInE'"
            ],
            "application/vnd.google.colaboratory.intrinsic+json": {
              "type": "string"
            }
          },
          "metadata": {},
          "execution_count": 45
        }
      ]
    },
    {
      "cell_type": "code",
      "source": [
        "list = [1,2,3,4,5,6]\n",
        "list.index(1)"
      ],
      "metadata": {
        "colab": {
          "base_uri": "https://localhost:8080/"
        },
        "id": "HguSsMZLM_yB",
        "outputId": "f7660aeb-3a19-4f0a-9119-639a4311628d"
      },
      "execution_count": null,
      "outputs": [
        {
          "output_type": "execute_result",
          "data": {
            "text/plain": [
              "0"
            ]
          },
          "metadata": {},
          "execution_count": 1
        }
      ]
    },
    {
      "cell_type": "code",
      "source": [
        "def display(row1,row2,row3):\n",
        "  print(row1)\n",
        "  print(row2)\n",
        "  print(row3)"
      ],
      "metadata": {
        "id": "kNNbz0mUwqkl"
      },
      "execution_count": null,
      "outputs": []
    },
    {
      "cell_type": "code",
      "source": [
        "row1 = [' ',' ',' ']\n",
        "row2 = [' ',' ',' ']\n",
        "row3 = [' ',' ',' ']\n",
        "\n",
        "display(row1, row2, row3)"
      ],
      "metadata": {
        "colab": {
          "base_uri": "https://localhost:8080/",
          "height": 69
        },
        "id": "K021EvjLwy4c",
        "outputId": "9dc93ee4-a6a2-43b4-81f7-ada3ffd3d69a"
      },
      "execution_count": null,
      "outputs": [
        {
          "output_type": "display_data",
          "data": {
            "text/plain": [
              "[' ', ' ', ' ']"
            ]
          },
          "metadata": {}
        },
        {
          "output_type": "display_data",
          "data": {
            "text/plain": [
              "[' ', ' ', ' ']"
            ]
          },
          "metadata": {}
        },
        {
          "output_type": "display_data",
          "data": {
            "text/plain": [
              "[' ', ' ', ' ']"
            ]
          },
          "metadata": {}
        }
      ]
    },
    {
      "cell_type": "code",
      "source": [
        "def user_choice():\n",
        "\n",
        "#Variables\n",
        "\n",
        "#Initial\n",
        "\n",
        "  choice = \"WRONG\"\n",
        "  acceptable_range = range(0,10+1)\n",
        "  within_range = False\n",
        "\n",
        "# Check 2 conditions\n",
        "# digit / within range = false\n",
        "\n",
        "  while choice.isdigit() == False or within_range == False:\n",
        "    choice = input(\"Please enter a number (0-10): \")\n",
        "\n",
        "    # digit check:\n",
        "\n",
        "    if choice.isdigit() == False:\n",
        "      print(\"Sorry, this is not a digit!\")\n",
        "\n",
        "    if choice.isdigit() == True:\n",
        "      if int(choice) in acceptable_range:\n",
        "        within_range = True\n",
        "      else:\n",
        "        print(\"Sorry, this number is not within the range!\")\n",
        "        within_range = False\n",
        "\n",
        "  return int(choice)"
      ],
      "metadata": {
        "id": "_jeuExt_LJ3A"
      },
      "execution_count": null,
      "outputs": []
    },
    {
      "cell_type": "code",
      "source": [
        "user_choice()"
      ],
      "metadata": {
        "colab": {
          "base_uri": "https://localhost:8080/"
        },
        "id": "nyYynM05Mw9V",
        "outputId": "e3f3db85-2e54-4693-90f5-dd65f9e089e1"
      },
      "execution_count": null,
      "outputs": [
        {
          "name": "stdout",
          "output_type": "stream",
          "text": [
            "Please enter a number (0-10): 98\n",
            "Sorry, this number is not within the range!\n",
            "Please enter a number (0-10): two\n",
            "Sorry, this is not a digit!\n",
            "Please enter a number (0-10): 8\n"
          ]
        },
        {
          "output_type": "execute_result",
          "data": {
            "text/plain": [
              "8"
            ]
          },
          "metadata": {},
          "execution_count": 6
        }
      ]
    },
    {
      "cell_type": "code",
      "source": [
        "game_list = [0,1,2]\n",
        "game_on = True\n",
        "\n",
        "def display_game(game_list):\n",
        "  print(\"Here is the current list: \")\n",
        "  print(game_list)\n",
        "\n",
        "def position_choice():\n",
        "\n",
        "  choice = 'Wrong'\n",
        "\n",
        "  while choice not in ['0','1','2']:\n",
        "    choice = input(\"Pick a position (0,1,2): \")\n",
        "\n",
        "    if choice not in ['0','1','2']:\n",
        "      print(\"Sorry, invalid choice!\")\n",
        "\n",
        "  return int(choice)\n",
        "\n",
        "def replacement_choice(game_list,position):\n",
        "\n",
        "  user_placement = input(\"Type a string to place at the chosen position: \")\n",
        "  game_list[position] = user_placement\n",
        "\n",
        "  return game_list\n",
        "\n",
        "def gameon_choice():\n",
        "\n",
        "  choice = \"Wrong\"\n",
        "\n",
        "  while choice not in ['Y','N']:\n",
        "    choice = input(\"Do you want to keep playing? (Y/N) \")\n",
        "\n",
        "    if choice not in ['Y','N']:\n",
        "      print(\"Sorry, I don't understand. Please choose Y or N. \")\n",
        "\n",
        "  if choice == 'Y':\n",
        "    return True\n",
        "  else:\n",
        "    return False\n",
        "\n",
        "while game_on:\n",
        "  #show game list\n",
        "  display_game(game_list)\n",
        "\n",
        "  # get the position to replace\n",
        "  position = position_choice()\n",
        "\n",
        "  #ask for the replacement and replace the position\n",
        "  game_list = replacement_choice(game_list, position)\n",
        "\n",
        "  #show the game list again\n",
        "  display_game(game_list)\n",
        "\n",
        "  #ask user if they want to keep playing\n",
        "  game_on = gameon_choice()"
      ],
      "metadata": {
        "id": "lCcUXfNvY3fl",
        "colab": {
          "base_uri": "https://localhost:8080/"
        },
        "outputId": "a146d800-15c4-48cf-dc81-02971135db26"
      },
      "execution_count": null,
      "outputs": [
        {
          "name": "stdout",
          "output_type": "stream",
          "text": [
            "Here is the current list: \n",
            "[0, 1, 2]\n",
            "Pick a position (0,1,2): 1\n",
            "Type a string to place at the chosen position: true\n",
            "Here is the current list: \n",
            "[0, 'true', 2]\n",
            "Do you want to keep playing? (Y/N) n\n",
            "Sorry, I don't understand. Please choose Y or N. \n",
            "Do you want to keep playing? (Y/N) N\n"
          ]
        }
      ]
    },
    {
      "cell_type": "code",
      "source": [
        "import random\n",
        "\n",
        "def choose_first():\n",
        "    if random.randint(1,2) == 1:\n",
        "      print(\"Player 1 will start.\")\n",
        "    else:\n",
        "      print(\"Player 2 will start.\")"
      ],
      "metadata": {
        "id": "s3sQQSAGo_HU"
      },
      "execution_count": null,
      "outputs": []
    },
    {
      "cell_type": "code",
      "source": [
        "choose_first()"
      ],
      "metadata": {
        "colab": {
          "base_uri": "https://localhost:8080/"
        },
        "id": "FCGwk5kFpnMn",
        "outputId": "9e4a8b1b-4102-41b5-e1b5-43f410717a83"
      },
      "execution_count": null,
      "outputs": [
        {
          "output_type": "stream",
          "name": "stdout",
          "text": [
            "Player 2 will start.\n"
          ]
        }
      ]
    },
    {
      "cell_type": "code",
      "source": [
        "test_board = ['#','X','O','X','O','X','O','X',' ','X']\n",
        "\n",
        "def display_board(board):\n",
        "\n",
        "    print(\"\",board[1],\"|\",board[2],\"|\",board[3],\"\")\n",
        "    print(\"--- --- ---\")\n",
        "    print(\"\",board[4],\"|\",board[5],\"|\",board[6],\"\")\n",
        "    print(\"--- --- ---\")\n",
        "    print(\"\",board[7],\"|\",board[8],\"|\",board[9],\"\")\n",
        "\n",
        "def space_check(board, position):\n",
        "\n",
        "    return board[position] == ' '"
      ],
      "metadata": {
        "id": "_ZFifqOIp6bj"
      },
      "execution_count": null,
      "outputs": []
    },
    {
      "cell_type": "code",
      "source": [
        "space_check(test_board, 8)"
      ],
      "metadata": {
        "colab": {
          "base_uri": "https://localhost:8080/"
        },
        "id": "lqHgnbOjqY-N",
        "outputId": "17b12e41-1327-434c-9e4c-344d9cb69714"
      },
      "execution_count": null,
      "outputs": [
        {
          "output_type": "execute_result",
          "data": {
            "text/plain": [
              "True"
            ]
          },
          "metadata": {},
          "execution_count": 35
        }
      ]
    },
    {
      "cell_type": "code",
      "source": [
        "display_board(test_board)"
      ],
      "metadata": {
        "colab": {
          "base_uri": "https://localhost:8080/"
        },
        "id": "Sn6Yd0-4qk6X",
        "outputId": "9f4f3080-c272-417b-fe4a-b4b191c4e5b8"
      },
      "execution_count": null,
      "outputs": [
        {
          "output_type": "stream",
          "name": "stdout",
          "text": [
            " X | O | X \n",
            "--- --- ---\n",
            " O | X | O \n",
            "--- --- ---\n",
            " X |   | X \n"
          ]
        }
      ]
    },
    {
      "cell_type": "code",
      "source": [
        "def full_board_check(board):\n",
        "\n",
        "    return ' ' not in board"
      ],
      "metadata": {
        "id": "yKJoNpWlq-K3"
      },
      "execution_count": null,
      "outputs": []
    },
    {
      "cell_type": "code",
      "source": [
        "full_board_check(test_board)"
      ],
      "metadata": {
        "colab": {
          "base_uri": "https://localhost:8080/"
        },
        "id": "380aQQvPrBxa",
        "outputId": "57a8d4f8-9dfd-4d83-b198-54489fddb49e"
      },
      "execution_count": null,
      "outputs": [
        {
          "output_type": "execute_result",
          "data": {
            "text/plain": [
              "False"
            ]
          },
          "metadata": {},
          "execution_count": 44
        }
      ]
    },
    {
      "cell_type": "code",
      "source": [
        "def player_choice(board):\n",
        "  position = 'x'\n",
        "  acceptable_input = ['1','2','3','4','5','6','7','8','9']\n",
        "  while position not in acceptable_input or position.isdigit() == False:\n",
        "     position = input(\"Where do you want to place your mark? (1 is upper left and 9 is lower right) \")\n",
        "     if position not in acceptable_input or position.isdigit() == False:\n",
        "      print(\"This value is either not a number or it is not in range. Please enter a value between 1 and 9.\")\n",
        "\n",
        "  if space_check(board, int(position)) == True:\n",
        "    return int(position)\n",
        "  else:\n",
        "    print(\"This position is not free.\")"
      ],
      "metadata": {
        "id": "wYFeVw7nsrlj"
      },
      "execution_count": null,
      "outputs": []
    },
    {
      "cell_type": "code",
      "source": [
        "player_choice(test_board)"
      ],
      "metadata": {
        "colab": {
          "base_uri": "https://localhost:8080/"
        },
        "id": "BKMUQWbKsspQ",
        "outputId": "b331cd79-5f10-4584-bd08-77aff07eaa0c"
      },
      "execution_count": null,
      "outputs": [
        {
          "name": "stdout",
          "output_type": "stream",
          "text": [
            "Where do you want to place your mark? (1 is upper left and 9 is lower right) 8\n"
          ]
        },
        {
          "output_type": "execute_result",
          "data": {
            "text/plain": [
              "8"
            ]
          },
          "metadata": {},
          "execution_count": 74
        }
      ]
    },
    {
      "cell_type": "code",
      "source": [
        "def replay():\n",
        "  play_again = 'Wrong'\n",
        "  while play_again not in ['Y','N']:\n",
        "    play_again = input(\"Do you want to play again? (Y/N) \").upper()\n",
        "    if play_again not in ['Y','N']:\n",
        "      print(\"Sorry, I don't understand. \")\n",
        "  return play_again == 'Y'"
      ],
      "metadata": {
        "id": "VVyAU4pJwrnn"
      },
      "execution_count": null,
      "outputs": []
    },
    {
      "cell_type": "code",
      "source": [
        "replay()"
      ],
      "metadata": {
        "colab": {
          "base_uri": "https://localhost:8080/"
        },
        "id": "WJuyiqUFwt05",
        "outputId": "57dd9757-ebff-4591-b893-bec6a9060bec"
      },
      "execution_count": null,
      "outputs": [
        {
          "name": "stdout",
          "output_type": "stream",
          "text": [
            "Do you want to play again? (Y/N) n\n"
          ]
        },
        {
          "output_type": "execute_result",
          "data": {
            "text/plain": [
              "False"
            ]
          },
          "metadata": {},
          "execution_count": 81
        }
      ]
    },
    {
      "cell_type": "code",
      "source": [
        "def number_check(x):\n",
        "  return len(str(x)) > 1\n",
        "\n",
        "def calculation(number):\n",
        "  result = 0\n",
        "  list = []\n",
        "\n",
        "  for i in str(number):\n",
        "    list.append(i)\n",
        "  for item in list:\n",
        "    result += int(item)\n",
        "  return result"
      ],
      "metadata": {
        "id": "BXF04tZ78ewc"
      },
      "execution_count": null,
      "outputs": []
    },
    {
      "cell_type": "code",
      "source": [
        "number = input(\"Which number do you want to sum? \")\n",
        "prog_on = True\n",
        "\n",
        "while number_check(number):\n",
        "  if number_check(number):\n",
        "    number = calculation(number)\n",
        "print(number)"
      ],
      "metadata": {
        "colab": {
          "base_uri": "https://localhost:8080/"
        },
        "id": "gqumRflo9bo8",
        "outputId": "00ede47f-c3f8-42a7-d2b6-cbdc4ae79aad"
      },
      "execution_count": null,
      "outputs": [
        {
          "output_type": "stream",
          "name": "stdout",
          "text": [
            "Which number do you want to sum? 3456\n",
            "9\n"
          ]
        }
      ]
    },
    {
      "cell_type": "code",
      "source": [
        "class Dog():\n",
        "  def __init__(self,breed,name,spots):\n",
        "\n",
        "    # assign attributes to the arguments\n",
        "    # self.attribute_name = argument\n",
        "    # conventionally the same name\n",
        "    self.breed = breed\n",
        "    self.name = name\n",
        "    self.spots = spots"
      ],
      "metadata": {
        "id": "AVmqSg21RZSz"
      },
      "execution_count": null,
      "outputs": []
    },
    {
      "cell_type": "code",
      "source": [
        "mydog = Dog(breed='Labrador',name='Rufus',spots=False)"
      ],
      "metadata": {
        "id": "GmECiCoteYF6"
      },
      "execution_count": null,
      "outputs": []
    },
    {
      "cell_type": "code",
      "source": [
        "mydog.breed"
      ],
      "metadata": {
        "colab": {
          "base_uri": "https://localhost:8080/",
          "height": 37
        },
        "id": "zgOUHGY5efPM",
        "outputId": "f10dfb1d-4a2b-40bc-baa4-013ccba86da4"
      },
      "execution_count": null,
      "outputs": [
        {
          "output_type": "execute_result",
          "data": {
            "text/plain": [
              "'Labrador'"
            ],
            "application/vnd.google.colaboratory.intrinsic+json": {
              "type": "string"
            }
          },
          "metadata": {},
          "execution_count": 15
        }
      ]
    },
    {
      "cell_type": "code",
      "source": [
        "mydog.name"
      ],
      "metadata": {
        "colab": {
          "base_uri": "https://localhost:8080/",
          "height": 37
        },
        "id": "3_TR0kFPeidW",
        "outputId": "d459d405-060b-4277-cbf1-22779e527314"
      },
      "execution_count": null,
      "outputs": [
        {
          "output_type": "execute_result",
          "data": {
            "text/plain": [
              "'Rufus'"
            ],
            "application/vnd.google.colaboratory.intrinsic+json": {
              "type": "string"
            }
          },
          "metadata": {},
          "execution_count": 17
        }
      ]
    },
    {
      "cell_type": "code",
      "source": [
        "mydog.spots"
      ],
      "metadata": {
        "colab": {
          "base_uri": "https://localhost:8080/"
        },
        "id": "e1OX5srlekUt",
        "outputId": "4dc1f639-6c6c-4166-80f1-471e350bf39e"
      },
      "execution_count": null,
      "outputs": [
        {
          "output_type": "execute_result",
          "data": {
            "text/plain": [
              "False"
            ]
          },
          "metadata": {},
          "execution_count": 18
        }
      ]
    },
    {
      "cell_type": "code",
      "source": [
        "class Sample():\n",
        "  def __init__(self,argument):\n",
        "    self.attribute = argument"
      ],
      "metadata": {
        "id": "Ayddpq0nelbV"
      },
      "execution_count": null,
      "outputs": []
    },
    {
      "cell_type": "code",
      "source": [
        "test = Sample(argument=5)"
      ],
      "metadata": {
        "id": "kWzgm5Nte-KO"
      },
      "execution_count": null,
      "outputs": []
    },
    {
      "cell_type": "code",
      "source": [
        "test.attribute"
      ],
      "metadata": {
        "colab": {
          "base_uri": "https://localhost:8080/"
        },
        "id": "rB8sWNZyfB6c",
        "outputId": "a55bf69b-d1de-44fd-db95-cab3547a0745"
      },
      "execution_count": null,
      "outputs": [
        {
          "output_type": "execute_result",
          "data": {
            "text/plain": [
              "5"
            ]
          },
          "metadata": {},
          "execution_count": 25
        }
      ]
    },
    {
      "cell_type": "code",
      "source": [
        "class Dog():\n",
        "\n",
        "  #Object attribute\n",
        "  #same for all instances of a class\n",
        "  species = 'mammal'\n",
        "\n",
        "  def __init__(self,breed,name):\n",
        "\n",
        "    #Attributes\n",
        "    #take in arguments and assign to attribute\n",
        "    self.breed = breed\n",
        "    self.name = name\n",
        "\n",
        "  #Actions --> Methods\n",
        "  def bark(self):\n",
        "    print(\"WOOF! My name is {}!\".format(self.name))"
      ],
      "metadata": {
        "id": "nwpTGKpLfCqw"
      },
      "execution_count": 10,
      "outputs": []
    },
    {
      "cell_type": "code",
      "source": [
        "mydog = Dog('Spaniel', 'Ella')"
      ],
      "metadata": {
        "id": "aAj_sVg17Fdm"
      },
      "execution_count": 11,
      "outputs": []
    },
    {
      "cell_type": "code",
      "source": [
        "mydog.breed"
      ],
      "metadata": {
        "colab": {
          "base_uri": "https://localhost:8080/",
          "height": 37
        },
        "id": "-S_EPYmh7N8Q",
        "outputId": "4cbe9462-ffb2-4d7e-8877-3a3febe64a74"
      },
      "execution_count": 12,
      "outputs": [
        {
          "output_type": "execute_result",
          "data": {
            "text/plain": [
              "'Spaniel'"
            ],
            "application/vnd.google.colaboratory.intrinsic+json": {
              "type": "string"
            }
          },
          "metadata": {},
          "execution_count": 12
        }
      ]
    },
    {
      "cell_type": "code",
      "source": [
        "mydog.name"
      ],
      "metadata": {
        "colab": {
          "base_uri": "https://localhost:8080/",
          "height": 37
        },
        "id": "UHKPhXgo7PaL",
        "outputId": "978eafab-2550-46b3-de08-64c831c4829a"
      },
      "execution_count": 13,
      "outputs": [
        {
          "output_type": "execute_result",
          "data": {
            "text/plain": [
              "'Ella'"
            ],
            "application/vnd.google.colaboratory.intrinsic+json": {
              "type": "string"
            }
          },
          "metadata": {},
          "execution_count": 13
        }
      ]
    },
    {
      "cell_type": "code",
      "source": [
        "mydog.species"
      ],
      "metadata": {
        "colab": {
          "base_uri": "https://localhost:8080/",
          "height": 37
        },
        "id": "G0YPEl0x7ZSa",
        "outputId": "2f9e783d-e9de-486b-f649-db625d92b9d4"
      },
      "execution_count": 15,
      "outputs": [
        {
          "output_type": "execute_result",
          "data": {
            "text/plain": [
              "'mammal'"
            ],
            "application/vnd.google.colaboratory.intrinsic+json": {
              "type": "string"
            }
          },
          "metadata": {},
          "execution_count": 15
        }
      ]
    },
    {
      "cell_type": "code",
      "source": [
        "mydog.bark()"
      ],
      "metadata": {
        "colab": {
          "base_uri": "https://localhost:8080/"
        },
        "id": "dMwUomBW7pRG",
        "outputId": "3c3779b4-facd-4cb8-c5a9-14f34c208118"
      },
      "execution_count": 18,
      "outputs": [
        {
          "output_type": "stream",
          "name": "stdout",
          "text": [
            "WOOF! My name is Ella!\n"
          ]
        }
      ]
    },
    {
      "cell_type": "code",
      "source": [
        "class Circle():\n",
        "\n",
        "  pi = 3.14\n",
        "\n",
        "  def __init__(self, radius=1):\n",
        "    self.radius = radius\n",
        "    self.area = radius*radius*Circle.pi\n",
        "\n",
        "  def get_circumference(self):\n",
        "    return self.radius*2*Circle.pi"
      ],
      "metadata": {
        "id": "7YvI6vIZ_A7n"
      },
      "execution_count": 21,
      "outputs": []
    },
    {
      "cell_type": "code",
      "source": [
        "mycircle = Circle()"
      ],
      "metadata": {
        "id": "PpxSswNe_08-"
      },
      "execution_count": 23,
      "outputs": []
    },
    {
      "cell_type": "code",
      "source": [
        "mycircle.radius"
      ],
      "metadata": {
        "colab": {
          "base_uri": "https://localhost:8080/"
        },
        "id": "x5Sbms3Q_3j4",
        "outputId": "31e7dc5e-3e81-46aa-8878-e389dcfa4a1a"
      },
      "execution_count": 25,
      "outputs": [
        {
          "output_type": "execute_result",
          "data": {
            "text/plain": [
              "1"
            ]
          },
          "metadata": {},
          "execution_count": 25
        }
      ]
    },
    {
      "cell_type": "code",
      "source": [
        "secondcircle = Circle(30)"
      ],
      "metadata": {
        "id": "a5V18xf4_6Os"
      },
      "execution_count": 27,
      "outputs": []
    },
    {
      "cell_type": "code",
      "source": [
        "secondcircle.radius"
      ],
      "metadata": {
        "colab": {
          "base_uri": "https://localhost:8080/"
        },
        "id": "Bgv5pLEP_8tE",
        "outputId": "6fafed3c-c13e-4da9-e51c-8cae0f62f793"
      },
      "execution_count": 29,
      "outputs": [
        {
          "output_type": "execute_result",
          "data": {
            "text/plain": [
              "30"
            ]
          },
          "metadata": {},
          "execution_count": 29
        }
      ]
    },
    {
      "cell_type": "code",
      "source": [
        "secondcircle.get_circumference()"
      ],
      "metadata": {
        "colab": {
          "base_uri": "https://localhost:8080/"
        },
        "id": "UxpecOdE__Z0",
        "outputId": "c3f0863b-c1eb-49ab-f09b-f9d2c730819b"
      },
      "execution_count": 32,
      "outputs": [
        {
          "output_type": "execute_result",
          "data": {
            "text/plain": [
              "188.4"
            ]
          },
          "metadata": {},
          "execution_count": 32
        }
      ]
    },
    {
      "cell_type": "code",
      "source": [
        "secondcircle.area"
      ],
      "metadata": {
        "colab": {
          "base_uri": "https://localhost:8080/"
        },
        "id": "wkWkURdXACpJ",
        "outputId": "52e8a987-d3bf-4200-df27-79e7e26f4556"
      },
      "execution_count": 35,
      "outputs": [
        {
          "output_type": "execute_result",
          "data": {
            "text/plain": [
              "2826.0"
            ]
          },
          "metadata": {},
          "execution_count": 35
        }
      ]
    },
    {
      "cell_type": "code",
      "source": [
        "class Animal():\n",
        "  def __init__(self):\n",
        "    print(\"ANIMAL CREATED\")\n",
        "\n",
        "  def who_am_i(self):\n",
        "    print(\"I am an Animal.\")\n",
        "\n",
        "  def eat(self):\n",
        "    print(\"I am eating.\")"
      ],
      "metadata": {
        "id": "0Aka0h69TojD"
      },
      "execution_count": 37,
      "outputs": []
    },
    {
      "cell_type": "code",
      "source": [
        "myanimal = Animal()"
      ],
      "metadata": {
        "colab": {
          "base_uri": "https://localhost:8080/"
        },
        "id": "1dNxk-UuT64F",
        "outputId": "96e2e95e-c537-4707-c4fe-21b0bde4aafa"
      },
      "execution_count": 39,
      "outputs": [
        {
          "output_type": "stream",
          "name": "stdout",
          "text": [
            "ANIMAL CREATED\n"
          ]
        }
      ]
    },
    {
      "cell_type": "code",
      "source": [
        "myanimal.eat()"
      ],
      "metadata": {
        "colab": {
          "base_uri": "https://localhost:8080/"
        },
        "id": "iCh9_-DrT-Wa",
        "outputId": "5b9034ed-2df7-4a29-b341-7c82f5ed8e8d"
      },
      "execution_count": 42,
      "outputs": [
        {
          "output_type": "stream",
          "name": "stdout",
          "text": [
            "I am eating.\n"
          ]
        }
      ]
    },
    {
      "cell_type": "code",
      "source": [
        "class Bird(Animal):\n",
        "  def __init__(self):\n",
        "    Animal.__init__(self)\n",
        "    print(\"Bird created\")\n",
        "\n",
        "  def who_am_i(self):\n",
        "    print(\"I am a bird.\")\n",
        "\n",
        "  def speak(self):\n",
        "    print(\"chirp chirp chirp\")"
      ],
      "metadata": {
        "id": "-CzR14GxUBjI"
      },
      "execution_count": 62,
      "outputs": []
    },
    {
      "cell_type": "code",
      "source": [
        "mybird=Bird()"
      ],
      "metadata": {
        "colab": {
          "base_uri": "https://localhost:8080/"
        },
        "id": "z3fNHsF7UcDc",
        "outputId": "58094ef2-cfac-47e2-e1dc-8db7673e547f"
      },
      "execution_count": 63,
      "outputs": [
        {
          "output_type": "stream",
          "name": "stdout",
          "text": [
            "ANIMAL CREATED\n",
            "Bird created\n"
          ]
        }
      ]
    },
    {
      "cell_type": "code",
      "source": [
        "mybird.eat()"
      ],
      "metadata": {
        "colab": {
          "base_uri": "https://localhost:8080/"
        },
        "id": "pTOa88VrUnEO",
        "outputId": "a4e43691-9914-4ff3-f475-fc59dc648cca"
      },
      "execution_count": 64,
      "outputs": [
        {
          "output_type": "stream",
          "name": "stdout",
          "text": [
            "I am eating.\n"
          ]
        }
      ]
    },
    {
      "cell_type": "code",
      "source": [
        "mybird.who_am_i()"
      ],
      "metadata": {
        "colab": {
          "base_uri": "https://localhost:8080/"
        },
        "id": "kTWpEhB0VTcV",
        "outputId": "90608c46-e553-45eb-808a-493f50cad012"
      },
      "execution_count": 66,
      "outputs": [
        {
          "output_type": "stream",
          "name": "stdout",
          "text": [
            "I am a bird.\n"
          ]
        }
      ]
    },
    {
      "cell_type": "code",
      "source": [
        "mybird.speak()"
      ],
      "metadata": {
        "colab": {
          "base_uri": "https://localhost:8080/"
        },
        "id": "AKqsivQ3VzHb",
        "outputId": "4dd486f1-0e8c-481e-84dd-a0733a68193f"
      },
      "execution_count": 68,
      "outputs": [
        {
          "output_type": "stream",
          "name": "stdout",
          "text": [
            "chirp chirp chirp\n"
          ]
        }
      ]
    },
    {
      "cell_type": "code",
      "source": [
        "class Sheep():\n",
        "\n",
        "  def __init__(self, name):\n",
        "    self.name = name\n",
        "\n",
        "  def speak(self):\n",
        "    return self.name + \" says Baaaaah!\""
      ],
      "metadata": {
        "id": "m3kvUevaWrtz"
      },
      "execution_count": 85,
      "outputs": []
    },
    {
      "cell_type": "code",
      "source": [
        "class Cow():\n",
        "\n",
        "  def __init__(self, name):\n",
        "    self.name = name\n",
        "\n",
        "  def speak(self):\n",
        "    return self.name + \" says Mooooooo!\""
      ],
      "metadata": {
        "id": "0TfJXdg2W9_S"
      },
      "execution_count": 86,
      "outputs": []
    },
    {
      "cell_type": "code",
      "source": [
        "emma = Sheep('Emma')\n",
        "lucy = Cow('Lucy')"
      ],
      "metadata": {
        "id": "JAg3IvFuXP0F"
      },
      "execution_count": 87,
      "outputs": []
    },
    {
      "cell_type": "code",
      "source": [
        "emma.speak()"
      ],
      "metadata": {
        "colab": {
          "base_uri": "https://localhost:8080/",
          "height": 37
        },
        "id": "to2hgeaMXSjX",
        "outputId": "8919de7b-de30-4912-a216-d35ddd9f42f3"
      },
      "execution_count": 88,
      "outputs": [
        {
          "output_type": "execute_result",
          "data": {
            "text/plain": [
              "'Emma says Baaaaah!'"
            ],
            "application/vnd.google.colaboratory.intrinsic+json": {
              "type": "string"
            }
          },
          "metadata": {},
          "execution_count": 88
        }
      ]
    },
    {
      "cell_type": "code",
      "source": [
        "lucy.speak()"
      ],
      "metadata": {
        "colab": {
          "base_uri": "https://localhost:8080/",
          "height": 37
        },
        "id": "-tAhT-mFXYow",
        "outputId": "7f0ce23b-a97f-4b67-f917-ffc5825d7c85"
      },
      "execution_count": 90,
      "outputs": [
        {
          "output_type": "execute_result",
          "data": {
            "text/plain": [
              "'Lucy says Mooooooo!'"
            ],
            "application/vnd.google.colaboratory.intrinsic+json": {
              "type": "string"
            }
          },
          "metadata": {},
          "execution_count": 90
        }
      ]
    },
    {
      "cell_type": "code",
      "source": [
        "for pet in [emma,lucy]:\n",
        "  print(type(pet))\n",
        "  print(pet.speak())"
      ],
      "metadata": {
        "colab": {
          "base_uri": "https://localhost:8080/"
        },
        "id": "4T9y23ZcXtlj",
        "outputId": "117d582e-142a-4c0c-e95d-288dd70c13a9"
      },
      "execution_count": 93,
      "outputs": [
        {
          "output_type": "stream",
          "name": "stdout",
          "text": [
            "<class '__main__.Sheep'>\n",
            "Emma says Baaaaah!\n",
            "<class '__main__.Cow'>\n",
            "Lucy says Mooooooo!\n"
          ]
        }
      ]
    },
    {
      "cell_type": "code",
      "source": [
        "def pet_speak(pet):\n",
        "  print(pet.speak())"
      ],
      "metadata": {
        "id": "mMV_6U7CYbHg"
      },
      "execution_count": 95,
      "outputs": []
    },
    {
      "cell_type": "code",
      "source": [
        "pet_speak(emma)"
      ],
      "metadata": {
        "colab": {
          "base_uri": "https://localhost:8080/"
        },
        "id": "qRTv_6hIYgFB",
        "outputId": "837349e3-42b1-4838-8443-08ccb0549fd3"
      },
      "execution_count": 97,
      "outputs": [
        {
          "output_type": "stream",
          "name": "stdout",
          "text": [
            "Emma says Baaaaah!\n"
          ]
        }
      ]
    },
    {
      "cell_type": "code",
      "source": [
        "class Animal():\n",
        "\n",
        "  def __init__(self, name):\n",
        "    self.name = name\n",
        "\n",
        "  def speak(self):\n",
        "    raise NotImplementedError(\"Subclass must implement this abstract method\")"
      ],
      "metadata": {
        "id": "cvqVjT8VZdf4"
      },
      "execution_count": 98,
      "outputs": []
    },
    {
      "cell_type": "code",
      "source": [
        "class Horse(Animal):\n",
        "\n",
        "  def speak(self):\n",
        "    return self.name + \" says WHEEEEE!\""
      ],
      "metadata": {
        "id": "8rRvCgIkZwxE"
      },
      "execution_count": 100,
      "outputs": []
    },
    {
      "cell_type": "code",
      "source": [
        "tony = Animal('Tony')"
      ],
      "metadata": {
        "id": "Rn84S7IuZ7xC"
      },
      "execution_count": 103,
      "outputs": []
    },
    {
      "cell_type": "code",
      "source": [
        "tony.speak()"
      ],
      "metadata": {
        "colab": {
          "base_uri": "https://localhost:8080/",
          "height": 237
        },
        "id": "31CiiHtAaAPo",
        "outputId": "76890872-4467-4d2f-9f5a-b47597d97caf"
      },
      "execution_count": 105,
      "outputs": [
        {
          "output_type": "error",
          "ename": "NotImplementedError",
          "evalue": "Subclass must implement this abstract method",
          "traceback": [
            "\u001b[0;31m---------------------------------------------------------------------------\u001b[0m",
            "\u001b[0;31mNotImplementedError\u001b[0m                       Traceback (most recent call last)",
            "\u001b[0;32m<ipython-input-105-e8d026077ca4>\u001b[0m in \u001b[0;36m<cell line: 0>\u001b[0;34m()\u001b[0m\n\u001b[0;32m----> 1\u001b[0;31m \u001b[0mtony\u001b[0m\u001b[0;34m.\u001b[0m\u001b[0mspeak\u001b[0m\u001b[0;34m(\u001b[0m\u001b[0;34m)\u001b[0m\u001b[0;34m\u001b[0m\u001b[0;34m\u001b[0m\u001b[0m\n\u001b[0m",
            "\u001b[0;32m<ipython-input-98-8b10e0d75f26>\u001b[0m in \u001b[0;36mspeak\u001b[0;34m(self)\u001b[0m\n\u001b[1;32m      5\u001b[0m \u001b[0;34m\u001b[0m\u001b[0m\n\u001b[1;32m      6\u001b[0m   \u001b[0;32mdef\u001b[0m \u001b[0mspeak\u001b[0m\u001b[0;34m(\u001b[0m\u001b[0mself\u001b[0m\u001b[0;34m)\u001b[0m\u001b[0;34m:\u001b[0m\u001b[0;34m\u001b[0m\u001b[0;34m\u001b[0m\u001b[0m\n\u001b[0;32m----> 7\u001b[0;31m     \u001b[0;32mraise\u001b[0m \u001b[0mNotImplementedError\u001b[0m\u001b[0;34m(\u001b[0m\u001b[0;34m\"Subclass must implement this abstract method\"\u001b[0m\u001b[0;34m)\u001b[0m\u001b[0;34m\u001b[0m\u001b[0;34m\u001b[0m\u001b[0m\n\u001b[0m",
            "\u001b[0;31mNotImplementedError\u001b[0m: Subclass must implement this abstract method"
          ]
        }
      ]
    },
    {
      "cell_type": "code",
      "source": [
        "tony = Horse('Tony')"
      ],
      "metadata": {
        "id": "2nplMiYmaD53"
      },
      "execution_count": 107,
      "outputs": []
    },
    {
      "cell_type": "code",
      "source": [
        "tony.speak()"
      ],
      "metadata": {
        "colab": {
          "base_uri": "https://localhost:8080/",
          "height": 37
        },
        "id": "BHvThVJkaGKs",
        "outputId": "e01ebd33-15a0-48eb-d020-d63b5691a62c"
      },
      "execution_count": 108,
      "outputs": [
        {
          "output_type": "execute_result",
          "data": {
            "text/plain": [
              "'Tony says WHEEEEE!'"
            ],
            "application/vnd.google.colaboratory.intrinsic+json": {
              "type": "string"
            }
          },
          "metadata": {},
          "execution_count": 108
        }
      ]
    }
  ]
}
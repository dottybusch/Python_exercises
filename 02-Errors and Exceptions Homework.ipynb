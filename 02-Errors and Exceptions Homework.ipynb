{
  "cells": [
    {
      "cell_type": "markdown",
      "metadata": {
        "id": "7Mjqxbo-S0VS"
      },
      "source": [
        "___\n",
        "\n",
        "<a href='https://www.udemy.com/user/joseportilla/'><img src='../Pierian_Data_Logo.png'/></a>\n",
        "___\n",
        "<center><em>Content Copyright by Pierian Data</em></center>"
      ]
    },
    {
      "cell_type": "markdown",
      "metadata": {
        "id": "1bVMSSbHS0VV"
      },
      "source": [
        "# Errors and Exceptions Homework"
      ]
    },
    {
      "cell_type": "markdown",
      "metadata": {
        "id": "Xu8OW-EiS0VW"
      },
      "source": [
        "### Problem 1\n",
        "Handle the exception thrown by the code below by using <code>try</code> and <code>except</code> blocks."
      ]
    },
    {
      "cell_type": "code",
      "execution_count": 1,
      "metadata": {
        "id": "lKw6qixlS0VW",
        "outputId": "0cb14ed3-1bae-4165-97ba-9c7e66f2f959",
        "colab": {
          "base_uri": "https://localhost:8080/"
        }
      },
      "outputs": [
        {
          "output_type": "stream",
          "name": "stdout",
          "text": [
            "You are trying to do maths on strings.\n",
            "That's all for now.\n"
          ]
        }
      ],
      "source": [
        "try:\n",
        "  for i in ['a','b','c']:\n",
        "      print(i**2)\n",
        "except:\n",
        "  print(\"You are trying to do maths on strings.\")\n",
        "finally:\n",
        "  print(\"That's all for now.\")"
      ]
    },
    {
      "cell_type": "markdown",
      "metadata": {
        "id": "zlnoivMWS0VY"
      },
      "source": [
        "### Problem 2\n",
        "Handle the exception thrown by the code below by using <code>try</code> and <code>except</code> blocks. Then use a <code>finally</code> block to print 'All Done.'"
      ]
    },
    {
      "cell_type": "code",
      "execution_count": 2,
      "metadata": {
        "id": "pK5OgbJNS0VY",
        "outputId": "f64e455f-e7e7-4c52-c102-0a4e393e93d6",
        "colab": {
          "base_uri": "https://localhost:8080/"
        }
      },
      "outputs": [
        {
          "output_type": "stream",
          "name": "stdout",
          "text": [
            "You cannot divide by 0. Pick a different number.\n"
          ]
        }
      ],
      "source": [
        "x = 5\n",
        "y = 0\n",
        "\n",
        "try:\n",
        "  z = x/y\n",
        "except ZeroDivisionError:\n",
        "  print(\"You cannot divide by 0. Pick a different number.\")\n",
        "else:\n",
        "  print(z)"
      ]
    },
    {
      "cell_type": "markdown",
      "metadata": {
        "id": "ELcdhVv2S0VZ"
      },
      "source": [
        "### Problem 3\n",
        "Write a function that asks for an integer and prints the square of it. Use a <code>while</code> loop with a <code>try</code>, <code>except</code>, <code>else</code> block to account for incorrect inputs."
      ]
    },
    {
      "cell_type": "code",
      "execution_count": 15,
      "metadata": {
        "collapsed": true,
        "id": "88W2h7B4S0VZ"
      },
      "outputs": [],
      "source": [
        "def ask():\n",
        "    while True:\n",
        "      try:\n",
        "        result = int(input(\"Input an integer: \"))\n",
        "      except:\n",
        "        print(\"An error occured! Please try again!\")\n",
        "      else:\n",
        "        print(f\"Thank you, your number squared is: {result**2}\")\n",
        "        break"
      ]
    },
    {
      "cell_type": "code",
      "execution_count": 16,
      "metadata": {
        "id": "x7XiTSZ3S0VZ",
        "outputId": "13bc2a8b-1091-46cc-f4f8-3d951e4de7a3",
        "colab": {
          "base_uri": "https://localhost:8080/"
        }
      },
      "outputs": [
        {
          "output_type": "stream",
          "name": "stdout",
          "text": [
            "Input an integer: null\n",
            "An error occured! Please try again!\n",
            "Input an integer: 2\n",
            "Thank you, your number squared is: 4\n"
          ]
        }
      ],
      "source": [
        "ask()"
      ]
    },
    {
      "cell_type": "markdown",
      "metadata": {
        "id": "IStLWD7ES0Va"
      },
      "source": [
        "# Great Job!"
      ]
    }
  ],
  "metadata": {
    "kernelspec": {
      "display_name": "Python 3",
      "language": "python",
      "name": "python3"
    },
    "language_info": {
      "codemirror_mode": {
        "name": "ipython",
        "version": 3
      },
      "file_extension": ".py",
      "mimetype": "text/x-python",
      "name": "python",
      "nbconvert_exporter": "python",
      "pygments_lexer": "ipython3",
      "version": "3.6.6"
    },
    "colab": {
      "provenance": []
    }
  },
  "nbformat": 4,
  "nbformat_minor": 0
}
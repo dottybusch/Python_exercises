{
  "nbformat": 4,
  "nbformat_minor": 0,
  "metadata": {
    "colab": {
      "provenance": []
    },
    "kernelspec": {
      "name": "python3",
      "display_name": "Python 3"
    },
    "language_info": {
      "name": "python"
    }
  },
  "cells": [
    {
      "cell_type": "code",
      "execution_count": 1,
      "metadata": {
        "id": "EVACk6AOE80Y"
      },
      "outputs": [],
      "source": [
        "def number_check(x):\n",
        "  return len(str(x)) > 1"
      ]
    },
    {
      "cell_type": "code",
      "source": [
        "def calculation(number):\n",
        "  result = 0\n",
        "  list = []\n",
        "\n",
        "  for i in str(number):\n",
        "    list.append(i)\n",
        "  for item in list:\n",
        "    result += int(item)\n",
        "  return result"
      ],
      "metadata": {
        "id": "WgR2nNjZFBq1"
      },
      "execution_count": 2,
      "outputs": []
    },
    {
      "cell_type": "code",
      "source": [
        "number = input(\"Which number do you want to sum? \")\n",
        "prog_on = True\n",
        "\n",
        "while number_check(number):\n",
        "  if number_check(number):\n",
        "    number = calculation(number)\n",
        "print(number)"
      ],
      "metadata": {
        "colab": {
          "base_uri": "https://localhost:8080/"
        },
        "id": "26ih-4kpFDkW",
        "outputId": "369d124e-1c84-47b1-b1b5-7cbac0a89034"
      },
      "execution_count": 4,
      "outputs": [
        {
          "output_type": "stream",
          "name": "stdout",
          "text": [
            "Which number do you want to sum? 85756463\n",
            "8\n"
          ]
        }
      ]
    }
  ]
}
{
  "nbformat": 4,
  "nbformat_minor": 0,
  "metadata": {
    "colab": {
      "provenance": [],
      "include_colab_link": true
    },
    "kernelspec": {
      "name": "python3",
      "display_name": "Python 3"
    },
    "language_info": {
      "name": "python"
    }
  },
  "cells": [
    {
      "cell_type": "markdown",
      "metadata": {
        "id": "view-in-github",
        "colab_type": "text"
      },
      "source": [
        "<a href=\"https://colab.research.google.com/github/dottybusch/exercises/blob/main/query_quests.ipynb\" target=\"_parent\"><img src=\"https://colab.research.google.com/assets/colab-badge.svg\" alt=\"Open In Colab\"/></a>"
      ]
    },
    {
      "cell_type": "markdown",
      "source": [
        "# Query Quests: An Introduction to SQL\n",
        "\n",
        "This Notebook will guide you through your first steps in SQL.\n",
        "\n",
        "`Structured Query Language (SQL)` also called as **Sequel** allows you to to interact with a _Relational Database_.\n",
        "\n",
        "**Relational Database**: A relational database is a collection of related tables\\\n",
        "**Table**: It's a collection of related data organized in rows and columns\\\n",
        "**Column (Field)**: Column represent a specific attribute or category of data\\\n",
        "**Row (Record)**: Each row in the table is a single entry or instance of data\n",
        "\n",
        "---\n",
        "\n",
        "**Data Hygiene:**\\\n",
        "Ideally the entries in each column should be consistent in terms of data types i.e. numerical (integer or float), string, datetime, etc. Preferably, the column name should not contain whitespaces e.g. using `First_Name` or `FirstName` instead of `First Name` as column name/header is considered as better practice.\n",
        "\n",
        "---\n",
        "\n",
        "You can perform various operations on a database using SQL like adding, deleting, modifying, or updating data or tables. Based on this, SQL commands or instructions can be categorized into five types:\n",
        "- Data Definition Language (DDL):\n",
        "  - Function: To define, alter, or delete Database structures i.e. table, database\n",
        "  - Example commands: CREATE, DROP, ALTER, TRUNCATE, COMMENT, RENAME\n",
        "- Data Query Language (DQL):\n",
        "  - Function: To query data from a database i.e. data retrieval\n",
        "  - Example commands: SELECT ... FROM, WHERE, SELECT DISTINCT\n",
        "- Data Manipulation Language (DML):\n",
        "  - Function: To manipulate (add, delete, update) data in a database\n",
        "  - Example commands: INSERT, UPDATE, DELETE\n",
        "- Data Control Language (DCL):\n",
        "  - Function: To control accesses\n",
        "  - Example commands: GRANT, REVOKE\n",
        "- Transaction Control Language (TCL):\n",
        "  - Function: To group a set of tasks/instructions into a single execution unit\n",
        "  - Example commands: BEGIN TRANSACTION, COMMIT, ROLLBACK\n",
        "\n",
        "---\n",
        "\n",
        "To practice the commands we will import a dataset containing a list of countries along with their respective population (2024), capital city and the region they belong to.\n",
        "\n",
        "Please run the command below to complete the setup required to activate the sql environment in this notebook. Note that this needs to be rerun each time you close and reopen the notebook.\n",
        "\n",
        "---\n",
        "#### Name of the table: `Countries`\n",
        "#### Column names: `Country`, `Population`, `Capital City`, `Region`\n"
      ],
      "metadata": {
        "id": "2b6SACDw3xXJ"
      }
    },
    {
      "cell_type": "code",
      "execution_count": 1,
      "metadata": {
        "id": "Vc_5xPXy3obd",
        "colab": {
          "base_uri": "https://localhost:8080/"
        },
        "outputId": "69e069b7-0072-434c-f8ee-9197703ae1af"
      },
      "outputs": [
        {
          "output_type": "stream",
          "name": "stdout",
          "text": [
            "\u001b[92mPandas installed successfully\u001b[00m\n"
          ]
        }
      ],
      "source": [
        "# Let's first install the Pandas library\n",
        "!pip install -q pandas\n",
        "\n",
        "print(\"\\033[92mPandas installed successfully\\033[00m\")"
      ]
    },
    {
      "cell_type": "code",
      "source": [
        "# Import the libraries\n",
        "import pandas as pd\n",
        "\n",
        "print(\"\\033[92mPandas library imported successfully\\033[00m\")\n",
        "\n",
        "# The URL where the data is located\n",
        "file_url = 'https://github.com/FootlooseNFree/my_files/blob/main/countries.csv?raw=true'\n",
        "\n",
        "# Import the data from the URL\n",
        "df = pd.read_csv(file_url)\n",
        "print('\\033[92mData imported successfully\\033[00m')"
      ],
      "metadata": {
        "id": "kUbf-vW0IJ47",
        "colab": {
          "base_uri": "https://localhost:8080/"
        },
        "outputId": "cca68165-0ea8-49bf-9085-58c5b10a969e"
      },
      "execution_count": 2,
      "outputs": [
        {
          "output_type": "stream",
          "name": "stdout",
          "text": [
            "\u001b[92mPandas library imported successfully\u001b[00m\n",
            "\u001b[92mData imported successfully\u001b[00m\n"
          ]
        }
      ]
    },
    {
      "cell_type": "code",
      "source": [
        "# Import sqlite3\n",
        "import sqlite3\n",
        "\n",
        "# The function runs the SQL query\n",
        "def run_query():\n",
        "  con = sqlite3.connect('Countries.db')\n",
        "  cur = con.cursor()\n",
        "\n",
        "  # Create Countries table and add the data to it\n",
        "  df.to_sql('Countries', con, if_exists='replace', index=False)\n",
        "  pd.set_option('display.max_columns', None)\n",
        "  pd.set_option('display.max_rows', None)\n",
        "\n",
        "  query = input('Enter your SQL Query:  ')\n",
        "  try:\n",
        "    df_output = pd.read_sql_query(query, con)\n",
        "  except Exception as e:\n",
        "    print(e)\n",
        "    print('Try again!!!')\n",
        "    return None\n",
        "\n",
        "  con.close()\n",
        "  return df_output"
      ],
      "metadata": {
        "id": "w0GMuPRJJNEh"
      },
      "execution_count": 3,
      "outputs": []
    },
    {
      "cell_type": "markdown",
      "source": [
        "In these introductory sessions we will deal mainly deal with Data Query Language (DQL)\n",
        "\n",
        "The core query has the syntax:\\\n",
        "`SELECT ____________ FROM _____________;`\\\n",
        "This could be interpreted as `SELECT column(s) FROM table;`\\\n",
        "The `column(s)` can be either mentioned by comma separated names or _asterisk_ `*` can be used to specifiy `all` columns.\n",
        "\n",
        "`SELECT * FROM table_name;`\n",
        "\n",
        "`SELECT column1, column2, ... FROM table_name;`\n",
        "\n",
        "For better readability, the query is also written on multiple lines as follows:\n",
        "```\n",
        "SELECT column1, column2, ...\n",
        "FROM table_name;\n",
        "```\n",
        "---\n",
        "\n",
        "### Query 1\n",
        "\n",
        "Write a query to retrieve `all` columns and rows from the table `Countries`"
      ],
      "metadata": {
        "id": "7IDTJmQKFO-Z"
      }
    },
    {
      "cell_type": "code",
      "source": [
        "query_result = run_query()\n",
        "query_result"
      ],
      "metadata": {
        "id": "1N65pMCbKBeg"
      },
      "execution_count": null,
      "outputs": []
    },
    {
      "cell_type": "markdown",
      "source": [
        "### Query 2\n",
        "\n",
        "This time run a query to fetch only the columns `Country`, `Capital City` and `Population`\n",
        "\n",
        "**Note:** The column name `Capital City` contains a whitespace that might cause problems while parsing the column name. Hence, it should be wrapped with [backticks (or back quotes)](https://i.sstatic.net/TOn1U.png)\n",
        "\n",
        "\\`Capital City\\`"
      ],
      "metadata": {
        "id": "GlYRsYTfKM1e"
      }
    },
    {
      "cell_type": "code",
      "source": [
        "query_result = run_query()\n",
        "query_result"
      ],
      "metadata": {
        "id": "TejVEnbNLg43"
      },
      "execution_count": null,
      "outputs": []
    },
    {
      "cell_type": "markdown",
      "source": [
        "### Query 2a\n",
        "\n",
        "This time try changing the order of the columns in the above query 2 so that the table should have the following order: `Region`, `Country`, `Capital City`, `Population`"
      ],
      "metadata": {
        "id": "NR9HGW78ZHjM"
      }
    },
    {
      "cell_type": "code",
      "source": [
        "query_result = run_query()\n",
        "query_result"
      ],
      "metadata": {
        "id": "CyWh3Wd4Zhqx"
      },
      "execution_count": null,
      "outputs": []
    },
    {
      "cell_type": "markdown",
      "source": [
        "## Limiting the output to specific number of rows\n",
        "\n",
        "While running the above queries, the output retrieved all the rows in the dataset, which could lead to unnecessary time consumption if your data contains thousands of rows. The number of rows to be displayed can be limited with the `LIMIT` keyword.\n",
        "\n",
        "Syntax:\n",
        "```\n",
        "SELECT column1, column2\n",
        "FROM table_name\n",
        "LIMIT n\n",
        "```\n",
        "OR\n",
        "```\n",
        "SELECT column1, column2 FROM table_name LIMIT n;\n",
        "```\n",
        "\n",
        "Where `n` is the number of rows you want to retrieve\n",
        "\n",
        "---\n",
        "\n",
        "### Query 3\n",
        "\n",
        "Write a query to get the `Country`, `Capital City` and `Population` of the first **15** countries from the table `Countries`"
      ],
      "metadata": {
        "id": "4Z45zZDjMEGH"
      }
    },
    {
      "cell_type": "code",
      "source": [
        "query_result = run_query()\n",
        "query_result"
      ],
      "metadata": {
        "id": "GIt8e7e7UP74"
      },
      "execution_count": null,
      "outputs": []
    },
    {
      "cell_type": "markdown",
      "source": [
        "### Retrieving the unique values from a column or multiple columns\n",
        "\n",
        "Sometimes you might want to know what are the different categories in data from a single column or a combination of columns. The `SELECT DISTINCT` keyword extracts them for you.\n",
        "\n",
        "Syntax:\n",
        "```\n",
        "SELECT DISCINCT column1, column2, ...\n",
        "FROM table_name;\n",
        "```\n",
        "---\n",
        "### Query 4\n",
        "\n",
        "Can you find out what are the different regions in the `Region` column of the `Countries` table?"
      ],
      "metadata": {
        "id": "hzkkNZd7VC-q"
      }
    },
    {
      "cell_type": "code",
      "source": [
        "query_result = run_query()\n",
        "query_result"
      ],
      "metadata": {
        "id": "L_7sX1ieWBCT"
      },
      "execution_count": null,
      "outputs": []
    },
    {
      "cell_type": "markdown",
      "source": [
        "### Sorting the table\n",
        "\n",
        "The `ORDER BY` command will sort the data for you w.r.t. the column or columns you mention. The default sorting is ascending.\n",
        "\n",
        "Syntax:\n",
        "```\n",
        "SELECT column1, column2, ...\n",
        "FROM table_name\n",
        "ODER BY column1, column2, ... ASC|DESC;\n",
        "```\n",
        "The sorting can also be done w.r.t. an unselected column in the query.\n",
        "\n",
        "---\n",
        "### Query 5\n",
        "\n",
        "Sort the entire `Countries` table in the ascending order w.r.t the `Region` names"
      ],
      "metadata": {
        "id": "C6KLyam1WB6n"
      }
    },
    {
      "cell_type": "code",
      "source": [
        "query_result = run_query()\n",
        "query_result"
      ],
      "metadata": {
        "id": "Ixt8783AYWGc"
      },
      "execution_count": null,
      "outputs": []
    },
    {
      "cell_type": "markdown",
      "source": [
        "### Query 6\n",
        "\n",
        "Sort the `Countries` table in the descending order w.r.t. `Population`. Only `Country` and `Population` columns should be retrieved."
      ],
      "metadata": {
        "id": "KpVXuF1RYXAR"
      }
    },
    {
      "cell_type": "code",
      "source": [
        "query_result = run_query()\n",
        "query_result"
      ],
      "metadata": {
        "id": "2X6xGSDeYz9P"
      },
      "execution_count": null,
      "outputs": []
    },
    {
      "cell_type": "markdown",
      "source": [
        "### Querying with conditions\n",
        "\n",
        "After performing the above simple queries, you will probably feel the need to get more insights from the data based on certain conditions. SQL provides this flexibility with the `WHERE` clause combined by one or multiple conditions, which retrieves the data where the condition is met i.e. it is True.\n",
        "\n",
        "The table below explains what kind of conditions can be stated:\n",
        "\n",
        "|Operator|Description|\n",
        "|:---|:---|\n",
        "|`=`|Equal|\n",
        "|`>`|Greater than|\n",
        "|`<`|Less than|\n",
        "|`>=`|Greater than or equal to|\n",
        "|`<=`|Less than or equal to|\n",
        "|`!=`|Not equal to (some versions of SQL may use `<>`|\n",
        "|`BETWEEN`|Between a certain range|\n",
        "|`LIKE`|Search for a pattern using `%` or `_`|\n",
        "|`IN`|Match exactly in a list of values|\n",
        "\n",
        "To specify a **string** value in the condition single quotes should be used. Some machines might also allow double quotes.\\\n",
        "Multiple conditions can be combined by `AND` and `OR`\n",
        "\n",
        "Syntax:\n",
        "```\n",
        "SELECT column1, column2, ...\n",
        "FROM table_name\n",
        "WHERE condition\n",
        "```\n",
        "---\n",
        "### Query 7\n",
        "\n",
        "Retrieve the list of countries from the `Countries` table whose `Population` is more than 500000000 (500 million)"
      ],
      "metadata": {
        "id": "UUK1NsYrZveN"
      }
    },
    {
      "cell_type": "code",
      "source": [
        "query_result = run_query()\n",
        "query_result"
      ],
      "metadata": {
        "id": "Ry2-0vSVecWf"
      },
      "execution_count": null,
      "outputs": []
    },
    {
      "cell_type": "markdown",
      "source": [
        "### Query 8\n",
        "\n",
        "Which countries from the `Region` **Europe** have a population of more than 20000000 (20 million)?\n",
        "\n",
        "**Hint:** The two conditions can be combined by using `AND`"
      ],
      "metadata": {
        "id": "xhpWrA56edZ9"
      }
    },
    {
      "cell_type": "code",
      "source": [
        "query_result = run_query()\n",
        "query_result"
      ],
      "metadata": {
        "id": "DIrBcR_bgLIZ"
      },
      "execution_count": null,
      "outputs": []
    },
    {
      "cell_type": "markdown",
      "source": [
        "### Query 9\n",
        "\n",
        "Write a query to retrieve the countries with population between 10000000 (10 million) and 100000000 (100 million)\n",
        "\n",
        "**Hint:** The `BETWEEN ... AND ...` syntax can be used"
      ],
      "metadata": {
        "id": "rWWyU4I7geFv"
      }
    },
    {
      "cell_type": "code",
      "source": [
        "query_result = run_query()\n",
        "query_result"
      ],
      "metadata": {
        "id": "7BFsPrLlgpBK"
      },
      "execution_count": null,
      "outputs": []
    },
    {
      "cell_type": "markdown",
      "source": [
        "### Conditions with pattern using `LIKE`\n",
        "\n",
        "```\n",
        "SELECT column1, column2, ...\n",
        "FROM table_name\n",
        "WHERE column LIKE pattern;\n",
        "```\n",
        "\n",
        "The `LIKE` keyword can be used to match a pattern. It's helpful when the entire string value of the data is not know, and similarity is sought. `%` is used as a placeholder to match either zero, one or many string characters. `_` is used to match exactly one string character.\n",
        "\n",
        "E.g. For the string `Sequel`, the pattern `Seq%` will match the entire string i.e. `Sequel`, but `Seq_` will only match `Sequ`.\n",
        "\n",
        "---\n",
        "### Query 10\n",
        "\n",
        "Find the entries in the `Country` column of the `Countries` table that end in `-land`."
      ],
      "metadata": {
        "id": "5mrKCA32hMlf"
      }
    },
    {
      "cell_type": "code",
      "source": [
        "query_result = run_query()\n",
        "query_result"
      ],
      "metadata": {
        "id": "_TLUse8Ni9eR"
      },
      "execution_count": null,
      "outputs": []
    },
    {
      "cell_type": "markdown",
      "source": [
        "### Conditions for matching entries from a list using `IN`\n",
        "\n",
        "```\n",
        "SELECT column1, column2, ...\n",
        "FROM table_name\n",
        "WHERE column IN (item1, item2, ...);\n",
        "```\n",
        "The above condition will be satisfied for the entries in the column matching one of the items specified between the parantheses.\n",
        "\n",
        "---\n",
        "### Query 11\n",
        "\n",
        "Which countries in the `Countries` table are from the `Region`s `'Europe'` and `'Americas'`? Also include their respective `Capital City`."
      ],
      "metadata": {
        "id": "hVl40ltMjxnZ"
      }
    },
    {
      "cell_type": "code",
      "source": [
        "query_result = run_query()\n",
        "query_result"
      ],
      "metadata": {
        "id": "3B5ncjmDlxNR"
      },
      "execution_count": null,
      "outputs": []
    },
    {
      "cell_type": "markdown",
      "source": [
        "### Aggregate Functions\n",
        "\n",
        "An aggregate function is a function that performs a calculation on a set of values, and returns a single value.\n",
        "\n",
        "Aggregate functions are often used with the `GROUP BY` clause of the `SELECT` statement. The GROUP BY clause splits the result-set into groups of values and the aggregate function can be used to return a single value for each group.\n",
        "\n",
        "The most commonly used SQL aggregate functions are:\n",
        "\n",
        "`MIN(column_name)` - returns the smallest value within the selected column\\\n",
        "`MAX(column_name)` - returns the largest value within the selected column\\\n",
        "`COUNT(column_name)` - returns the number of rows in a selected column\\\n",
        "`SUM(column_name)` - returns the total sum of a numerical column\\\n",
        "`AVG(column_name)` - returns the average value of a numerical column\n",
        "\n",
        "---\n",
        "The basic syntax for aggregate functions is\n",
        "```\n",
        "SELECT aggregate_function(column_name)\n",
        "FROM table_name;\n",
        "```\n",
        "---\n",
        "### Query 12\n",
        "\n",
        "Which `Country` in the `Countries` table has the lowest population?\n",
        "\n",
        "**Hint:** While using the aggregate function, you can also specify the column name that will show you the country name."
      ],
      "metadata": {
        "id": "EnYcgQF8hTY2"
      }
    },
    {
      "cell_type": "code",
      "source": [
        "query_result = run_query()\n",
        "query_result"
      ],
      "metadata": {
        "id": "rDHnyLzxhGb9"
      },
      "execution_count": null,
      "outputs": []
    },
    {
      "cell_type": "markdown",
      "source": [
        "### Query 13\n",
        "Can you count the total number of entries in the `Country` column of the `Countries` table?"
      ],
      "metadata": {
        "id": "utyksYcKhJyr"
      }
    },
    {
      "cell_type": "code",
      "source": [
        "query_result = run_query()\n",
        "query_result"
      ],
      "metadata": {
        "id": "8f96mEnPhYao"
      },
      "execution_count": null,
      "outputs": []
    },
    {
      "cell_type": "markdown",
      "source": [
        "### Aggregate functions with conditions\n",
        "\n",
        "By adding the `WHERE` clause it is also possible to use the aggregate functions to calculate values based on the stated condition.\n",
        "\n",
        "The syntax will be as follows:\n",
        "```\n",
        "SELECT aggregate_function(column_name)\n",
        "FROM table_name\n",
        "WHERE condition;\n",
        "```\n",
        "---\n",
        "### Query 14\n",
        "Find the total `Population` for all the `Country` in `'Europe'`.\n",
        "\n",
        "**Hint:** Europe is in the `Region` column."
      ],
      "metadata": {
        "id": "BMALl5IqhaCw"
      }
    },
    {
      "cell_type": "code",
      "source": [
        "query_result = run_query()\n",
        "query_result"
      ],
      "metadata": {
        "id": "3Hw2QaRpinkW"
      },
      "execution_count": null,
      "outputs": []
    },
    {
      "cell_type": "markdown",
      "source": [
        "### Query 15\n",
        "\n",
        "What is the average population of the countries in `Americas`?"
      ],
      "metadata": {
        "id": "LSuOsTw9ippi"
      }
    },
    {
      "cell_type": "code",
      "source": [
        "query_result = run_query()\n",
        "query_result"
      ],
      "metadata": {
        "id": "VGKrtzB3jCLH"
      },
      "execution_count": null,
      "outputs": []
    },
    {
      "cell_type": "markdown",
      "source": [
        "### Counting unique elements\n",
        "\n",
        "By using the `DISTINCT` keyword in the `COUNT()` you can find the number of unique elements in that column\n",
        "\n",
        "```\n",
        "SELECT COUNT(DISTINCT column_name)\n",
        "FROM table_name;\n",
        "```\n",
        "---\n",
        "### Query 16\n",
        "How many unique regions are there in the `Region` column?"
      ],
      "metadata": {
        "id": "OB2nUIaGjNhK"
      }
    },
    {
      "cell_type": "code",
      "source": [
        "query_result = run_query()\n",
        "query_result"
      ],
      "metadata": {
        "id": "45NObvRSkAXd"
      },
      "execution_count": null,
      "outputs": []
    },
    {
      "cell_type": "markdown",
      "source": [],
      "metadata": {
        "id": "nKq5Jcg1kE6H"
      }
    },
    {
      "cell_type": "markdown",
      "source": [
        "### Aggregate functions with GROUP BY\n",
        "\n",
        "To get deeper insights from your data, you might sometimes want to see how the data is distributed for different categories. The `GROUP BY` statement allows you to do that.\\\n",
        "It allows you to find answers for questions like _How many employees are there in each departmen?_, _What is the average salary by gender in a particular company?_\n",
        "\n",
        "Syntax:\n",
        "```\n",
        "SELECT aggregate_function\n",
        "FROM table_name\n",
        "GROUP BY column_name;\n",
        "```\n",
        "```\n",
        "SELECT column1, aggregate_function, column2, ...\n",
        "FROM table_name\n",
        "GROUP BY column_name\n",
        "```\n",
        "---\n",
        "### Query 17\n",
        "How many countries are there in each `Region` of the `Countries` table? The retrieved data should show the columns `Region` followed by the count of countries in it."
      ],
      "metadata": {
        "id": "NVMGPPYlrB9S"
      }
    },
    {
      "cell_type": "code",
      "source": [
        "query_result = run_query()\n",
        "query_result"
      ],
      "metadata": {
        "id": "9k_zfdTOt373"
      },
      "execution_count": null,
      "outputs": []
    },
    {
      "cell_type": "markdown",
      "source": [
        "### Query 18\n",
        "Find the total `Population` by `Region` in the `Countries` table."
      ],
      "metadata": {
        "id": "mfO96GwCt90F"
      }
    },
    {
      "cell_type": "code",
      "source": [
        "query_result = run_query()\n",
        "query_result"
      ],
      "metadata": {
        "id": "lLJ0w6aauFVQ"
      },
      "execution_count": null,
      "outputs": []
    },
    {
      "cell_type": "markdown",
      "source": [
        "### GROUP BY with conditions using `HAVING`\n",
        "\n",
        "`HAVING` keyword is analogous to `WHERE` and is used exlusively while specifiying conditions for aggregate functions.\n",
        "\n",
        "Syntax:\n",
        "```\n",
        "SELECT aggregate_function\n",
        "FROM table_name\n",
        "GROUP BY column_name\n",
        "HAVING condition(aggregated)\n",
        "```\n",
        "---\n",
        "### Query 19\n",
        "In the `Countries` table, find the `Region`s which have more than 50 countries.\n",
        "\n",
        "Hint:\n",
        "- Select the columns `Region` and aggregated function count of `Country`\n",
        "- Group it by `Region`\n",
        "- Specify the condition with `HAVING` the count of `Country` greater than 50"
      ],
      "metadata": {
        "id": "qJmQ_j03exqa"
      }
    },
    {
      "cell_type": "code",
      "source": [
        "query_result = run_query()\n",
        "query_result"
      ],
      "metadata": {
        "id": "IKU57uwVgT7B"
      },
      "execution_count": null,
      "outputs": []
    },
    {
      "cell_type": "markdown",
      "source": [
        "### Query 20\n",
        "\n",
        "Which `Region` has a total population of all its countries combined as more than 1 billion (1000000000)?\n",
        "\n",
        "**Hint:**\n",
        "- Select the columns `Region` and the sum of the `Population`\n",
        "- Group the `Region`s\n",
        "- Specify the condition using `HAVING` that the sum of `Population` should be more than 1 billion"
      ],
      "metadata": {
        "id": "KCw88QS9jjAd"
      }
    },
    {
      "cell_type": "code",
      "source": [
        "query_result = run_query()\n",
        "query_result"
      ],
      "metadata": {
        "id": "ZylG9ksmj2oc"
      },
      "execution_count": null,
      "outputs": []
    },
    {
      "cell_type": "markdown",
      "source": [
        "### Order of writing SQL statements and clauses\n",
        "\n",
        "The SQL statements and clauses can be combined to perform more complex queries suited to your requirements. However, they must follow the below hierarchy:\n",
        "```\n",
        "SELECT\n",
        "------------\n",
        "DISTINCT\n",
        "------------\n",
        "FROM\n",
        "------------\n",
        "WHERE\n",
        "------------\n",
        "GROUP BY\n",
        "------------\n",
        "HAVING\n",
        "------------\n",
        "ORDER BY\n",
        "------------\n",
        "LIMIT\n",
        "------------\n",
        "```"
      ],
      "metadata": {
        "id": "Y0dSvpEpYa6H"
      }
    }
  ]
}
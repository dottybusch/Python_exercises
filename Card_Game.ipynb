{
  "nbformat": 4,
  "nbformat_minor": 0,
  "metadata": {
    "colab": {
      "provenance": []
    },
    "kernelspec": {
      "name": "python3",
      "display_name": "Python 3"
    },
    "language_info": {
      "name": "python"
    }
  },
  "cells": [
    {
      "cell_type": "code",
      "execution_count": 1,
      "metadata": {
        "id": "aKsudw_25a4k"
      },
      "outputs": [],
      "source": [
        "import random\n",
        "suits = (\"Hearts\",\"Diamonds\",\"Spades\",\"Clubs\")\n",
        "ranks = (\"Two\",\"Three\",\"Four\",\"Five\",\"Six\",\"Seven\",\"Eight\",\"Nine\",\"Ten\",\"Jack\",\"Queen\",\"King\",\"Ace\")\n",
        "values = {\"Two\":2,\"Three\":3,\"Four\":4,\"Five\":5,\"Six\":6,\"Seven\":7,\"Eight\":8,\"Nine\":9,\"Ten\":10,\"Jack\":11,\"Queen\":12,\"King\":13,\"Ace\":14}"
      ]
    },
    {
      "cell_type": "code",
      "source": [
        "class Card():\n",
        "\n",
        "  def __init__(self, suit, rank):\n",
        "    self.suit = suit\n",
        "    self.rank = rank\n",
        "    self.value = values[rank]\n",
        "\n",
        "  def __str__(self):\n",
        "    return self.rank + \" of \" + self.suit"
      ],
      "metadata": {
        "id": "4KcEygQP-bgI"
      },
      "execution_count": 2,
      "outputs": []
    },
    {
      "cell_type": "code",
      "source": [
        "two_hearts = Card(\"Hearts\", \"Two\")\n",
        "three_clubs = Card(\"Clubs\",\"Three\")"
      ],
      "metadata": {
        "id": "rM5_jpW5-wDu"
      },
      "execution_count": 3,
      "outputs": []
    },
    {
      "cell_type": "code",
      "source": [
        "two_hearts.value == three_clubs.value"
      ],
      "metadata": {
        "colab": {
          "base_uri": "https://localhost:8080/"
        },
        "id": "Emi6TfwQ-3M1",
        "outputId": "82089d1e-9b37-46fe-a029-8fb651ffd02b"
      },
      "execution_count": 4,
      "outputs": [
        {
          "output_type": "execute_result",
          "data": {
            "text/plain": [
              "False"
            ]
          },
          "metadata": {},
          "execution_count": 4
        }
      ]
    },
    {
      "cell_type": "code",
      "source": [
        "class Deck():\n",
        "\n",
        "  def __init__(self):\n",
        "    self.all_cards = []\n",
        "\n",
        "    for suit in suits:\n",
        "      for rank in ranks:\n",
        "        created_card = Card(suit, rank)\n",
        "\n",
        "        self.all_cards.append(created_card)\n",
        "\n",
        "  def shuffle(self):\n",
        "    random.shuffle(self.all_cards)\n",
        "\n",
        "  def deal_one(self):\n",
        "    return self.all_cards.pop()"
      ],
      "metadata": {
        "id": "4znA7owkMomM"
      },
      "execution_count": 5,
      "outputs": []
    },
    {
      "cell_type": "code",
      "source": [
        "newdeck = Deck()"
      ],
      "metadata": {
        "id": "ZP6eG4v_M8hJ"
      },
      "execution_count": 6,
      "outputs": []
    },
    {
      "cell_type": "code",
      "source": [
        "len(newdeck.all_cards)"
      ],
      "metadata": {
        "colab": {
          "base_uri": "https://localhost:8080/"
        },
        "id": "2qWIcrjkOtCv",
        "outputId": "09cc97cc-6284-4622-9c9f-ab3cc2e2e70d"
      },
      "execution_count": 7,
      "outputs": [
        {
          "output_type": "execute_result",
          "data": {
            "text/plain": [
              "52"
            ]
          },
          "metadata": {},
          "execution_count": 7
        }
      ]
    },
    {
      "cell_type": "code",
      "source": [
        "for card in newdeck.all_cards:\n",
        "\n",
        "  print(card)"
      ],
      "metadata": {
        "colab": {
          "base_uri": "https://localhost:8080/"
        },
        "id": "ajD9tCwdNTV5",
        "outputId": "182054d6-70c4-4b8e-dfdf-71c3b0f627da"
      },
      "execution_count": 8,
      "outputs": [
        {
          "output_type": "stream",
          "name": "stdout",
          "text": [
            "Two of Hearts\n",
            "Three of Hearts\n",
            "Four of Hearts\n",
            "Five of Hearts\n",
            "Six of Hearts\n",
            "Seven of Hearts\n",
            "Eight of Hearts\n",
            "Nine of Hearts\n",
            "Ten of Hearts\n",
            "Jack of Hearts\n",
            "Queen of Hearts\n",
            "King of Hearts\n",
            "Ace of Hearts\n",
            "Two of Diamonds\n",
            "Three of Diamonds\n",
            "Four of Diamonds\n",
            "Five of Diamonds\n",
            "Six of Diamonds\n",
            "Seven of Diamonds\n",
            "Eight of Diamonds\n",
            "Nine of Diamonds\n",
            "Ten of Diamonds\n",
            "Jack of Diamonds\n",
            "Queen of Diamonds\n",
            "King of Diamonds\n",
            "Ace of Diamonds\n",
            "Two of Spades\n",
            "Three of Spades\n",
            "Four of Spades\n",
            "Five of Spades\n",
            "Six of Spades\n",
            "Seven of Spades\n",
            "Eight of Spades\n",
            "Nine of Spades\n",
            "Ten of Spades\n",
            "Jack of Spades\n",
            "Queen of Spades\n",
            "King of Spades\n",
            "Ace of Spades\n",
            "Two of Clubs\n",
            "Three of Clubs\n",
            "Four of Clubs\n",
            "Five of Clubs\n",
            "Six of Clubs\n",
            "Seven of Clubs\n",
            "Eight of Clubs\n",
            "Nine of Clubs\n",
            "Ten of Clubs\n",
            "Jack of Clubs\n",
            "Queen of Clubs\n",
            "King of Clubs\n",
            "Ace of Clubs\n"
          ]
        }
      ]
    },
    {
      "cell_type": "code",
      "source": [
        "newdeck.shuffle()"
      ],
      "metadata": {
        "id": "QjVH4HxFOElb"
      },
      "execution_count": 9,
      "outputs": []
    },
    {
      "cell_type": "code",
      "source": [
        "print(newdeck.all_cards[-1])"
      ],
      "metadata": {
        "colab": {
          "base_uri": "https://localhost:8080/"
        },
        "id": "ANY17wm3OHEO",
        "outputId": "f961e93e-9ac1-4487-cc59-247fba3b12f0"
      },
      "execution_count": 10,
      "outputs": [
        {
          "output_type": "stream",
          "name": "stdout",
          "text": [
            "Two of Spades\n"
          ]
        }
      ]
    },
    {
      "cell_type": "code",
      "source": [
        "print(newdeck.deal_one())"
      ],
      "metadata": {
        "colab": {
          "base_uri": "https://localhost:8080/"
        },
        "id": "zX87lrylOUDg",
        "outputId": "35dd2f09-72c4-4476-c02a-5d7a561010d4"
      },
      "execution_count": 11,
      "outputs": [
        {
          "output_type": "stream",
          "name": "stdout",
          "text": [
            "Two of Spades\n"
          ]
        }
      ]
    },
    {
      "cell_type": "code",
      "source": [
        "len(newdeck.all_cards)"
      ],
      "metadata": {
        "colab": {
          "base_uri": "https://localhost:8080/"
        },
        "id": "0sOBl-VVOniD",
        "outputId": "6284e6e6-5b48-4e86-b82e-9578eb924b6e"
      },
      "execution_count": 12,
      "outputs": [
        {
          "output_type": "execute_result",
          "data": {
            "text/plain": [
              "51"
            ]
          },
          "metadata": {},
          "execution_count": 12
        }
      ]
    },
    {
      "cell_type": "code",
      "source": [
        "class Player():\n",
        "\n",
        "  def __init__(self, name):\n",
        "    self.name = name\n",
        "    self.all_cards = []\n",
        "\n",
        "  def remove_one(self):\n",
        "      return self.all_cards.pop(0)\n",
        "\n",
        "  def add_cards(self, newcard):\n",
        "    if type(newcard) == type([]):\n",
        "      self.all_cards.extend(newcard)\n",
        "    else:\n",
        "      self.all_cards.append(newcard)\n",
        "\n",
        "  def __str__(self):\n",
        "    return f'Player {self.name} has {len(self.all_cards)} cards.'"
      ],
      "metadata": {
        "id": "skhdWq7SVPMm"
      },
      "execution_count": 65,
      "outputs": []
    },
    {
      "cell_type": "code",
      "source": [
        "player1 = Player(\"Jose\")"
      ],
      "metadata": {
        "id": "khKeotO-Vx2a"
      },
      "execution_count": 14,
      "outputs": []
    },
    {
      "cell_type": "code",
      "source": [
        "print(player1)"
      ],
      "metadata": {
        "colab": {
          "base_uri": "https://localhost:8080/"
        },
        "id": "VoKh09XGV1F8",
        "outputId": "854d1cb7-f193-4d4e-aa03-2bd4bb67c562"
      },
      "execution_count": 15,
      "outputs": [
        {
          "output_type": "stream",
          "name": "stdout",
          "text": [
            "Player Jose has 0 cards.\n"
          ]
        }
      ]
    },
    {
      "cell_type": "code",
      "source": [
        "player1.add_cards(newdeck.all_cards[:3])"
      ],
      "metadata": {
        "id": "R6W0Ui14WG6s"
      },
      "execution_count": 16,
      "outputs": []
    },
    {
      "cell_type": "code",
      "source": [
        "print(player1)"
      ],
      "metadata": {
        "colab": {
          "base_uri": "https://localhost:8080/"
        },
        "id": "bcsT2f-PWQi8",
        "outputId": "d80ed9e0-bca0-4ef5-d89a-7085f22f9946"
      },
      "execution_count": 17,
      "outputs": [
        {
          "output_type": "stream",
          "name": "stdout",
          "text": [
            "Player Jose has 3 cards.\n"
          ]
        }
      ]
    },
    {
      "cell_type": "code",
      "source": [
        "player1.remove_one()"
      ],
      "metadata": {
        "id": "NeDK-wgMWbEE"
      },
      "execution_count": 18,
      "outputs": []
    },
    {
      "cell_type": "code",
      "source": [
        "print(player1)"
      ],
      "metadata": {
        "colab": {
          "base_uri": "https://localhost:8080/"
        },
        "id": "FsgmPo8ZWjd8",
        "outputId": "5412b529-7cf0-4251-9463-43d63f96604a"
      },
      "execution_count": 20,
      "outputs": [
        {
          "output_type": "stream",
          "name": "stdout",
          "text": [
            "Player Jose has 2 cards.\n"
          ]
        }
      ]
    },
    {
      "cell_type": "code",
      "source": [
        "player_one = Player(\"One\")\n",
        "player_two = Player(\"Two\")\n",
        "\n",
        "playing_deck = Deck()\n",
        "playing_deck.shuffle()\n",
        "\n",
        "for i in range(26):\n",
        "  player_one.add_cards(playing_deck.deal_one())\n",
        "  player_two.add_cards(playing_deck.deal_one())"
      ],
      "metadata": {
        "id": "VXOB7aQY3-q1"
      },
      "execution_count": 71,
      "outputs": []
    },
    {
      "cell_type": "code",
      "source": [
        "game_on = True"
      ],
      "metadata": {
        "id": "38Nq9X_74hZn"
      },
      "execution_count": 72,
      "outputs": []
    },
    {
      "cell_type": "code",
      "source": [
        "round_num = 0\n",
        "\n",
        "while game_on:\n",
        "  round_num += 1\n",
        "  print(f\"Round {round_num}\")\n",
        "\n",
        "  if len(player_one.all_cards) == 0:\n",
        "    print(\"Player One is out of cards. Player Two wins!\")\n",
        "    game_on = False\n",
        "    break\n",
        "  if len(player_two.all_cards) == 0:\n",
        "    print(\"Player Two is out of cards. Player One wins!\")\n",
        "    game_on = False\n",
        "    break\n",
        "\n",
        "  #Start a new round\n",
        "  player_one_cards = []\n",
        "  player_one_cards.append(player_one.remove_one())\n",
        "\n",
        "  player_two_cards = []\n",
        "  player_two_cards.append(player_two.remove_one())\n",
        "\n",
        "  at_war = True\n",
        "\n",
        "  while at_war:\n",
        "    if player_one_cards[-1].value < player_two_cards[-1].value:\n",
        "      player_two.add_cards(player_one_cards)\n",
        "      player_two.add_cards(player_two_cards)\n",
        "\n",
        "    elif player_one_cards[-1].value > player_two_cards[-1].value:\n",
        "      player_one.add_cards(player_one_cards)\n",
        "      player_one.add_cards(player_two_cards)\n",
        "\n",
        "    else:\n",
        "      print(\"WAR!\")\n",
        "\n",
        "      if len(player_one.all_cards) < 5:\n",
        "        print(\"Player One run out of cards. Game over at war.\")\n",
        "        print(\"Player Two wins!\")\n",
        "        game_on = False\n",
        "        break\n",
        "\n",
        "      elif len(player_two.all_cards) < 5:\n",
        "        print(\"Player Two run out of cards. Game over at war.\")\n",
        "        print(\"Player One wins!\")\n",
        "        game_on = False\n",
        "        break\n",
        "\n",
        "      else:\n",
        "        for i in range(5):\n",
        "          player_one_cards.append(player_one.remove_one())\n",
        "          player_two_cards.append(player_two.remove_one())"
      ],
      "metadata": {
        "colab": {
          "base_uri": "https://localhost:8080/"
        },
        "id": "Tbt6RcTS4vvl",
        "outputId": "9185df7e-1090-4b93-e5be-d784ed9924d4"
      },
      "execution_count": null,
      "outputs": [
        {
          "output_type": "stream",
          "name": "stdout",
          "text": [
            "Round 1\n"
          ]
        }
      ]
    }
  ]
}
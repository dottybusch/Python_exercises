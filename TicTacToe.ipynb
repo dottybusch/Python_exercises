{
  "nbformat": 4,
  "nbformat_minor": 0,
  "metadata": {
    "colab": {
      "provenance": []
    },
    "kernelspec": {
      "name": "python3",
      "display_name": "Python 3"
    },
    "language_info": {
      "name": "python"
    }
  },
  "cells": [
    {
      "cell_type": "code",
      "execution_count": null,
      "metadata": {
        "id": "HuSRNacP1juJ"
      },
      "outputs": [],
      "source": [
        "def display_board(board):\n",
        "    from IPython.display import clear_output\n",
        "    clear_output()\n",
        "    print(\"\",board[1],\"|\",board[2],\"|\",board[3],\"\")\n",
        "    print(\"--- --- ---\")\n",
        "    print(\"\",board[4],\"|\",board[5],\"|\",board[6],\"\")\n",
        "    print(\"--- --- ---\")\n",
        "    print(\"\",board[7],\"|\",board[8],\"|\",board[9],\"\")"
      ]
    },
    {
      "cell_type": "code",
      "source": [
        "def player_input():\n",
        "    marker = {1:'',2:''}\n",
        "\n",
        "    while marker[1] not in ['X', 'O']:\n",
        "      marker[1] = input(\"Player 1: Do you want to be X or O? \")\n",
        "      marker[1] = marker[1].upper()\n",
        "\n",
        "      if marker[1] not in ['X','O']:\n",
        "        print(\"Sorry, your input is invalid. Please select X or O.\")\n",
        "\n",
        "    if marker[1] == 'X':\n",
        "      marker[2] = 'O'\n",
        "    else:\n",
        "      marker[2] = 'X'\n",
        "\n",
        "    print(f'Okay, Player 1 will play as {marker[1]} and Player 2 will play as {marker[2]}.')\n",
        "    return marker"
      ],
      "metadata": {
        "id": "fFy3J_p01ssk"
      },
      "execution_count": null,
      "outputs": []
    },
    {
      "cell_type": "code",
      "source": [
        "def place_marker(board, marker, position):\n",
        "\n",
        "    board[position] = marker\n",
        "    return board"
      ],
      "metadata": {
        "id": "0hR01OTW1wat"
      },
      "execution_count": null,
      "outputs": []
    },
    {
      "cell_type": "code",
      "source": [
        "def win_check(board, mark):\n",
        "\n",
        "    won = False\n",
        "    if board[1] == mark and board[2] == mark and board[3] == mark:\n",
        "      won = True\n",
        "    elif board[4] == mark and board[5] == mark and board[6] == mark:\n",
        "      won = True\n",
        "    elif board[7] == mark and board[8] == mark and board[9] == mark:\n",
        "      won = True\n",
        "    elif board[1] == mark and board[4] == mark and board[7] == mark:\n",
        "      won = True\n",
        "    elif board[2] == mark and board[5] == mark and board[8] == mark:\n",
        "      won = True\n",
        "    elif board[3] == mark and board[6] == mark and board[9] == mark:\n",
        "      won = True\n",
        "    elif board[1] == mark and board[5] == mark and board[9] == mark:\n",
        "      won = True\n",
        "    elif board[3] == mark and board[5] == mark and board[7] == mark:\n",
        "      won = True\n",
        "    else:\n",
        "      won = False\n",
        "    return won"
      ],
      "metadata": {
        "id": "7fYHtVQX1z_C"
      },
      "execution_count": null,
      "outputs": []
    },
    {
      "cell_type": "code",
      "source": [
        "def choose_first():\n",
        "    import random\n",
        "    turn = ''\n",
        "    if random.randint(1,2) == 1:\n",
        "      print(\"Player 1 will start.\")\n",
        "      turn = 1\n",
        "    else:\n",
        "      print(\"Player 2 will start.\")\n",
        "      turn = 2\n",
        "    return turn"
      ],
      "metadata": {
        "id": "Zpck1AXn12_W"
      },
      "execution_count": null,
      "outputs": []
    },
    {
      "cell_type": "code",
      "source": [
        "def space_check(board, position):\n",
        "\n",
        "    return board[position] == ' '"
      ],
      "metadata": {
        "id": "XT4ku-2X2CK8"
      },
      "execution_count": null,
      "outputs": []
    },
    {
      "cell_type": "code",
      "source": [
        "def full_board_check(board):\n",
        "\n",
        "    return ' ' not in board"
      ],
      "metadata": {
        "id": "AKTklg112E1l"
      },
      "execution_count": null,
      "outputs": []
    },
    {
      "cell_type": "code",
      "source": [
        "def player_choice(board):\n",
        "  position = 'x'\n",
        "  position_free = False\n",
        "  acceptable_input = ['1','2','3','4','5','6','7','8','9']\n",
        "  while position_free == False:\n",
        "      position = input(\"Where do you want to place your mark? (1 is upper left and 9 is lower right) \")\n",
        "      if position not in acceptable_input or position.isdigit() == False:\n",
        "        print(\"This value is either not a number or it is not in range. Please enter a value between 1 and 9.\")\n",
        "\n",
        "      if space_check(board, int(position)) == True:\n",
        "        position_free == True\n",
        "        position = int(position)\n",
        "        return position\n",
        "      else:\n",
        "        print(\"This position is not free.\")"
      ],
      "metadata": {
        "id": "WizIv4MI2Hrq"
      },
      "execution_count": null,
      "outputs": []
    },
    {
      "cell_type": "code",
      "source": [
        "def replay():\n",
        "  play_again = 'Wrong'\n",
        "  while play_again not in ['Y','N']:\n",
        "    play_again = input(\"Do you want to play again? (Y/N) \").upper()\n",
        "    if play_again not in ['Y','N']:\n",
        "      print(\"Sorry, I don't understand. \")\n",
        "  return play_again == 'Y'"
      ],
      "metadata": {
        "id": "LTYVEU792Koi"
      },
      "execution_count": null,
      "outputs": []
    },
    {
      "cell_type": "code",
      "source": [
        "while True:\n",
        "\n",
        "  board = ['#',' ',' ',' ',' ',' ',' ',' ',' ',' ']\n",
        "  display_board(board)\n",
        "  marker = player_input()\n",
        "  turn = choose_first()\n",
        "  game_on = True\n",
        "\n",
        "  while game_on == True:\n",
        "    print(f'Player {turn}: ')\n",
        "    position = player_choice(board)\n",
        "    if space_check(board, position) == True:\n",
        "      place_marker(board,marker[turn],position)\n",
        "      display_board(board)\n",
        "    if win_check(board,marker[turn]) == True:\n",
        "      print(f'Player {turn} wins!')\n",
        "      game_on = False\n",
        "    elif full_board_check(board) == True:\n",
        "      print(\"You are tied!\")\n",
        "      game_on = False\n",
        "    else:\n",
        "      if turn == 1:\n",
        "        turn = 2\n",
        "      else:\n",
        "        turn = 1\n",
        "  game_on = replay()"
      ],
      "metadata": {
        "id": "kIzDO21m2Pyf"
      },
      "execution_count": null,
      "outputs": []
    }
  ]
}
{
  "nbformat": 4,
  "nbformat_minor": 0,
  "metadata": {
    "colab": {
      "provenance": []
    },
    "kernelspec": {
      "name": "python3",
      "display_name": "Python 3"
    },
    "language_info": {
      "name": "python"
    }
  },
  "cells": [
    {
      "cell_type": "code",
      "execution_count": null,
      "metadata": {
        "id": "HuSRNacP1juJ"
      },
      "outputs": [],
      "source": [
        "def display_board(board):\n",
        "    from IPython.display import clear_output\n",
        "    clear_output()\n",
        "    print(\"\",board[1],\"|\",board[2],\"|\",board[3],\"\")\n",
        "    print(\"--- --- ---\")\n",
        "    print(\"\",board[4],\"|\",board[5],\"|\",board[6],\"\")\n",
        "    print(\"--- --- ---\")\n",
        "    print(\"\",board[7],\"|\",board[8],\"|\",board[9],\"\")"
      ]
    },
    {
      "cell_type": "code",
      "source": [
        "def player_input():\n",
        "    marker = {1:'',2:''}\n",
        "\n",
        "    while marker[1] not in ['X', 'O']:\n",
        "      marker[1] = input(\"Player 1: Do you want to be X or O? \")\n",
        "      marker[1] = marker[1].upper()\n",
        "\n",
        "      if marker[1] not in ['X','O']:\n",
        "        print(\"Sorry, your input is invalid. Please select X or O.\")\n",
        "\n",
        "    if marker[1] == 'X':\n",
        "      marker[2] = 'O'\n",
        "    else:\n",
        "      marker[2] = 'X'\n",
        "\n",
        "    print(f'Okay, Player 1 will play as {marker[1]} and Player 2 will play as {marker[2]}.')\n",
        "    return marker"
      ],
      "metadata": {
        "id": "fFy3J_p01ssk"
      },
      "execution_count": null,
      "outputs": []
    },
    {
      "cell_type": "code",
      "source": [
        "def place_marker(board, marker, position):\n",
        "\n",
        "    board[position] = marker\n",
        "    return board"
      ],
      "metadata": {
        "id": "0hR01OTW1wat"
      },
      "execution_count": null,
      "outputs": []
    },
    {
      "cell_type": "code",
      "source": [
        "def win_check(board, mark):\n",
        "\n",
        "    won = False\n",
        "    if board[1] == mark and board[2] == mark and board[3] == mark:\n",
        "      won == True\n",
        "    elif board[4] == mark and board[5] == mark and board[6] == mark:\n",
        "      won == True\n",
        "    elif board[7] == mark and board[8] == mark and board[9] == mark:\n",
        "      won == True\n",
        "    elif board[1] == mark and board[4] == mark and board[7] == mark:\n",
        "      won == True\n",
        "    elif board[2] == mark and board[5] == mark and board[8] == mark:\n",
        "      won == True\n",
        "    elif board[3] == mark and board[6] == mark and board[9] == mark:\n",
        "      won == True\n",
        "    elif board[1] == mark and board[5] == mark and board[9] == mark:\n",
        "      won == True\n",
        "    elif board[3] == mark and board[5] == mark and board[7] == mark:\n",
        "      won == True\n",
        "    else:\n",
        "      won == False\n",
        "    return won"
      ],
      "metadata": {
        "id": "7fYHtVQX1z_C"
      },
      "execution_count": null,
      "outputs": []
    },
    {
      "cell_type": "code",
      "source": [
        "def choose_first():\n",
        "    import random\n",
        "    turn = ''\n",
        "    if random.randint(1,2) == 1:\n",
        "      print(\"Player 1 will start.\")\n",
        "      turn = 1\n",
        "    else:\n",
        "      print(\"Player 2 will start.\")\n",
        "      turn = 2\n",
        "    return turn"
      ],
      "metadata": {
        "id": "Zpck1AXn12_W"
      },
      "execution_count": null,
      "outputs": []
    },
    {
      "cell_type": "code",
      "source": [
        "def space_check(board, position):\n",
        "\n",
        "    if board[position] == ' ':\n",
        "      return True"
      ],
      "metadata": {
        "id": "XT4ku-2X2CK8"
      },
      "execution_count": null,
      "outputs": []
    },
    {
      "cell_type": "code",
      "source": [
        "def full_board_check(board):\n",
        "\n",
        "    return ' ' not in board"
      ],
      "metadata": {
        "id": "AKTklg112E1l"
      },
      "execution_count": null,
      "outputs": []
    },
    {
      "cell_type": "code",
      "source": [
        "def player_choice(board):\n",
        "  position = 'x'\n",
        "  position_free = False\n",
        "  acceptable_input = ['1','2','3','4','5','6','7','8','9']\n",
        "  while position_free == False:\n",
        "      position = input(\"Where do you want to place your mark? (1 is upper left and 9 is lower right) \")\n",
        "      if position not in acceptable_input or position.isdigit() == False:\n",
        "        print(\"This value is either not a number or it is not in range. Please enter a value between 1 and 9.\")\n",
        "\n",
        "      if space_check(board, int(position)) == True:\n",
        "        position_free == True\n",
        "        position = int(position)\n",
        "        return position\n",
        "      else:\n",
        "        print(\"This position is not free.\")"
      ],
      "metadata": {
        "id": "WizIv4MI2Hrq"
      },
      "execution_count": null,
      "outputs": []
    },
    {
      "cell_type": "code",
      "source": [
        "def replay():\n",
        "  play_again = 'Wrong'\n",
        "  while play_again not in ['Y','N']:\n",
        "    play_again = input(\"Do you want to play again? (Y/N) \").upper()\n",
        "    if play_again not in ['Y','N']:\n",
        "      print(\"Sorry, I don't understand. \")\n",
        "  return play_again == 'Y'"
      ],
      "metadata": {
        "id": "LTYVEU792Koi"
      },
      "execution_count": null,
      "outputs": []
    },
    {
      "cell_type": "code",
      "source": [
        "board = ['#',' ','X',' ',' ',' ',' ',' ',' ',' ']\n",
        "display_board(board)\n",
        "marker = player_input()\n",
        "turn = choose_first()\n",
        "\n",
        "while full_board_check(board) == False:\n",
        "  print(f'Player {turn}: ')\n",
        "  position = player_choice(board)\n",
        "  if space_check(board, position) == True:\n",
        "    place_marker(board,marker[turn],position)\n",
        "  display_board(board)\n",
        "  if turn == 1:\n",
        "    turn = 2\n",
        "  else:\n",
        "    turn = 1"
      ],
      "metadata": {
        "colab": {
          "base_uri": "https://localhost:8080/",
          "height": 460
        },
        "id": "kIzDO21m2Pyf",
        "outputId": "1f5c4fe9-4fee-4619-e666-738eacb1598b"
      },
      "execution_count": null,
      "outputs": [
        {
          "output_type": "stream",
          "name": "stdout",
          "text": [
            "   | X |   \n",
            "--- --- ---\n",
            "   |   |   \n",
            "--- --- ---\n",
            "   |   |   \n"
          ]
        },
        {
          "output_type": "error",
          "ename": "KeyboardInterrupt",
          "evalue": "Interrupted by user",
          "traceback": [
            "\u001b[0;31m---------------------------------------------------------------------------\u001b[0m",
            "\u001b[0;31mKeyboardInterrupt\u001b[0m                         Traceback (most recent call last)",
            "\u001b[0;32m<ipython-input-16-2a3a834460aa>\u001b[0m in \u001b[0;36m<cell line: 0>\u001b[0;34m()\u001b[0m\n\u001b[1;32m      1\u001b[0m \u001b[0mboard\u001b[0m \u001b[0;34m=\u001b[0m \u001b[0;34m[\u001b[0m\u001b[0;34m'#'\u001b[0m\u001b[0;34m,\u001b[0m\u001b[0;34m' '\u001b[0m\u001b[0;34m,\u001b[0m\u001b[0;34m'X'\u001b[0m\u001b[0;34m,\u001b[0m\u001b[0;34m' '\u001b[0m\u001b[0;34m,\u001b[0m\u001b[0;34m' '\u001b[0m\u001b[0;34m,\u001b[0m\u001b[0;34m' '\u001b[0m\u001b[0;34m,\u001b[0m\u001b[0;34m' '\u001b[0m\u001b[0;34m,\u001b[0m\u001b[0;34m' '\u001b[0m\u001b[0;34m,\u001b[0m\u001b[0;34m' '\u001b[0m\u001b[0;34m,\u001b[0m\u001b[0;34m' '\u001b[0m\u001b[0;34m]\u001b[0m\u001b[0;34m\u001b[0m\u001b[0;34m\u001b[0m\u001b[0m\n\u001b[1;32m      2\u001b[0m \u001b[0mdisplay_board\u001b[0m\u001b[0;34m(\u001b[0m\u001b[0mboard\u001b[0m\u001b[0;34m)\u001b[0m\u001b[0;34m\u001b[0m\u001b[0;34m\u001b[0m\u001b[0m\n\u001b[0;32m----> 3\u001b[0;31m \u001b[0mmarker\u001b[0m \u001b[0;34m=\u001b[0m \u001b[0mplayer_input\u001b[0m\u001b[0;34m(\u001b[0m\u001b[0;34m)\u001b[0m\u001b[0;34m\u001b[0m\u001b[0;34m\u001b[0m\u001b[0m\n\u001b[0m\u001b[1;32m      4\u001b[0m \u001b[0mturn\u001b[0m \u001b[0;34m=\u001b[0m \u001b[0mchoose_first\u001b[0m\u001b[0;34m(\u001b[0m\u001b[0;34m)\u001b[0m\u001b[0;34m\u001b[0m\u001b[0;34m\u001b[0m\u001b[0m\n\u001b[1;32m      5\u001b[0m \u001b[0;34m\u001b[0m\u001b[0m\n",
            "\u001b[0;32m<ipython-input-1-99b4b95e2b70>\u001b[0m in \u001b[0;36mplayer_input\u001b[0;34m()\u001b[0m\n\u001b[1;32m      3\u001b[0m \u001b[0;34m\u001b[0m\u001b[0m\n\u001b[1;32m      4\u001b[0m     \u001b[0;32mwhile\u001b[0m \u001b[0mmarker\u001b[0m\u001b[0;34m[\u001b[0m\u001b[0;36m1\u001b[0m\u001b[0;34m]\u001b[0m \u001b[0;32mnot\u001b[0m \u001b[0;32min\u001b[0m \u001b[0;34m[\u001b[0m\u001b[0;34m'X'\u001b[0m\u001b[0;34m,\u001b[0m \u001b[0;34m'O'\u001b[0m\u001b[0;34m]\u001b[0m\u001b[0;34m:\u001b[0m\u001b[0;34m\u001b[0m\u001b[0;34m\u001b[0m\u001b[0m\n\u001b[0;32m----> 5\u001b[0;31m       \u001b[0mmarker\u001b[0m\u001b[0;34m[\u001b[0m\u001b[0;36m1\u001b[0m\u001b[0;34m]\u001b[0m \u001b[0;34m=\u001b[0m \u001b[0minput\u001b[0m\u001b[0;34m(\u001b[0m\u001b[0;34m\"Player 1: Do you want to be X or O? \"\u001b[0m\u001b[0;34m)\u001b[0m\u001b[0;34m\u001b[0m\u001b[0;34m\u001b[0m\u001b[0m\n\u001b[0m\u001b[1;32m      6\u001b[0m       \u001b[0mmarker\u001b[0m\u001b[0;34m[\u001b[0m\u001b[0;36m1\u001b[0m\u001b[0;34m]\u001b[0m \u001b[0;34m=\u001b[0m \u001b[0mmarker\u001b[0m\u001b[0;34m[\u001b[0m\u001b[0;36m1\u001b[0m\u001b[0;34m]\u001b[0m\u001b[0;34m.\u001b[0m\u001b[0mupper\u001b[0m\u001b[0;34m(\u001b[0m\u001b[0;34m)\u001b[0m\u001b[0;34m\u001b[0m\u001b[0;34m\u001b[0m\u001b[0m\n\u001b[1;32m      7\u001b[0m \u001b[0;34m\u001b[0m\u001b[0m\n",
            "\u001b[0;32m/usr/local/lib/python3.11/dist-packages/ipykernel/kernelbase.py\u001b[0m in \u001b[0;36mraw_input\u001b[0;34m(self, prompt)\u001b[0m\n\u001b[1;32m   1175\u001b[0m                 \u001b[0;34m\"raw_input was called, but this frontend does not support input requests.\"\u001b[0m\u001b[0;34m\u001b[0m\u001b[0;34m\u001b[0m\u001b[0m\n\u001b[1;32m   1176\u001b[0m             )\n\u001b[0;32m-> 1177\u001b[0;31m         return self._input_request(\n\u001b[0m\u001b[1;32m   1178\u001b[0m             \u001b[0mstr\u001b[0m\u001b[0;34m(\u001b[0m\u001b[0mprompt\u001b[0m\u001b[0;34m)\u001b[0m\u001b[0;34m,\u001b[0m\u001b[0;34m\u001b[0m\u001b[0;34m\u001b[0m\u001b[0m\n\u001b[1;32m   1179\u001b[0m             \u001b[0mself\u001b[0m\u001b[0;34m.\u001b[0m\u001b[0m_parent_ident\u001b[0m\u001b[0;34m[\u001b[0m\u001b[0;34m\"shell\"\u001b[0m\u001b[0;34m]\u001b[0m\u001b[0;34m,\u001b[0m\u001b[0;34m\u001b[0m\u001b[0;34m\u001b[0m\u001b[0m\n",
            "\u001b[0;32m/usr/local/lib/python3.11/dist-packages/ipykernel/kernelbase.py\u001b[0m in \u001b[0;36m_input_request\u001b[0;34m(self, prompt, ident, parent, password)\u001b[0m\n\u001b[1;32m   1217\u001b[0m             \u001b[0;32mexcept\u001b[0m \u001b[0mKeyboardInterrupt\u001b[0m\u001b[0;34m:\u001b[0m\u001b[0;34m\u001b[0m\u001b[0;34m\u001b[0m\u001b[0m\n\u001b[1;32m   1218\u001b[0m                 \u001b[0;31m# re-raise KeyboardInterrupt, to truncate traceback\u001b[0m\u001b[0;34m\u001b[0m\u001b[0;34m\u001b[0m\u001b[0m\n\u001b[0;32m-> 1219\u001b[0;31m                 \u001b[0;32mraise\u001b[0m \u001b[0mKeyboardInterrupt\u001b[0m\u001b[0;34m(\u001b[0m\u001b[0;34m\"Interrupted by user\"\u001b[0m\u001b[0;34m)\u001b[0m \u001b[0;32mfrom\u001b[0m \u001b[0;32mNone\u001b[0m\u001b[0;34m\u001b[0m\u001b[0;34m\u001b[0m\u001b[0m\n\u001b[0m\u001b[1;32m   1220\u001b[0m             \u001b[0;32mexcept\u001b[0m \u001b[0mException\u001b[0m\u001b[0;34m:\u001b[0m\u001b[0;34m\u001b[0m\u001b[0;34m\u001b[0m\u001b[0m\n\u001b[1;32m   1221\u001b[0m                 \u001b[0mself\u001b[0m\u001b[0;34m.\u001b[0m\u001b[0mlog\u001b[0m\u001b[0;34m.\u001b[0m\u001b[0mwarning\u001b[0m\u001b[0;34m(\u001b[0m\u001b[0;34m\"Invalid Message:\"\u001b[0m\u001b[0;34m,\u001b[0m \u001b[0mexc_info\u001b[0m\u001b[0;34m=\u001b[0m\u001b[0;32mTrue\u001b[0m\u001b[0;34m)\u001b[0m\u001b[0;34m\u001b[0m\u001b[0;34m\u001b[0m\u001b[0m\n",
            "\u001b[0;31mKeyboardInterrupt\u001b[0m: Interrupted by user"
          ]
        }
      ]
    },
    {
      "cell_type": "code",
      "source": [
        "print('Welcome to Tic Tac Toe!')\n",
        "\n",
        "#while True:\n",
        "    # Set the game up here\n",
        "    #pass\n",
        "\n",
        "    #while game_on:\n",
        "        #Player 1 Turn\n",
        "\n",
        "\n",
        "        # Player2's turn.\n",
        "\n",
        "            #pass\n",
        "\n",
        "    #if not replay():\n",
        "        #break"
      ],
      "metadata": {
        "id": "-E702M7a2QCe",
        "colab": {
          "base_uri": "https://localhost:8080/"
        },
        "outputId": "d4de50c8-28a1-4acb-c04b-de4ba235d955"
      },
      "execution_count": null,
      "outputs": [
        {
          "output_type": "stream",
          "name": "stdout",
          "text": [
            "Welcome to Tic Tac Toe!\n"
          ]
        }
      ]
    }
  ]
}